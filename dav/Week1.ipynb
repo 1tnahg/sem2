{
 "cells": [
  {
   "cell_type": "markdown",
   "id": "73ab53af",
   "metadata": {
    "id": "TeznF4kNGinj"
   },
   "source": [
    "# Week 1"
   ]
  },
  {
   "cell_type": "markdown",
   "id": "d9c92665",
   "metadata": {},
   "source": [
    "**Name:** I Adarsh *(PG-12)*<br>\n",
    "**Registration Number:** 240905294<br>\n",
    "**Date:** 28/01/2025"
   ]
  },
  {
   "cell_type": "markdown",
   "id": "89f772bc",
   "metadata": {},
   "source": [
    "## Program 1\n",
    "Write a Python function to input two numbers and perform the calculator operations of (+, -, *, /)."
   ]
  },
  {
   "cell_type": "code",
   "execution_count": 122,
   "id": "005fa235",
   "metadata": {},
   "outputs": [],
   "source": [
    " def calc(x: float, y: float):\n",
    "    print(f\"{x} + {y} = {x + y}\")\n",
    "    print(f\"{x} - {y} = {x - y}\")\n",
    "    print(f\"{x} * {y} = {x * y}\")\n",
    "    print(f\"{x} / {y} = {x / y}\")"
   ]
  },
  {
   "cell_type": "code",
   "execution_count": 124,
   "id": "5bff81f0",
   "metadata": {},
   "outputs": [
    {
     "name": "stdout",
     "output_type": "stream",
     "text": [
      "x: 50\n",
      "y: 60\n",
      "50.0 + 60.0 = 110.0\n",
      "50.0 - 60.0 = -10.0\n",
      "50.0 * 60.0 = 3000.0\n",
      "50.0 / 60.0 = 0.8333333333333334\n"
     ]
    }
   ],
   "source": [
    "x = float(input(\"x: \"))\n",
    "y = float(input(\"y: \"))\n",
    "calc(x, y)"
   ]
  },
  {
   "cell_type": "markdown",
   "id": "5db03623",
   "metadata": {},
   "source": [
    "## Program 2\n",
    "Write a Python function that takes an integer and returns ```True``` if it’s a prime number and ```False``` otherwise."
   ]
  },
  {
   "cell_type": "code",
   "execution_count": 125,
   "id": "0ee2cd3d",
   "metadata": {},
   "outputs": [],
   "source": [
    "import math"
   ]
  },
  {
   "cell_type": "code",
   "execution_count": 126,
   "id": "f9905df0",
   "metadata": {},
   "outputs": [],
   "source": [
    "def is_prime(n: int) -> bool:\n",
    "    if n < 2:\n",
    "        return False\n",
    "    for i in range(2, int(math.sqrt(n))):\n",
    "        if n % i == 0: return False\n",
    "    return True"
   ]
  },
  {
   "cell_type": "code",
   "execution_count": 127,
   "id": "aba75a07",
   "metadata": {},
   "outputs": [
    {
     "name": "stdout",
     "output_type": "stream",
     "text": [
      "Enter a number: 7\n",
      "7 is a prime number\n"
     ]
    }
   ],
   "source": [
    "n = int(input(\"Enter a number: \"))\n",
    "\n",
    "if is_prime(n):\n",
    "    print(f\"{n} is a prime number\")\n",
    "\n",
    "else:\n",
    "    print(f\"{n} is a composite number\")"
   ]
  },
  {
   "cell_type": "markdown",
   "id": "5f9397a3",
   "metadata": {},
   "source": [
    "## Program 3\n",
    "Create a Python function that creates a sequence between 1 and 100 and prints all the odd numbers. Compute and display the sum of all the even numbers."
   ]
  },
  {
   "cell_type": "code",
   "execution_count": 3,
   "id": "50a718b4",
   "metadata": {},
   "outputs": [],
   "source": [
    "def print_odd():\n",
    "    sum = 0\n",
    "    for i in range(1, 20):\n",
    "        if i % 2 == 0:\n",
    "            sum += i\n",
    "        else:\n",
    "            print(i)\n",
    "    \n",
    "    print(f\"Sum of even numbers: {sum}\")"
   ]
  },
  {
   "cell_type": "code",
   "execution_count": 4,
   "id": "4ad8dbe1",
   "metadata": {},
   "outputs": [
    {
     "name": "stdout",
     "output_type": "stream",
     "text": [
      "1\n",
      "3\n",
      "5\n",
      "7\n",
      "9\n",
      "11\n",
      "13\n",
      "15\n",
      "17\n",
      "19\n",
      "Sum of even numbers: 90\n"
     ]
    }
   ],
   "source": [
    "print_odd()"
   ]
  },
  {
   "cell_type": "markdown",
   "id": "9ff962be",
   "metadata": {},
   "source": [
    "## Program 4\n",
    "Write a Python function to add two elements and display the result. The elements can be of type ```int```, ```float``` or ```str```."
   ]
  },
  {
   "cell_type": "code",
   "execution_count": 130,
   "id": "94a3bdff",
   "metadata": {},
   "outputs": [],
   "source": [
    "def add_elements(x, y):\n",
    "    if type(x) is str or type(y) is str:\n",
    "        return str(x) + str(y)\n",
    "    else:\n",
    "        return x + y"
   ]
  },
  {
   "cell_type": "code",
   "execution_count": 131,
   "id": "62c548a4",
   "metadata": {},
   "outputs": [
    {
     "data": {
      "text/plain": [
       "9.4"
      ]
     },
     "execution_count": 131,
     "metadata": {},
     "output_type": "execute_result"
    }
   ],
   "source": [
    "add_elements(6.4, 3)"
   ]
  },
  {
   "cell_type": "markdown",
   "id": "b74d2811",
   "metadata": {},
   "source": [
    "## Program 5\n",
    "Write a Python function that takes a string input from the user and counts the number of vowels and consonants in the string."
   ]
  },
  {
   "cell_type": "code",
   "execution_count": 132,
   "id": "0ea06506",
   "metadata": {},
   "outputs": [],
   "source": [
    "def countvc(string: str):\n",
    "    vowels = \"aeiou\"\n",
    "    consonants = \"bcdfghjklmnpqrstvwxyz\"\n",
    "    \n",
    "    vc = 0\n",
    "    cc = 0\n",
    "    \n",
    "    for i in string.lower():\n",
    "        if i in vowels:\n",
    "            vc += 1\n",
    "        elif i in consonants:\n",
    "            cc += 1\n",
    "        else:\n",
    "            pass\n",
    "    \n",
    "    print(f\"Vowels: {vc}\")\n",
    "    print(f\"Consonants: {cc}\")"
   ]
  },
  {
   "cell_type": "code",
   "execution_count": 79,
   "id": "b8cdfd3c",
   "metadata": {},
   "outputs": [
    {
     "name": "stdout",
     "output_type": "stream",
     "text": [
      "Enter a sentence: Hello, World!\n",
      "Vowels: 3\n",
      "Consonants: 7\n"
     ]
    }
   ],
   "source": [
    "string = str(input(\"Enter a sentence: \"))\n",
    "countvc(string)"
   ]
  }
 ],
 "metadata": {
  "kernelspec": {
   "display_name": "Python 3 (ipykernel)",
   "language": "python",
   "name": "python3"
  },
  "language_info": {
   "codemirror_mode": {
    "name": "ipython",
    "version": 3
   },
   "file_extension": ".py",
   "mimetype": "text/x-python",
   "name": "python",
   "nbconvert_exporter": "python",
   "pygments_lexer": "ipython3",
   "version": "3.9.13"
  }
 },
 "nbformat": 4,
 "nbformat_minor": 5
}
