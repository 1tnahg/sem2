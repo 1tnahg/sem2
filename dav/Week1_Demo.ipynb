{
 "cells": [
  {
   "cell_type": "markdown",
   "id": "0b04e8cd",
   "metadata": {},
   "source": [
    "# Week 1\n",
    "## Demo 1: Python Language Basics Exercises"
   ]
  },
  {
   "cell_type": "markdown",
   "id": "3dd23b82",
   "metadata": {},
   "source": [
    "**Name:** I Adarsh *(PG-12)*<br>\n",
    "**Registration Number:** 240905294<br>\n",
    "**Date:** 28/01/2025"
   ]
  },
  {
   "cell_type": "code",
   "execution_count": 92,
   "id": "e8a40e49",
   "metadata": {},
   "outputs": [
    {
     "name": "stdout",
     "output_type": "stream",
     "text": [
      "Hello, World!\n"
     ]
    }
   ],
   "source": [
    "print('Hello, World!')"
   ]
  },
  {
   "cell_type": "code",
   "execution_count": 93,
   "id": "acd0cb15",
   "metadata": {},
   "outputs": [
    {
     "name": "stdout",
     "output_type": "stream",
     "text": [
      "5\n"
     ]
    }
   ],
   "source": [
    "# Scalar data types - Integer (int)\n",
    "x = 2\n",
    "y = 3\n",
    "z = x + y\n",
    "\n",
    "print(z)"
   ]
  },
  {
   "cell_type": "code",
   "execution_count": 94,
   "id": "d8afbd59",
   "metadata": {},
   "outputs": [
    {
     "name": "stdout",
     "output_type": "stream",
     "text": [
      "0.6666666666666666\n",
      "0\n"
     ]
    }
   ],
   "source": [
    "# Mathematical operations\n",
    "print(x / y)\n",
    "print(x // y)"
   ]
  },
  {
   "cell_type": "code",
   "execution_count": 95,
   "id": "4ef037e8",
   "metadata": {},
   "outputs": [
    {
     "name": "stdout",
     "output_type": "stream",
     "text": [
      "0.34568\n"
     ]
    }
   ],
   "source": [
    "# Scalar data types - Floating point (float)\n",
    "fX = 0.345\n",
    "fY = 6.8e-4\n",
    "print(fX + fY)"
   ]
  },
  {
   "cell_type": "code",
   "execution_count": 96,
   "id": "b6745027",
   "metadata": {},
   "outputs": [
    {
     "name": "stdout",
     "output_type": "stream",
     "text": [
      "String that spans\n",
      "Multiple Lines\n"
     ]
    },
    {
     "data": {
      "text/plain": [
       "1"
      ]
     },
     "execution_count": 96,
     "metadata": {},
     "output_type": "execute_result"
    }
   ],
   "source": [
    "# Scalar data types - String (str)\n",
    "strX = 'This is my first Python class'\n",
    "strY = \"\"\"String that spans\n",
    "Multiple Lines\"\"\"\n",
    "\n",
    "print(strY)\n",
    "strY.count(\"\\n\")"
   ]
  },
  {
   "cell_type": "code",
   "execution_count": 97,
   "id": "749a7d3a",
   "metadata": {},
   "outputs": [
    {
     "data": {
      "text/plain": [
       "'This is my first Python demonstration'"
      ]
     },
     "execution_count": 97,
     "metadata": {},
     "output_type": "execute_result"
    }
   ],
   "source": [
    "# Strings are immutable\n",
    "strZ = strX.replace(\"class\", \"demonstration\")\n",
    "strZ"
   ]
  },
  {
   "cell_type": "code",
   "execution_count": 98,
   "id": "08f79bc3",
   "metadata": {},
   "outputs": [],
   "source": [
    "# Scalar data types - Boolean (bool)\n",
    "boolX = True\n",
    "boolY = False\n",
    "\n",
    "# Question mark (?) before or after a variable displays general information\n",
    "boolX?"
   ]
  },
  {
   "cell_type": "code",
   "execution_count": 99,
   "id": "ba2e319d",
   "metadata": {},
   "outputs": [
    {
     "name": "stdout",
     "output_type": "stream",
     "text": [
      "<class 'int'>\n",
      "<class 'bool'>\n"
     ]
    }
   ],
   "source": [
    "# Type casting\n",
    "Int = 1\n",
    "boolZ = bool(Int)\n",
    "boolZ\n",
    "print(type(Int))\n",
    "print(type(boolZ))"
   ]
  },
  {
   "cell_type": "code",
   "execution_count": 100,
   "id": "0a546510",
   "metadata": {},
   "outputs": [],
   "source": [
    "# None is the null data type in Python\n",
    "def fn_add_maybe_multiply(a, b, c=None):\n",
    "    res = a + b\n",
    "    \n",
    "    if c is not None:\n",
    "        res *= c\n",
    "    \n",
    "    return res"
   ]
  },
  {
   "cell_type": "code",
   "execution_count": 101,
   "id": "f26d9654",
   "metadata": {},
   "outputs": [
    {
     "data": {
      "text/plain": [
       "3"
      ]
     },
     "execution_count": 101,
     "metadata": {},
     "output_type": "execute_result"
    }
   ],
   "source": [
    "fn_add_maybe_multiply?\n",
    "fn_add_maybe_multiply(1, 2, None)"
   ]
  },
  {
   "cell_type": "code",
   "execution_count": 102,
   "id": "c0f510f5",
   "metadata": {},
   "outputs": [
    {
     "name": "stdout",
     "output_type": "stream",
     "text": [
      "It's negative\n"
     ]
    }
   ],
   "source": [
    "# Control flow (if, elif, else)\n",
    "x = -5\n",
    "\n",
    "if x < 0:\n",
    "    print(\"It's negative\")"
   ]
  },
  {
   "cell_type": "code",
   "execution_count": 103,
   "id": "4186c95d",
   "metadata": {},
   "outputs": [
    {
     "name": "stdout",
     "output_type": "stream",
     "text": [
      "Postive and greater than or equal to 5\n"
     ]
    }
   ],
   "source": [
    "x = 5\n",
    "\n",
    "if x < 0:\n",
    "    print(\"It's negative\")\n",
    "elif x == 0:\n",
    "    print(\"Equal to zero\")\n",
    "elif 0 < x < 5:\n",
    "    print(\"Positive but less than 5\")\n",
    "else:\n",
    "    print(\"Postive and greater than or equal to 5\")"
   ]
  },
  {
   "cell_type": "code",
   "execution_count": 104,
   "id": "7cd412b6",
   "metadata": {},
   "outputs": [
    {
     "data": {
      "text/plain": [
       "12"
      ]
     },
     "execution_count": 104,
     "metadata": {},
     "output_type": "execute_result"
    }
   ],
   "source": [
    "# Loops (for)\n",
    "seqA = [1, 2, None, 4, None, 5]\n",
    "tot = 0\n",
    "\n",
    "for val in seqA:\n",
    "    if val is None:\n",
    "        continue\n",
    "    tot += val\n",
    "tot"
   ]
  },
  {
   "cell_type": "code",
   "execution_count": 105,
   "id": "3bd8c642",
   "metadata": {},
   "outputs": [
    {
     "data": {
      "text/plain": [
       "13"
      ]
     },
     "execution_count": 105,
     "metadata": {},
     "output_type": "execute_result"
    }
   ],
   "source": [
    "# Loops (for)\n",
    "seqB = [1, 2, 0, 4, 6, 5, 2, 1]\n",
    "tot_until_5 = 0\n",
    "\n",
    "for val in seqB:\n",
    "    if val == 5:\n",
    "        break\n",
    "    tot_until_5 += val\n",
    "tot_until_5"
   ]
  },
  {
   "cell_type": "code",
   "execution_count": 106,
   "id": "4a4ccd28",
   "metadata": {},
   "outputs": [
    {
     "data": {
      "text/plain": [
       "504"
      ]
     },
     "execution_count": 106,
     "metadata": {},
     "output_type": "execute_result"
    }
   ],
   "source": [
    "# Loops (while)\n",
    "x = 256\n",
    "total = 0\n",
    "\n",
    "while x > 0:\n",
    "    if total > 500:\n",
    "        break\n",
    "    total += x\n",
    "    x = x // 2\n",
    "total"
   ]
  },
  {
   "cell_type": "code",
   "execution_count": 107,
   "id": "2f632ea4",
   "metadata": {},
   "outputs": [],
   "source": [
    "# pass is the \"do nothing\" statement in Python\n",
    "x = 0\n",
    "\n",
    "if x < 0:\n",
    "    print(\"negative!\")\n",
    "elif x == 0:\n",
    "    pass\n",
    "else:\n",
    "    print(\"positive!\")"
   ]
  },
  {
   "cell_type": "code",
   "execution_count": 108,
   "id": "a2a23785",
   "metadata": {},
   "outputs": [
    {
     "data": {
      "text/plain": [
       "[0, 1, 2, 3, 4, 5, 6, 7, 8, 9]"
      ]
     },
     "execution_count": 108,
     "metadata": {},
     "output_type": "execute_result"
    }
   ],
   "source": [
    "# range() function\n",
    "list(range(10))"
   ]
  },
  {
   "cell_type": "code",
   "execution_count": 109,
   "id": "001d5631",
   "metadata": {},
   "outputs": [
    {
     "name": "stdout",
     "output_type": "stream",
     "text": [
      "1\n",
      "2\n",
      "3\n",
      "4\n"
     ]
    }
   ],
   "source": [
    "seq = [1, 2, 3, 4]\n",
    "\n",
    "for i in range(len(seq)):\n",
    "    print(seq[i])"
   ]
  },
  {
   "cell_type": "code",
   "execution_count": null,
   "id": "fefa6976",
   "metadata": {},
   "outputs": [],
   "source": []
  }
 ],
 "metadata": {
  "kernelspec": {
   "display_name": "Python 3 (ipykernel)",
   "language": "python",
   "name": "python3"
  },
  "language_info": {
   "codemirror_mode": {
    "name": "ipython",
    "version": 3
   },
   "file_extension": ".py",
   "mimetype": "text/x-python",
   "name": "python",
   "nbconvert_exporter": "python",
   "pygments_lexer": "ipython3",
   "version": "3.9.13"
  }
 },
 "nbformat": 4,
 "nbformat_minor": 5
}
