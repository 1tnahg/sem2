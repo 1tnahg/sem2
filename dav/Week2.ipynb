{
 "cells": [
  {
   "cell_type": "markdown",
   "metadata": {
    "id": "TeznF4kNGinj"
   },
   "source": [
    "# Week 2"
   ]
  },
  {
   "cell_type": "markdown",
   "metadata": {},
   "source": [
    "**Name:** I Adarsh *(PG-12)*<br>\n",
    "**Registration Number:** 240905294<br>\n",
    "**Date:** 28/01/2025"
   ]
  },
  {
   "cell_type": "markdown",
   "metadata": {},
   "source": [
    "# Program 1\n",
    "Write a Python code block that inputs numbers into a list. Print the largest, smallest, the sum, and the average of the numbers. Count occurrences of a specific number in the list."
   ]
  },
  {
   "cell_type": "code",
   "execution_count": 62,
   "metadata": {},
   "outputs": [
    {
     "name": "stdout",
     "output_type": "stream",
     "text": [
      "Enter the length of the list: 5\n",
      "Enter element 1: 20\n",
      "Enter element 2: 30\n",
      "Enter element 3: 40\n",
      "Enter element 4: 50\n",
      "Enter element 5: 60\n",
      "Largest element: 60\n",
      "Smallest element: 20\n",
      "Sum: 200\n",
      "Average: 40.0\n"
     ]
    }
   ],
   "source": [
    "arr = []\n",
    "n = int(input(\"Enter the length of the list: \"))\n",
    "\n",
    "for i in range(n):\n",
    "    arr.append(int(input(f\"Enter element {i + 1}: \")))\n",
    "\n",
    "print(f\"Largest element: {max(arr)}\")\n",
    "print(f\"Smallest element: {min(arr)}\")\n",
    "print(f\"Sum: {sum(arr)}\")\n",
    "print(f\"Average: {sum(arr) / len(arr)}\")"
   ]
  },
  {
   "cell_type": "markdown",
   "metadata": {},
   "source": [
    "# Program 2\n",
    "Write a Python code block to create a tuple with five elements. Try to change one of the elements and handle the error that occurs. Print a message that explains why the error occurred."
   ]
  },
  {
   "cell_type": "code",
   "execution_count": 65,
   "metadata": {},
   "outputs": [
    {
     "name": "stdout",
     "output_type": "stream",
     "text": [
      "Tuples are immutable\n"
     ]
    }
   ],
   "source": [
    "tup = ('a', [1, 2, 3], 60, True, None)\n",
    "\n",
    "try:\n",
    "    tup[2] = 50\n",
    "except:\n",
    "    print(\"Tuples are immutable\")"
   ]
  },
  {
   "cell_type": "markdown",
   "metadata": {},
   "source": [
    "# Program 3\n",
    "Write a Python code block to create a dictionary of cricket World Cup winners. Let the key be the year; the value is the country that won the World Cup that year. Print the name of the bestperforming country. Display the unique list of countries that have won the World Cup."
   ]
  },
  {
   "cell_type": "code",
   "execution_count": 7,
   "metadata": {},
   "outputs": [
    {
     "name": "stdout",
     "output_type": "stream",
     "text": [
      "The best-performing country is Australia with 6 wins.\n",
      "The unique list of countries that have won the Cricket World Cup are:\n",
      "['West Indies', 'India', 'Australia', 'Pakistan', 'Sri Lanka', 'England']\n"
     ]
    }
   ],
   "source": [
    "world_cup_winners = {\n",
    "    1975: \"West Indies\",\n",
    "    1979: \"West Indies\",\n",
    "    1983: \"India\",\n",
    "    1987: \"Australia\",\n",
    "    1992: \"Pakistan\",\n",
    "    1996: \"Sri Lanka\",\n",
    "    1999: \"Australia\",\n",
    "    2003: \"Australia\",\n",
    "    2007: \"Australia\",\n",
    "    2011: \"India\",\n",
    "    2015: \"Australia\",\n",
    "    2019: \"England\",\n",
    "    2023: \"Australia\"\n",
    "}\n",
    "\n",
    "country_counts = {}\n",
    "for country in world_cup_winners.values():\n",
    "    if country in country_counts:\n",
    "        country_counts[country] += 1\n",
    "    else:\n",
    "        country_counts[country] = 1\n",
    "\n",
    "best_performing_country = max(country_counts, key=country_counts.get)\n",
    "best_performances = country_counts[best_performing_country]\n",
    "print(f\"The best-performing country is {best_performing_country} with {best_performances} wins.\")\n",
    "\n",
    "unique_countries = list(country_counts.keys())\n",
    "print(\"The unique list of countries that have won the Cricket World Cup are:\")\n",
    "print(unique_countries)"
   ]
  },
  {
   "cell_type": "markdown",
   "metadata": {},
   "source": [
    "# Program 4\n",
    "Write a Python code block that inputs a sentence from the user. Count the frequency of each word in the sentence and store the result in a dictionary. Prints the dictionary with words as keys and their frequencies as values."
   ]
  },
  {
   "cell_type": "code",
   "execution_count": 3,
   "metadata": {},
   "outputs": [
    {
     "name": "stdout",
     "output_type": "stream",
     "text": [
      "Enter a sentence: hello world hello\n",
      "Word frequencies: {'hello': 2, 'world': 1}\n"
     ]
    }
   ],
   "source": [
    "sentence = input(\"Enter a sentence: \")\n",
    "words = sentence.split()\n",
    "word_frequency = {}\n",
    "\n",
    "for word in words:\n",
    "    if word in word_frequency:\n",
    "        word_frequency[word] += 1\n",
    "    else:\n",
    "        word_frequency[word] = 1\n",
    "\n",
    "print(\"Word frequencies:\", word_frequency)"
   ]
  },
  {
   "cell_type": "markdown",
   "metadata": {},
   "source": [
    "# Program 5\n",
    "Write a Python code block to input numbers into two sets. Perform union, intersection, and difference operations on the sets and print the results."
   ]
  },
  {
   "cell_type": "code",
   "execution_count": 5,
   "metadata": {},
   "outputs": [
    {
     "name": "stdout",
     "output_type": "stream",
     "text": [
      "Enter numbers for the first set, separated by spaces: 6 7 12 11 10\n",
      "Enter numbers for the second set, separated by spaces: 6 5 4 3 10 12\n",
      "Union: {3, 4, 5, 6, 7, 10, 11, 12}\n",
      "Intersection: {10, 12, 6}\n",
      "Difference (set1 - set2): {11, 7}\n"
     ]
    }
   ],
   "source": [
    "set1 = set(map(int, input(\"Enter numbers for the first set, separated by spaces: \").split()))\n",
    "set2 = set(map(int, input(\"Enter numbers for the second set, separated by spaces: \").split()))\n",
    "\n",
    "union = set1.union(set2)\n",
    "intersection = set1.intersection(set2)\n",
    "diff = set1.difference(set2)\n",
    "\n",
    "print(f\"Union: {union}\")\n",
    "print(f\"Intersection: {intersection}\")\n",
    "print(f\"Difference (set1 - set2): {diff}\")"
   ]
  },
  {
   "cell_type": "markdown",
   "metadata": {},
   "source": [
    "# Additional Programs"
   ]
  },
  {
   "cell_type": "markdown",
   "metadata": {},
   "source": [
    "# Program 1\n",
    "Write a Python function to return the longest string from a list of strings."
   ]
  },
  {
   "cell_type": "code",
   "execution_count": null,
   "metadata": {},
   "outputs": [],
   "source": [
    "def longest_string(strings):\n",
    "\tlongest = \"\"\n",
    "\tfor string in strings:\n",
    "\t\tif len(string) > len(longest):\n",
    "\t\t\tlongest = string\n",
    "\treturn longest"
   ]
  },
  {
   "cell_type": "markdown",
   "metadata": {},
   "source": [
    "# Program 2\n",
    "Write a Python function that takes a list of integers and returns a new list containing only those greater than 5."
   ]
  },
  {
   "cell_type": "code",
   "execution_count": null,
   "metadata": {},
   "outputs": [],
   "source": [
    "def greater_than_five(nums):\n",
    "\treturn [num for num in nums if num > 5]"
   ]
  },
  {
   "cell_type": "markdown",
   "metadata": {},
   "source": [
    "# Program 3\n",
    "Write a Python function to find all duplicate values in a list."
   ]
  },
  {
   "cell_type": "code",
   "execution_count": 2,
   "metadata": {},
   "outputs": [],
   "source": [
    "def find_duplicates(arr):\n",
    "\tseen = set()\n",
    "\tduplicates = set()\n",
    "\tfor elem in arr:\n",
    "\t\tif elem in seen:\n",
    "\t\t\tduplicates.add(elem)\n",
    "\t\tseen.add(elem)\n",
    "\treturn list(duplicates)"
   ]
  },
  {
   "cell_type": "markdown",
   "metadata": {},
   "source": [
    "# Program 4\n",
    "Write a Python function to swap Two Numbers using a Tuple."
   ]
  },
  {
   "cell_type": "code",
   "execution_count": 3,
   "metadata": {},
   "outputs": [],
   "source": [
    "def swap(a, b):\n",
    "\treturn b, a"
   ]
  },
  {
   "cell_type": "markdown",
   "metadata": {},
   "source": [
    "# Program 5\n",
    "Write a Python function to Find Unique Elements in Two Lists."
   ]
  },
  {
   "cell_type": "code",
   "execution_count": 4,
   "metadata": {},
   "outputs": [],
   "source": [
    "def unique_elements(l1, l2):\n",
    "\treturn list(set(l1) ^ set(l2))"
   ]
  },
  {
   "cell_type": "markdown",
   "metadata": {},
   "source": [
    "# Program 6\n",
    "Given a list of strings, return a dictionary with the strings as keys and frequency counts as the values."
   ]
  },
  {
   "cell_type": "code",
   "execution_count": 5,
   "metadata": {},
   "outputs": [],
   "source": [
    "def word_frequencies(strings):\n",
    "\tfrequencies = {}\n",
    "\tfor string in strings:\n",
    "\t\tif string in frequencies:\n",
    "\t\t\tfrequencies[string] += 1\n",
    "\t\telse:\n",
    "\t\t\tfrequencies[string] = 1\n",
    "\treturn frequencies"
   ]
  },
  {
   "cell_type": "markdown",
   "metadata": {},
   "source": [
    "# Program 7\n",
    "Invert the following dictionary , mapping names to ages, to instead map ages to names."
   ]
  },
  {
   "cell_type": "code",
   "execution_count": 6,
   "metadata": {},
   "outputs": [],
   "source": [
    "def invert_dict(d):\n",
    "\tinverted = {}\n",
    "\tfor key, value in d.items():\n",
    "\t\tif value in inverted:\n",
    "\t\t\tinverted[value].append(key)\n",
    "\t\telse:\n",
    "\t\t\tinverted[value] = [key]\n",
    "\treturn inverted"
   ]
  },
  {
   "cell_type": "markdown",
   "metadata": {},
   "source": [
    "# Program 8\n",
    "Given two lists, find the unique elements in both lists using sets."
   ]
  },
  {
   "cell_type": "code",
   "execution_count": 7,
   "metadata": {},
   "outputs": [],
   "source": [
    "# Given two lists, find the unique elements in both lists using sets.\n",
    "\n",
    "def unique_elements(l1, l2):\n",
    "\treturn list(set(l1) ^ set(l2))"
   ]
  },
  {
   "cell_type": "markdown",
   "metadata": {},
   "source": [
    "# Program 9\n",
    "Write a Python program to unzip a list of tuples into individual lists."
   ]
  },
  {
   "cell_type": "code",
   "execution_count": null,
   "metadata": {},
   "outputs": [],
   "source": [
    "def unzip(tuples):\n",
    "\treturn list(zip(*tuples))"
   ]
  }
 ],
 "metadata": {
  "colab": {
   "provenance": []
  },
  "kernelspec": {
   "display_name": "dav",
   "language": "python",
   "name": "python3"
  },
  "language_info": {
   "codemirror_mode": {
    "name": "ipython",
    "version": 3
   },
   "file_extension": ".py",
   "mimetype": "text/x-python",
   "name": "python",
   "nbconvert_exporter": "python",
   "pygments_lexer": "ipython3",
   "version": "3.13.2"
  }
 },
 "nbformat": 4,
 "nbformat_minor": 1
}
