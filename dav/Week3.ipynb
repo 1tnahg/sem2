{
 "cells": [
  {
   "cell_type": "markdown",
   "metadata": {
    "id": "TeznF4kNGinj"
   },
   "source": [
    "# Week 3"
   ]
  },
  {
   "cell_type": "markdown",
   "metadata": {},
   "source": [
    "**Name:** I Adarsh *(PG-12)*<br>\n",
    "**Registration Number:** 240905294<br>\n",
    "**Date:** 04/02/2025"
   ]
  },
  {
   "cell_type": "code",
   "execution_count": 2,
   "metadata": {},
   "outputs": [],
   "source": [
    "import numpy as np"
   ]
  },
  {
   "cell_type": "markdown",
   "metadata": {},
   "source": [
    "# Program 1\n",
    "Generate a 3x4 NumPy array with random integers between 1 and 50."
   ]
  },
  {
   "cell_type": "code",
   "execution_count": 3,
   "metadata": {},
   "outputs": [
    {
     "data": {
      "text/plain": [
       "array([[11,  1, 34, 48],\n",
       "       [ 4, 47, 26, 45],\n",
       "       [10, 33, 18, 20]])"
      ]
     },
     "execution_count": 3,
     "metadata": {},
     "output_type": "execute_result"
    }
   ],
   "source": [
    "arr = np.random.randint(1, 51, (3, 4))\n",
    "arr"
   ]
  },
  {
   "cell_type": "markdown",
   "metadata": {},
   "source": [
    "Calculate and print the mean, median, and standard deviation of the array."
   ]
  },
  {
   "cell_type": "code",
   "execution_count": 4,
   "metadata": {},
   "outputs": [
    {
     "name": "stdout",
     "output_type": "stream",
     "text": [
      "Mean: 24.75\n",
      "Median: 23.0\n",
      "Standard deviation: 15.99544205912005\n"
     ]
    }
   ],
   "source": [
    "print(f\"Mean: {np.mean(arr)}\")\n",
    "print(f\"Median: {np.median(arr)}\")\n",
    "print(f\"Standard deviation: {np.std(arr)}\")"
   ]
  },
  {
   "cell_type": "markdown",
   "metadata": {},
   "source": [
    "Print the sum of all elements and the sum of each row."
   ]
  },
  {
   "cell_type": "code",
   "execution_count": 5,
   "metadata": {},
   "outputs": [
    {
     "name": "stdout",
     "output_type": "stream",
     "text": [
      "Sum of elements: 297\n",
      "Sum of each row: [ 94 122  81]\n"
     ]
    }
   ],
   "source": [
    "print(f\"Sum of elements: {np.sum(arr)}\")\n",
    "print(f\"Sum of each row: {np.sum(arr, axis=1)}\")"
   ]
  },
  {
   "cell_type": "markdown",
   "metadata": {},
   "source": [
    "Reshape the 3x4 array into a 2x6 array and print it."
   ]
  },
  {
   "cell_type": "code",
   "execution_count": 6,
   "metadata": {},
   "outputs": [
    {
     "name": "stdout",
     "output_type": "stream",
     "text": [
      "[[11  1 34 48  4 47]\n",
      " [26 45 10 33 18 20]]\n"
     ]
    }
   ],
   "source": [
    "print(np.reshape(arr, (2, 6)))"
   ]
  },
  {
   "cell_type": "markdown",
   "metadata": {},
   "source": [
    "# Program 2\n",
    "Create two (3 * 3) matrices using NumPy and print it. Perform and print the results of the following linear algebra operations."
   ]
  },
  {
   "cell_type": "code",
   "execution_count": 7,
   "metadata": {},
   "outputs": [
    {
     "name": "stdout",
     "output_type": "stream",
     "text": [
      "[[66 93  9]\n",
      " [79 12 10]\n",
      " [85 33 41]]\n",
      "\n",
      "[[39 29 78]\n",
      " [45 20 20]\n",
      " [61 64 72]]\n"
     ]
    }
   ],
   "source": [
    "x = np.random.randint(1, 100, (3, 3))\n",
    "y = np.random.randint(1, 100, (3, 3))\n",
    "print(f\"{x}\\n\\n{y}\")"
   ]
  },
  {
   "cell_type": "markdown",
   "metadata": {},
   "source": [
    "Matrix addition"
   ]
  },
  {
   "cell_type": "code",
   "execution_count": 8,
   "metadata": {},
   "outputs": [
    {
     "name": "stdout",
     "output_type": "stream",
     "text": [
      "[[105 122  87]\n",
      " [124  32  30]\n",
      " [146  97 113]]\n"
     ]
    }
   ],
   "source": [
    "print(x + y)"
   ]
  },
  {
   "cell_type": "markdown",
   "metadata": {},
   "source": [
    "Matrix subtraction"
   ]
  },
  {
   "cell_type": "code",
   "execution_count": 9,
   "metadata": {},
   "outputs": [
    {
     "name": "stdout",
     "output_type": "stream",
     "text": [
      "[[ 27  64 -69]\n",
      " [ 34  -8 -10]\n",
      " [ 24 -31 -31]]\n"
     ]
    }
   ],
   "source": [
    "print(x - y)"
   ]
  },
  {
   "cell_type": "markdown",
   "metadata": {},
   "source": [
    "Matrix multiplication (element-wise and dot product)"
   ]
  },
  {
   "cell_type": "code",
   "execution_count": 10,
   "metadata": {},
   "outputs": [
    {
     "name": "stdout",
     "output_type": "stream",
     "text": [
      "Element-wise:\n",
      "[[2574 2697  702]\n",
      " [3555  240  200]\n",
      " [5185 2112 2952]]\n",
      "\n",
      "Dot product:\n",
      "[[ 7308  4350  7656]\n",
      " [ 4231  3171  7122]\n",
      " [ 7301  5749 10242]]\n"
     ]
    }
   ],
   "source": [
    "print(f\"Element-wise:\\n{x * y}\")\n",
    "print(f\"\\nDot product:\\n{x @ y}\")"
   ]
  },
  {
   "cell_type": "markdown",
   "metadata": {},
   "source": [
    "Transpose of a matrix"
   ]
  },
  {
   "cell_type": "code",
   "execution_count": 11,
   "metadata": {},
   "outputs": [
    {
     "name": "stdout",
     "output_type": "stream",
     "text": [
      "X transpose:\n",
      "[[66 79 85]\n",
      " [93 12 33]\n",
      " [ 9 10 41]]\n",
      "\n",
      "Y transpose:\n",
      "[[39 45 61]\n",
      " [29 20 64]\n",
      " [78 20 72]]\n"
     ]
    }
   ],
   "source": [
    "print(f\"X transpose:\\n{x.T}\")\n",
    "print(f\"\\nY transpose:\\n{y.T}\")"
   ]
  },
  {
   "cell_type": "markdown",
   "metadata": {},
   "source": [
    "Determinant and inverse (if applicable)"
   ]
  },
  {
   "cell_type": "code",
   "execution_count": 12,
   "metadata": {},
   "outputs": [
    {
     "name": "stdout",
     "output_type": "stream",
     "text": [
      "Determinant of X:-197201.99999999974\n",
      "Determinant of Y:77140.0\n",
      "\n",
      "X inverse:\n",
      "[[-0.00082149  0.01782943 -0.00416831]\n",
      " [ 0.01211448 -0.0098427  -0.00025862]\n",
      " [-0.00804759 -0.02904129  0.03324003]]\n",
      "\n",
      "Y inverse:\n",
      "[[ 0.00207415  0.03764584 -0.01270417]\n",
      " [-0.02618616 -0.02527871  0.0353902 ]\n",
      " [ 0.02151932 -0.00942442 -0.00680581]]\n"
     ]
    }
   ],
   "source": [
    "print(f\"Determinant of X:{np.linalg.det(x)}\")\n",
    "print(f\"Determinant of Y:{np.linalg.det(y)}\")\n",
    "print(f\"\\nX inverse:\\n{np.linalg.inv(x)}\")\n",
    "print(f\"\\nY inverse:\\n{np.linalg.inv(y)}\")"
   ]
  }
 ],
 "metadata": {
  "colab": {
   "provenance": []
  },
  "kernelspec": {
   "display_name": "dav",
   "language": "python",
   "name": "python3"
  },
  "language_info": {
   "codemirror_mode": {
    "name": "ipython",
    "version": 3
   },
   "file_extension": ".py",
   "mimetype": "text/x-python",
   "name": "python",
   "nbconvert_exporter": "python",
   "pygments_lexer": "ipython3",
   "version": "3.13.2"
  }
 },
 "nbformat": 4,
 "nbformat_minor": 1
}
