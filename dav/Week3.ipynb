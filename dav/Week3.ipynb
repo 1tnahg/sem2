{
 "cells": [
  {
   "cell_type": "markdown",
   "metadata": {},
   "source": [
    "# Week 3"
   ]
  },
  {
   "cell_type": "markdown",
   "metadata": {},
   "source": [
    "**Name:** I Adarsh *(PG-12)*<br>\n",
    "**Registration Number:** 240905294<br>\n",
    "**Date:** 04/02/2025"
   ]
  },
  {
   "cell_type": "code",
   "execution_count": 20,
   "metadata": {},
   "outputs": [],
   "source": [
    "import numpy as np"
   ]
  },
  {
   "cell_type": "markdown",
   "metadata": {},
   "source": [
    "# Program 1\n",
    "Generate a 3x4 NumPy array with random integers between 1 and 50."
   ]
  },
  {
   "cell_type": "code",
   "execution_count": 21,
   "metadata": {},
   "outputs": [
    {
     "data": {
      "text/plain": [
       "array([[40,  9, 26,  2],\n",
       "       [12, 21, 10, 37],\n",
       "       [31, 13, 49, 47]])"
      ]
     },
     "execution_count": 21,
     "metadata": {},
     "output_type": "execute_result"
    }
   ],
   "source": [
    "arr = np.random.randint(1, 50, (3, 4))\n",
    "arr"
   ]
  },
  {
   "cell_type": "markdown",
   "metadata": {},
   "source": [
    "Calculate and print the mean, median, and standard deviation of the array."
   ]
  },
  {
   "cell_type": "code",
   "execution_count": 22,
   "metadata": {},
   "outputs": [
    {
     "name": "stdout",
     "output_type": "stream",
     "text": [
      "24.75\n",
      "23.5\n",
      "15.286840746210448\n"
     ]
    }
   ],
   "source": [
    "print(np.mean(arr))\n",
    "print(np.median(arr))\n",
    "print(np.std(arr))"
   ]
  },
  {
   "cell_type": "markdown",
   "metadata": {},
   "source": [
    "Print the sum of all elements and the sum of each row."
   ]
  },
  {
   "cell_type": "code",
   "execution_count": 23,
   "metadata": {},
   "outputs": [
    {
     "name": "stdout",
     "output_type": "stream",
     "text": [
      "297\n",
      "[83 43 85 86]\n"
     ]
    }
   ],
   "source": [
    "print(np.sum(arr))\n",
    "print(np.sum(arr, axis=0))"
   ]
  },
  {
   "cell_type": "markdown",
   "metadata": {},
   "source": [
    "Reshape the 3x4 array into a 2x6 array and print it."
   ]
  },
  {
   "cell_type": "code",
   "execution_count": 24,
   "metadata": {},
   "outputs": [
    {
     "name": "stdout",
     "output_type": "stream",
     "text": [
      "[[40  9 26  2 12 21]\n",
      " [10 37 31 13 49 47]]\n"
     ]
    }
   ],
   "source": [
    "print(np.reshape(arr, (2, 6)))"
   ]
  },
  {
   "cell_type": "markdown",
   "metadata": {},
   "source": [
    "# Program 2\n",
    "Create two (3 * 3) matrices using NumPy and print it. Perform and print the results of the following linear algebra operations."
   ]
  },
  {
   "cell_type": "code",
   "execution_count": 25,
   "metadata": {},
   "outputs": [
    {
     "name": "stdout",
     "output_type": "stream",
     "text": [
      "[[17 39 83]\n",
      " [64 42 42]\n",
      " [73 10 19]]\n",
      "\n",
      "[[28 55 16]\n",
      " [57 98 77]\n",
      " [14  3 57]]\n"
     ]
    }
   ],
   "source": [
    "x = np.random.randint(1, 100, (3, 3))\n",
    "y = np.random.randint(1, 100, (3, 3))\n",
    "print(x)\n",
    "print()\n",
    "print(y)"
   ]
  },
  {
   "cell_type": "markdown",
   "metadata": {},
   "source": [
    "Matrix addition"
   ]
  },
  {
   "cell_type": "code",
   "execution_count": 26,
   "metadata": {},
   "outputs": [
    {
     "name": "stdout",
     "output_type": "stream",
     "text": [
      "[[ 45  94  99]\n",
      " [121 140 119]\n",
      " [ 87  13  76]]\n"
     ]
    }
   ],
   "source": [
    "print(x + y)"
   ]
  },
  {
   "cell_type": "markdown",
   "metadata": {},
   "source": [
    "Matrix subtraction"
   ]
  },
  {
   "cell_type": "code",
   "execution_count": 27,
   "metadata": {},
   "outputs": [
    {
     "name": "stdout",
     "output_type": "stream",
     "text": [
      "[[-11 -16  67]\n",
      " [  7 -56 -35]\n",
      " [ 59   7 -38]]\n"
     ]
    }
   ],
   "source": [
    "print(x - y)"
   ]
  },
  {
   "cell_type": "markdown",
   "metadata": {},
   "source": [
    "Matrix multiplication (element-wise and dot product)"
   ]
  },
  {
   "cell_type": "code",
   "execution_count": 28,
   "metadata": {},
   "outputs": [
    {
     "name": "stdout",
     "output_type": "stream",
     "text": [
      "[[3861 5006 8006]\n",
      " [4774 7762 6652]\n",
      " [2880 5052 3021]]\n"
     ]
    }
   ],
   "source": [
    "print(x @ y)"
   ]
  },
  {
   "cell_type": "markdown",
   "metadata": {},
   "source": [
    "Transpose of a matrix"
   ]
  },
  {
   "cell_type": "code",
   "execution_count": 29,
   "metadata": {},
   "outputs": [
    {
     "name": "stdout",
     "output_type": "stream",
     "text": [
      "[[17 64 73]\n",
      " [39 42 10]\n",
      " [83 42 19]]\n",
      "\n",
      "[[28 57 14]\n",
      " [55 98  3]\n",
      " [16 77 57]]\n"
     ]
    }
   ],
   "source": [
    "print(x.T)\n",
    "print()\n",
    "print(y.T)"
   ]
  },
  {
   "cell_type": "markdown",
   "metadata": {},
   "source": [
    "Determinant and inverse (if applicable)"
   ]
  },
  {
   "cell_type": "code",
   "execution_count": 30,
   "metadata": {},
   "outputs": [
    {
     "name": "stdout",
     "output_type": "stream",
     "text": [
      "-122781.99999999993\n",
      "\n",
      "11318.99999999998\n",
      "\n",
      "[[-0.00307863 -0.00072486  0.01505107]\n",
      " [-0.01506736  0.04671695 -0.03744849]\n",
      " [ 0.0197586  -0.02180287  0.01451353]]\n",
      "\n",
      "[[ 0.47309833 -0.27272727  0.23562152]\n",
      " [-0.1918014   0.12121212 -0.1099037 ]\n",
      " [-0.10610478  0.06060606 -0.03454369]]\n"
     ]
    }
   ],
   "source": [
    "print(np.linalg.det(x))\n",
    "print()\n",
    "print(np.linalg.det(y))\n",
    "print()\n",
    "print(np.linalg.inv(x))\n",
    "print()\n",
    "print(np.linalg.inv(y))"
   ]
  },
  {
   "cell_type": "markdown",
   "metadata": {},
   "source": [
    "# Additional Programs"
   ]
  },
  {
   "cell_type": "markdown",
   "metadata": {},
   "source": [
    "# Program 1\n",
    "Given the array ```arr = np.arange(1, 101).reshape(10, 10)```:"
   ]
  },
  {
   "cell_type": "code",
   "execution_count": 31,
   "metadata": {},
   "outputs": [
    {
     "data": {
      "text/plain": [
       "array([[  1,   2,   3,   4,   5,   6,   7,   8,   9,  10],\n",
       "       [ 11,  12,  13,  14,  15,  16,  17,  18,  19,  20],\n",
       "       [ 21,  22,  23,  24,  25,  26,  27,  28,  29,  30],\n",
       "       [ 31,  32,  33,  34,  35,  36,  37,  38,  39,  40],\n",
       "       [ 41,  42,  43,  44,  45,  46,  47,  48,  49,  50],\n",
       "       [ 51,  52,  53,  54,  55,  56,  57,  58,  59,  60],\n",
       "       [ 61,  62,  63,  64,  65,  66,  67,  68,  69,  70],\n",
       "       [ 71,  72,  73,  74,  75,  76,  77,  78,  79,  80],\n",
       "       [ 81,  82,  83,  84,  85,  86,  87,  88,  89,  90],\n",
       "       [ 91,  92,  93,  94,  95,  96,  97,  98,  99, 100]])"
      ]
     },
     "execution_count": 31,
     "metadata": {},
     "output_type": "execute_result"
    }
   ],
   "source": [
    "arr = np.arange(1, 101).reshape(10, 10)\n",
    "arr"
   ]
  },
  {
   "cell_type": "markdown",
   "metadata": {},
   "source": [
    "Extract the first three rows and the last three columns."
   ]
  },
  {
   "cell_type": "code",
   "execution_count": 32,
   "metadata": {},
   "outputs": [
    {
     "data": {
      "text/plain": [
       "array([[ 8,  9, 10],\n",
       "       [18, 19, 20],\n",
       "       [28, 29, 30]])"
      ]
     },
     "execution_count": 32,
     "metadata": {},
     "output_type": "execute_result"
    }
   ],
   "source": [
    "arr[:3, -3:]"
   ]
  },
  {
   "cell_type": "markdown",
   "metadata": {},
   "source": [
    "Extract the diagonal elements."
   ]
  },
  {
   "cell_type": "code",
   "execution_count": 33,
   "metadata": {},
   "outputs": [
    {
     "data": {
      "text/plain": [
       "array([  1,  12,  23,  34,  45,  56,  67,  78,  89, 100])"
      ]
     },
     "execution_count": 33,
     "metadata": {},
     "output_type": "execute_result"
    }
   ],
   "source": [
    "np.diag(arr)"
   ]
  },
  {
   "cell_type": "markdown",
   "metadata": {},
   "source": [
    "# Program 2\n",
    "Create a 3D NumPy array of shape (4, 5, 6) with random integers from 1 to 100. Perform the following:"
   ]
  },
  {
   "cell_type": "code",
   "execution_count": 35,
   "metadata": {},
   "outputs": [
    {
     "data": {
      "text/plain": [
       "array([[[36, 63, 89, 80, 85, 64],\n",
       "        [45, 35, 46, 99, 28, 60],\n",
       "        [46, 74, 18, 30, 27, 81],\n",
       "        [44, 50, 32, 53, 55, 13],\n",
       "        [65, 97, 98, 92, 75, 44]],\n",
       "\n",
       "       [[97, 20, 89, 84, 34, 52],\n",
       "        [64, 27, 12, 75, 90,  1],\n",
       "        [26, 31, 47, 67, 25, 46],\n",
       "        [76, 49, 24, 86, 15, 42],\n",
       "        [51, 92, 73,  8, 24,  8]],\n",
       "\n",
       "       [[73, 49, 19, 36, 87, 98],\n",
       "        [69, 90, 87, 45, 82,  4],\n",
       "        [95, 30, 48, 73, 71, 11],\n",
       "        [11,  8, 11, 15, 63, 98],\n",
       "        [ 9, 52, 82, 50,  6, 27]],\n",
       "\n",
       "       [[73, 90, 63, 75, 68, 98],\n",
       "        [31,  3, 88, 15, 70, 26],\n",
       "        [90, 38, 21,  3, 65, 87],\n",
       "        [ 3, 30,  5, 22, 76, 91],\n",
       "        [24, 21, 72,  3, 36, 58]]])"
      ]
     },
     "execution_count": 35,
     "metadata": {},
     "output_type": "execute_result"
    }
   ],
   "source": [
    "arr = np.random.randint(1, 100, (4, 5, 6))\n",
    "arr"
   ]
  },
  {
   "cell_type": "markdown",
   "metadata": {},
   "source": [
    "Extract all elements from the second row of every 2D matrix along the first axis."
   ]
  },
  {
   "cell_type": "code",
   "execution_count": 37,
   "metadata": {},
   "outputs": [
    {
     "data": {
      "text/plain": [
       "array([[45, 35, 46, 99, 28, 60],\n",
       "       [64, 27, 12, 75, 90,  1],\n",
       "       [69, 90, 87, 45, 82,  4],\n",
       "       [31,  3, 88, 15, 70, 26]])"
      ]
     },
     "execution_count": 37,
     "metadata": {},
     "output_type": "execute_result"
    }
   ],
   "source": [
    "arr[:, 1, :]"
   ]
  },
  {
   "cell_type": "markdown",
   "metadata": {},
   "source": [
    "Extract all elements from the last column of the third 2D matrix along the first axis."
   ]
  },
  {
   "cell_type": "code",
   "execution_count": 38,
   "metadata": {},
   "outputs": [
    {
     "data": {
      "text/plain": [
       "array([98,  4, 11, 98, 27])"
      ]
     },
     "execution_count": 38,
     "metadata": {},
     "output_type": "execute_result"
    }
   ],
   "source": [
    "arr[2, :, -1]"
   ]
  },
  {
   "cell_type": "markdown",
   "metadata": {},
   "source": [
    "# Program 3\n",
    "Create a 4D array of shape (3, 4, 5, 6) with random floating-point numbers. Perform the following:"
   ]
  },
  {
   "cell_type": "code",
   "execution_count": 39,
   "metadata": {},
   "outputs": [
    {
     "data": {
      "text/plain": [
       "array([[[[0.73722973, 0.54927501, 0.16865605, 0.78051108, 0.56007485,\n",
       "          0.68054867],\n",
       "         [0.75717697, 0.70132519, 0.89409295, 0.82783275, 0.5722055 ,\n",
       "          0.35812093],\n",
       "         [0.57102388, 0.87802719, 0.7852809 , 0.79490562, 0.15960251,\n",
       "          0.50667415],\n",
       "         [0.68617103, 0.92862227, 0.58338016, 0.12780209, 0.42409462,\n",
       "          0.54786996],\n",
       "         [0.92221977, 0.25925844, 0.43744979, 0.71072949, 0.99831845,\n",
       "          0.63049158]],\n",
       "\n",
       "        [[0.26343305, 0.20207433, 0.90911837, 0.54366531, 0.2379443 ,\n",
       "          0.94319047],\n",
       "         [0.72370929, 0.95453723, 0.30623814, 0.85713332, 0.80540945,\n",
       "          0.65743957],\n",
       "         [0.37475467, 0.06437394, 0.50029945, 0.04094003, 0.37984621,\n",
       "          0.61194568],\n",
       "         [0.64627278, 0.0761837 , 0.4891698 , 0.62097119, 0.64355162,\n",
       "          0.42652573],\n",
       "         [0.22729314, 0.39168538, 0.89110804, 0.86176485, 0.54437953,\n",
       "          0.53682512]],\n",
       "\n",
       "        [[0.94302444, 0.20786936, 0.98184385, 0.41885895, 0.58304469,\n",
       "          0.82487253],\n",
       "         [0.5145824 , 0.80089563, 0.99993798, 0.09340684, 0.64469853,\n",
       "          0.71505005],\n",
       "         [0.18213145, 0.50366832, 0.20950056, 0.49114279, 0.03759721,\n",
       "          0.63542813],\n",
       "         [0.59719568, 0.06374037, 0.67943282, 0.79198566, 0.61229943,\n",
       "          0.93209417],\n",
       "         [0.06214683, 0.5675268 , 0.45653512, 0.08514574, 0.3646076 ,\n",
       "          0.76517903]],\n",
       "\n",
       "        [[0.80874001, 0.53510984, 0.55626349, 0.74665005, 0.39865706,\n",
       "          0.94979698],\n",
       "         [0.61110901, 0.07166359, 0.34245202, 0.62381106, 0.66625932,\n",
       "          0.71162125],\n",
       "         [0.86985843, 0.46498005, 0.48289117, 0.77361843, 0.36407629,\n",
       "          0.39652972],\n",
       "         [0.67136484, 0.97651754, 0.76360382, 0.54399904, 0.84152246,\n",
       "          0.02773815],\n",
       "         [0.72405465, 0.57768115, 0.30866338, 0.14784678, 0.39071255,\n",
       "          0.12847141]]],\n",
       "\n",
       "\n",
       "       [[[0.78007876, 0.47443009, 0.01764208, 0.60766341, 0.39384578,\n",
       "          0.46630818],\n",
       "         [0.14435412, 0.25660523, 0.91794936, 0.19929417, 0.86081663,\n",
       "          0.38330269],\n",
       "         [0.6661811 , 0.33302852, 0.21713517, 0.27061557, 0.47714159,\n",
       "          0.66112814],\n",
       "         [0.8446782 , 0.58248998, 0.25800695, 0.34479686, 0.87628899,\n",
       "          0.41628145],\n",
       "         [0.46164086, 0.13878819, 0.16955575, 0.76435171, 0.47125953,\n",
       "          0.51904938]],\n",
       "\n",
       "        [[0.00677479, 0.73481301, 0.72233088, 0.08914698, 0.8643115 ,\n",
       "          0.5289809 ],\n",
       "         [0.83889603, 0.72182825, 0.33901198, 0.2638509 , 0.40945778,\n",
       "          0.88166048],\n",
       "         [0.18553223, 0.74692537, 0.18373925, 0.10733704, 0.44761128,\n",
       "          0.61827526],\n",
       "         [0.0262438 , 0.62014065, 0.4421111 , 0.96961211, 0.96069989,\n",
       "          0.36876018],\n",
       "         [0.86910423, 0.61917397, 0.24151269, 0.93053403, 0.9691561 ,\n",
       "          0.55506943]],\n",
       "\n",
       "        [[0.67793846, 0.07792084, 0.60496243, 0.60403012, 0.95177228,\n",
       "          0.53248186],\n",
       "         [0.90204059, 0.87748308, 0.20679974, 0.96427815, 0.03521389,\n",
       "          0.98264264],\n",
       "         [0.64049141, 0.55811688, 0.85727255, 0.57350227, 0.9081782 ,\n",
       "          0.89869295],\n",
       "         [0.75160947, 0.79912772, 0.60587403, 0.60851053, 0.78673524,\n",
       "          0.54558221],\n",
       "         [0.86799595, 0.09360203, 0.57574295, 0.74594827, 0.20824505,\n",
       "          0.93020036]],\n",
       "\n",
       "        [[0.32600344, 0.45308053, 0.36083839, 0.7208146 , 0.21433875,\n",
       "          0.55246887],\n",
       "         [0.61690003, 0.03637962, 0.5010643 , 0.53167267, 0.82440224,\n",
       "          0.44019326],\n",
       "         [0.19418329, 0.84616803, 0.75307118, 0.24283262, 0.82835449,\n",
       "          0.77456795],\n",
       "         [0.10335184, 0.76875349, 0.31586615, 0.74818636, 0.16006088,\n",
       "          0.81774655],\n",
       "         [0.19473769, 0.69732722, 0.26743981, 0.20299583, 0.27502328,\n",
       "          0.21817503]]],\n",
       "\n",
       "\n",
       "       [[[0.4840651 , 0.15874522, 0.9993073 , 0.91610963, 0.75556795,\n",
       "          0.57915112],\n",
       "         [0.71758691, 0.19385366, 0.49336178, 0.98586053, 0.82823218,\n",
       "          0.83531624],\n",
       "         [0.01628076, 0.86697238, 0.09315   , 0.96661893, 0.29073164,\n",
       "          0.98282826],\n",
       "         [0.16913724, 0.50475347, 0.73544688, 0.63949893, 0.0435913 ,\n",
       "          0.78778991],\n",
       "         [0.84962333, 0.11541039, 0.61123392, 0.52384556, 0.08916852,\n",
       "          0.73822045]],\n",
       "\n",
       "        [[0.35766737, 0.62154479, 0.86648852, 0.58555227, 0.81796923,\n",
       "          0.21294386],\n",
       "         [0.7551531 , 0.20624121, 0.05816   , 0.72234958, 0.35145273,\n",
       "          0.06558853],\n",
       "         [0.25220394, 0.60598774, 0.45656994, 0.55564105, 0.82654149,\n",
       "          0.97984155],\n",
       "         [0.99064893, 0.98595448, 0.35540481, 0.77741124, 0.91675072,\n",
       "          0.73112586],\n",
       "         [0.2313527 , 0.80275864, 0.50035509, 0.78918813, 0.52498469,\n",
       "          0.03288995]],\n",
       "\n",
       "        [[0.15674391, 0.73049944, 0.41645342, 0.68299565, 0.705232  ,\n",
       "          0.76126201],\n",
       "         [0.05105368, 0.79418957, 0.71249394, 0.52330597, 0.10518154,\n",
       "          0.27579284],\n",
       "         [0.11974488, 0.34011888, 0.73073599, 0.90873062, 0.10660115,\n",
       "          0.22145384],\n",
       "         [0.45230233, 0.64694052, 0.2667953 , 0.5181529 , 0.09304326,\n",
       "          0.46188695],\n",
       "         [0.09357879, 0.09371703, 0.44593041, 0.5492189 , 0.15458085,\n",
       "          0.64703649]],\n",
       "\n",
       "        [[0.52105955, 0.89159309, 0.87913107, 0.4071634 , 0.41699044,\n",
       "          0.06360641],\n",
       "         [0.61631304, 0.78171299, 0.64059643, 0.47707139, 0.53846583,\n",
       "          0.67110358],\n",
       "         [0.13211436, 0.75030223, 0.53220928, 0.32934007, 0.61681228,\n",
       "          0.04403119],\n",
       "         [0.04627116, 0.53366305, 0.4265573 , 0.00234026, 0.96020077,\n",
       "          0.51096948],\n",
       "         [0.33235242, 0.84717251, 0.4435914 , 0.92222518, 0.62073178,\n",
       "          0.78503474]]]])"
      ]
     },
     "execution_count": 39,
     "metadata": {},
     "output_type": "execute_result"
    }
   ],
   "source": [
    "arr = np.random.rand(3, 4, 5, 6)\n",
    "arr"
   ]
  },
  {
   "cell_type": "markdown",
   "metadata": {},
   "source": [
    "Extract every alternate row and column from the second and fourth dimensions."
   ]
  },
  {
   "cell_type": "code",
   "execution_count": 40,
   "metadata": {},
   "outputs": [
    {
     "data": {
      "text/plain": [
       "array([[[[0.73722973, 0.54927501, 0.16865605, 0.78051108, 0.56007485,\n",
       "          0.68054867],\n",
       "         [0.57102388, 0.87802719, 0.7852809 , 0.79490562, 0.15960251,\n",
       "          0.50667415],\n",
       "         [0.92221977, 0.25925844, 0.43744979, 0.71072949, 0.99831845,\n",
       "          0.63049158]],\n",
       "\n",
       "        [[0.94302444, 0.20786936, 0.98184385, 0.41885895, 0.58304469,\n",
       "          0.82487253],\n",
       "         [0.18213145, 0.50366832, 0.20950056, 0.49114279, 0.03759721,\n",
       "          0.63542813],\n",
       "         [0.06214683, 0.5675268 , 0.45653512, 0.08514574, 0.3646076 ,\n",
       "          0.76517903]]],\n",
       "\n",
       "\n",
       "       [[[0.78007876, 0.47443009, 0.01764208, 0.60766341, 0.39384578,\n",
       "          0.46630818],\n",
       "         [0.6661811 , 0.33302852, 0.21713517, 0.27061557, 0.47714159,\n",
       "          0.66112814],\n",
       "         [0.46164086, 0.13878819, 0.16955575, 0.76435171, 0.47125953,\n",
       "          0.51904938]],\n",
       "\n",
       "        [[0.67793846, 0.07792084, 0.60496243, 0.60403012, 0.95177228,\n",
       "          0.53248186],\n",
       "         [0.64049141, 0.55811688, 0.85727255, 0.57350227, 0.9081782 ,\n",
       "          0.89869295],\n",
       "         [0.86799595, 0.09360203, 0.57574295, 0.74594827, 0.20824505,\n",
       "          0.93020036]]],\n",
       "\n",
       "\n",
       "       [[[0.4840651 , 0.15874522, 0.9993073 , 0.91610963, 0.75556795,\n",
       "          0.57915112],\n",
       "         [0.01628076, 0.86697238, 0.09315   , 0.96661893, 0.29073164,\n",
       "          0.98282826],\n",
       "         [0.84962333, 0.11541039, 0.61123392, 0.52384556, 0.08916852,\n",
       "          0.73822045]],\n",
       "\n",
       "        [[0.15674391, 0.73049944, 0.41645342, 0.68299565, 0.705232  ,\n",
       "          0.76126201],\n",
       "         [0.11974488, 0.34011888, 0.73073599, 0.90873062, 0.10660115,\n",
       "          0.22145384],\n",
       "         [0.09357879, 0.09371703, 0.44593041, 0.5492189 , 0.15458085,\n",
       "          0.64703649]]]])"
      ]
     },
     "execution_count": 40,
     "metadata": {},
     "output_type": "execute_result"
    }
   ],
   "source": [
    "arr[:, ::2, ::2, :]"
   ]
  },
  {
   "cell_type": "markdown",
   "metadata": {},
   "source": [
    "Extract elements from every 2nd matrix along the first axis and every 3rd slice along the third dimension."
   ]
  },
  {
   "cell_type": "code",
   "execution_count": 41,
   "metadata": {},
   "outputs": [
    {
     "data": {
      "text/plain": [
       "array([[[[0.73722973, 0.54927501, 0.16865605, 0.78051108, 0.56007485,\n",
       "          0.68054867],\n",
       "         [0.68617103, 0.92862227, 0.58338016, 0.12780209, 0.42409462,\n",
       "          0.54786996]],\n",
       "\n",
       "        [[0.26343305, 0.20207433, 0.90911837, 0.54366531, 0.2379443 ,\n",
       "          0.94319047],\n",
       "         [0.64627278, 0.0761837 , 0.4891698 , 0.62097119, 0.64355162,\n",
       "          0.42652573]],\n",
       "\n",
       "        [[0.94302444, 0.20786936, 0.98184385, 0.41885895, 0.58304469,\n",
       "          0.82487253],\n",
       "         [0.59719568, 0.06374037, 0.67943282, 0.79198566, 0.61229943,\n",
       "          0.93209417]],\n",
       "\n",
       "        [[0.80874001, 0.53510984, 0.55626349, 0.74665005, 0.39865706,\n",
       "          0.94979698],\n",
       "         [0.67136484, 0.97651754, 0.76360382, 0.54399904, 0.84152246,\n",
       "          0.02773815]]],\n",
       "\n",
       "\n",
       "       [[[0.4840651 , 0.15874522, 0.9993073 , 0.91610963, 0.75556795,\n",
       "          0.57915112],\n",
       "         [0.16913724, 0.50475347, 0.73544688, 0.63949893, 0.0435913 ,\n",
       "          0.78778991]],\n",
       "\n",
       "        [[0.35766737, 0.62154479, 0.86648852, 0.58555227, 0.81796923,\n",
       "          0.21294386],\n",
       "         [0.99064893, 0.98595448, 0.35540481, 0.77741124, 0.91675072,\n",
       "          0.73112586]],\n",
       "\n",
       "        [[0.15674391, 0.73049944, 0.41645342, 0.68299565, 0.705232  ,\n",
       "          0.76126201],\n",
       "         [0.45230233, 0.64694052, 0.2667953 , 0.5181529 , 0.09304326,\n",
       "          0.46188695]],\n",
       "\n",
       "        [[0.52105955, 0.89159309, 0.87913107, 0.4071634 , 0.41699044,\n",
       "          0.06360641],\n",
       "         [0.04627116, 0.53366305, 0.4265573 , 0.00234026, 0.96020077,\n",
       "          0.51096948]]]])"
      ]
     },
     "execution_count": 41,
     "metadata": {},
     "output_type": "execute_result"
    }
   ],
   "source": [
    "arr[::2, :, ::3, :]"
   ]
  },
  {
   "cell_type": "markdown",
   "metadata": {},
   "source": [
    "# Program 4\n",
    "Create a 2D array of shape (6, 8) with numbers from 1 to 48."
   ]
  },
  {
   "cell_type": "code",
   "execution_count": 42,
   "metadata": {},
   "outputs": [
    {
     "data": {
      "text/plain": [
       "array([[ 1,  2,  3,  4,  5,  6,  7,  8],\n",
       "       [ 9, 10, 11, 12, 13, 14, 15, 16],\n",
       "       [17, 18, 19, 20, 21, 22, 23, 24],\n",
       "       [25, 26, 27, 28, 29, 30, 31, 32],\n",
       "       [33, 34, 35, 36, 37, 38, 39, 40],\n",
       "       [41, 42, 43, 44, 45, 46, 47, 48]])"
      ]
     },
     "execution_count": 42,
     "metadata": {},
     "output_type": "execute_result"
    }
   ],
   "source": [
    "arr = np.arange(1, 49).reshape(6, 8)\n",
    "arr"
   ]
  },
  {
   "cell_type": "markdown",
   "metadata": {},
   "source": [
    "Reverse the rows while keeping the columns in their original order."
   ]
  },
  {
   "cell_type": "code",
   "execution_count": 43,
   "metadata": {},
   "outputs": [
    {
     "data": {
      "text/plain": [
       "array([[41, 42, 43, 44, 45, 46, 47, 48],\n",
       "       [33, 34, 35, 36, 37, 38, 39, 40],\n",
       "       [25, 26, 27, 28, 29, 30, 31, 32],\n",
       "       [17, 18, 19, 20, 21, 22, 23, 24],\n",
       "       [ 9, 10, 11, 12, 13, 14, 15, 16],\n",
       "       [ 1,  2,  3,  4,  5,  6,  7,  8]])"
      ]
     },
     "execution_count": 43,
     "metadata": {},
     "output_type": "execute_result"
    }
   ],
   "source": [
    "arr[::-1, :]"
   ]
  },
  {
   "cell_type": "markdown",
   "metadata": {},
   "source": [
    "Reverse the last three columns while keeping the rows in their original order."
   ]
  },
  {
   "cell_type": "code",
   "execution_count": 44,
   "metadata": {},
   "outputs": [
    {
     "data": {
      "text/plain": [
       "array([[ 8,  7,  6],\n",
       "       [16, 15, 14],\n",
       "       [24, 23, 22],\n",
       "       [32, 31, 30],\n",
       "       [40, 39, 38],\n",
       "       [48, 47, 46]])"
      ]
     },
     "execution_count": 44,
     "metadata": {},
     "output_type": "execute_result"
    }
   ],
   "source": [
    "arr[:, -1:-4:-1]"
   ]
  },
  {
   "cell_type": "markdown",
   "metadata": {},
   "source": [
    "# Program 5\n",
    "Create a 3D array of shape (3, 5, 5) with random integers from 10 to 99. Perform the following:"
   ]
  },
  {
   "cell_type": "code",
   "execution_count": 45,
   "metadata": {},
   "outputs": [
    {
     "data": {
      "text/plain": [
       "array([[[22, 78, 88, 98, 40],\n",
       "        [65, 31, 76, 25, 71],\n",
       "        [63, 69, 10, 71, 80],\n",
       "        [42, 59, 31, 16, 32],\n",
       "        [44, 43, 77, 61, 35]],\n",
       "\n",
       "       [[29, 17, 99, 59, 95],\n",
       "        [33, 35, 99, 83, 14],\n",
       "        [67, 60, 79, 90, 32],\n",
       "        [51, 49, 55, 71, 18],\n",
       "        [22, 36, 56, 51, 31]],\n",
       "\n",
       "       [[40, 93, 35, 88, 11],\n",
       "        [62, 42, 30, 23, 72],\n",
       "        [25, 90, 99, 88, 79],\n",
       "        [51, 84, 20, 75, 75],\n",
       "        [89, 92, 66, 95, 48]]])"
      ]
     },
     "execution_count": 45,
     "metadata": {},
     "output_type": "execute_result"
    }
   ],
   "source": [
    "arr = np.random.randint(10, 100, (3, 5, 5))\n",
    "arr"
   ]
  },
  {
   "cell_type": "markdown",
   "metadata": {},
   "source": [
    "Extract all elements from the array where the value is a multiple of 3."
   ]
  },
  {
   "cell_type": "code",
   "execution_count": 49,
   "metadata": {},
   "outputs": [
    {
     "data": {
      "text/plain": [
       "array([78,  0,  0,  0, 63, 69,  0,  0, 42,  0, 99,  0, 33,  0, 99,  0,  0,\n",
       "       51,  0, 18, 36, 51,  0, 93,  0, 42,  0, 72,  0,  0, 99, 51, 84,  0,\n",
       "        0,  0, 66,  0, 48])"
      ]
     },
     "execution_count": 49,
     "metadata": {},
     "output_type": "execute_result"
    }
   ],
   "source": [
    "arr[arr % 3 == 0]"
   ]
  },
  {
   "cell_type": "markdown",
   "metadata": {},
   "source": [
    "Replace all elements divisible by 5 with the value 0."
   ]
  },
  {
   "cell_type": "code",
   "execution_count": 51,
   "metadata": {},
   "outputs": [
    {
     "data": {
      "text/plain": [
       "array([[[22, 78, 88, 98,  0],\n",
       "        [ 0, 31, 76,  0, 71],\n",
       "        [63, 69,  0, 71,  0],\n",
       "        [42, 59, 31, 16, 32],\n",
       "        [44, 43, 77, 61,  0]],\n",
       "\n",
       "       [[29, 17, 99, 59,  0],\n",
       "        [33,  0, 99, 83, 14],\n",
       "        [67,  0, 79,  0, 32],\n",
       "        [51, 49,  0, 71, 18],\n",
       "        [22, 36, 56, 51, 31]],\n",
       "\n",
       "       [[ 0, 93,  0, 88, 11],\n",
       "        [62, 42,  0, 23, 72],\n",
       "        [ 0,  0, 99, 88, 79],\n",
       "        [51, 84,  0,  0,  0],\n",
       "        [89, 92, 66,  0, 48]]])"
      ]
     },
     "execution_count": 51,
     "metadata": {},
     "output_type": "execute_result"
    }
   ],
   "source": [
    "arr[arr % 5 == 0] = 0\n",
    "arr"
   ]
  }
 ],
 "metadata": {
  "colab": {
   "provenance": []
  },
  "kernelspec": {
   "display_name": "dav",
   "language": "python",
   "name": "python3"
  },
  "language_info": {
   "codemirror_mode": {
    "name": "ipython",
    "version": 3
   },
   "file_extension": ".py",
   "mimetype": "text/x-python",
   "name": "python",
   "nbconvert_exporter": "python",
   "pygments_lexer": "ipython3",
   "version": "3.13.2"
  }
 },
 "nbformat": 4,
 "nbformat_minor": 1
}
