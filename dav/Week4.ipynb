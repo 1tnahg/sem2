{
 "cells": [
  {
   "cell_type": "markdown",
   "id": "c3c5da13",
   "metadata": {
    "id": "TeznF4kNGinj"
   },
   "source": [
    "# Week 4"
   ]
  },
  {
   "cell_type": "markdown",
   "id": "492b5879",
   "metadata": {},
   "source": [
    "**Name:** I Adarsh *(PG-12)*<br>\n",
    "**Registration Number:** 240905294<br>\n",
    "**Date:** 11/02/2025"
   ]
  },
  {
   "cell_type": "code",
   "execution_count": 25,
   "id": "2c1d9c7a",
   "metadata": {},
   "outputs": [],
   "source": [
    "import numpy as np\n",
    "import pandas as pd"
   ]
  },
  {
   "cell_type": "markdown",
   "id": "523050ca",
   "metadata": {},
   "source": [
    "# Program 1\n",
    "Create a ```Series``` from a list of integers representing daily temperatures (in Celsius) over a week. Assign index labels as day of the week."
   ]
  },
  {
   "cell_type": "code",
   "execution_count": 26,
   "id": "1872efdf",
   "metadata": {},
   "outputs": [
    {
     "data": {
      "text/plain": [
       "Monday       -5\n",
       "Tuesday      46\n",
       "Wednesday    43\n",
       "Thursday     44\n",
       "Friday       31\n",
       "Saturday     -1\n",
       "Sunday       30\n",
       "dtype: int64"
      ]
     },
     "execution_count": 26,
     "metadata": {},
     "output_type": "execute_result"
    }
   ],
   "source": [
    "temps = np.random.randint(-10, 50, size=7)\n",
    "days = ['Monday', 'Tuesday', 'Wednesday', 'Thursday', 'Friday', 'Saturday', 'Sunday']\n",
    "temp_series = pd.Series(temps, index=days)\n",
    "temp_series"
   ]
  },
  {
   "cell_type": "markdown",
   "id": "a086b0b5",
   "metadata": {},
   "source": [
    "Find and print the average (mean) temperature for the week."
   ]
  },
  {
   "cell_type": "code",
   "execution_count": 27,
   "id": "917b2000",
   "metadata": {},
   "outputs": [
    {
     "name": "stdout",
     "output_type": "stream",
     "text": [
      "Mean temperature: 26.857142857142858\n"
     ]
    }
   ],
   "source": [
    "print(f\"Mean temperature: {np.mean(temp_series)}\")"
   ]
  },
  {
   "cell_type": "markdown",
   "id": "df5f3ed0",
   "metadata": {},
   "source": [
    "Identify and print the maximum and minimum temperatures and their respective days."
   ]
  },
  {
   "cell_type": "code",
   "execution_count": 28,
   "id": "ac94d04e",
   "metadata": {},
   "outputs": [
    {
     "name": "stdout",
     "output_type": "stream",
     "text": [
      "Maximum temperature: 46 on Tuesday\n",
      "Minimum temperature: -5 on Monday\n"
     ]
    }
   ],
   "source": [
    "print(f\"Maximum temperature: {np.max(temp_series)} on {temp_series.idxmax()}\")\n",
    "print(f\"Minimum temperature: {np.min(temp_series)} on {temp_series.idxmin()}\")"
   ]
  },
  {
   "cell_type": "markdown",
   "id": "7086dcaf",
   "metadata": {},
   "source": [
    "Display the temperatures greater than a specific value."
   ]
  },
  {
   "cell_type": "code",
   "execution_count": 29,
   "id": "d9fb0eb8",
   "metadata": {},
   "outputs": [
    {
     "name": "stdout",
     "output_type": "stream",
     "text": [
      "Temperatures greater than 20:\n"
     ]
    },
    {
     "data": {
      "text/plain": [
       "Tuesday      46\n",
       "Wednesday    43\n",
       "Thursday     44\n",
       "Friday       31\n",
       "Sunday       30\n",
       "dtype: int64"
      ]
     },
     "execution_count": 29,
     "metadata": {},
     "output_type": "execute_result"
    }
   ],
   "source": [
    "val = int(input(\"Enter a value: \"))\n",
    "greater = temp_series[temp_series > val]\n",
    "print(f\"Temperatures greater than {val}:\")\n",
    "greater"
   ]
  },
  {
   "cell_type": "markdown",
   "id": "9d1d5f3e",
   "metadata": {},
   "source": [
    "Convert all temperatures to Fahrenheit."
   ]
  },
  {
   "cell_type": "code",
   "execution_count": 30,
   "id": "3d27385c",
   "metadata": {},
   "outputs": [
    {
     "name": "stdout",
     "output_type": "stream",
     "text": [
      "Temperatures in Fahrenheit:\n"
     ]
    },
    {
     "data": {
      "text/plain": [
       "Monday        23.0\n",
       "Tuesday      114.8\n",
       "Wednesday    109.4\n",
       "Thursday     111.2\n",
       "Friday        87.8\n",
       "Saturday      30.2\n",
       "Sunday        86.0\n",
       "dtype: float64"
      ]
     },
     "execution_count": 30,
     "metadata": {},
     "output_type": "execute_result"
    }
   ],
   "source": [
    "temp_series_f = (temp_series * 9/5) + 32\n",
    "print(\"Temperatures in Fahrenheit:\")\n",
    "temp_series_f"
   ]
  },
  {
   "cell_type": "markdown",
   "id": "90c7375d",
   "metadata": {},
   "source": [
    "Print the days had temperatures above the average."
   ]
  },
  {
   "cell_type": "code",
   "execution_count": 31,
   "id": "58516754",
   "metadata": {},
   "outputs": [
    {
     "name": "stdout",
     "output_type": "stream",
     "text": [
      "Temperatures above average:\n"
     ]
    },
    {
     "data": {
      "text/plain": [
       "Tuesday      46\n",
       "Wednesday    43\n",
       "Thursday     44\n",
       "Friday       31\n",
       "Sunday       30\n",
       "dtype: int64"
      ]
     },
     "execution_count": 31,
     "metadata": {},
     "output_type": "execute_result"
    }
   ],
   "source": [
    "above_avg = temp_series[temp_series > np.mean(temp_series)]\n",
    "print(\"Temperatures above average:\")\n",
    "above_avg"
   ]
  },
  {
   "cell_type": "markdown",
   "id": "e50cac4e",
   "metadata": {},
   "source": [
    "# Program 2\n",
    "Create a data frame with details of 10 students and columns as Roll Number, Name, Gender, Marks1, Marks2, Marks3."
   ]
  },
  {
   "cell_type": "code",
   "execution_count": 32,
   "id": "028d556e",
   "metadata": {},
   "outputs": [
    {
     "data": {
      "text/html": [
       "<div>\n",
       "<style scoped>\n",
       "    .dataframe tbody tr th:only-of-type {\n",
       "        vertical-align: middle;\n",
       "    }\n",
       "\n",
       "    .dataframe tbody tr th {\n",
       "        vertical-align: top;\n",
       "    }\n",
       "\n",
       "    .dataframe thead th {\n",
       "        text-align: right;\n",
       "    }\n",
       "</style>\n",
       "<table border=\"1\" class=\"dataframe\">\n",
       "  <thead>\n",
       "    <tr style=\"text-align: right;\">\n",
       "      <th></th>\n",
       "      <th>Name</th>\n",
       "      <th>Gender</th>\n",
       "      <th>Marks1</th>\n",
       "      <th>Marks2</th>\n",
       "      <th>Marks3</th>\n",
       "    </tr>\n",
       "    <tr>\n",
       "      <th>Roll No.</th>\n",
       "      <th></th>\n",
       "      <th></th>\n",
       "      <th></th>\n",
       "      <th></th>\n",
       "      <th></th>\n",
       "    </tr>\n",
       "  </thead>\n",
       "  <tbody>\n",
       "    <tr>\n",
       "      <th>1</th>\n",
       "      <td>yahvevx</td>\n",
       "      <td>F</td>\n",
       "      <td>68</td>\n",
       "      <td>35</td>\n",
       "      <td>28</td>\n",
       "    </tr>\n",
       "    <tr>\n",
       "      <th>2</th>\n",
       "      <td>ylyknkg</td>\n",
       "      <td>F</td>\n",
       "      <td>4</td>\n",
       "      <td>48</td>\n",
       "      <td>43</td>\n",
       "    </tr>\n",
       "    <tr>\n",
       "      <th>3</th>\n",
       "      <td>xrxrows</td>\n",
       "      <td>F</td>\n",
       "      <td>19</td>\n",
       "      <td>7</td>\n",
       "      <td>47</td>\n",
       "    </tr>\n",
       "    <tr>\n",
       "      <th>4</th>\n",
       "      <td>cnxrtbo</td>\n",
       "      <td>F</td>\n",
       "      <td>28</td>\n",
       "      <td>84</td>\n",
       "      <td>87</td>\n",
       "    </tr>\n",
       "    <tr>\n",
       "      <th>5</th>\n",
       "      <td>uegpwls</td>\n",
       "      <td>F</td>\n",
       "      <td>13</td>\n",
       "      <td>1</td>\n",
       "      <td>84</td>\n",
       "    </tr>\n",
       "    <tr>\n",
       "      <th>6</th>\n",
       "      <td>fskwfya</td>\n",
       "      <td>F</td>\n",
       "      <td>33</td>\n",
       "      <td>6</td>\n",
       "      <td>44</td>\n",
       "    </tr>\n",
       "    <tr>\n",
       "      <th>7</th>\n",
       "      <td>yejzyqn</td>\n",
       "      <td>F</td>\n",
       "      <td>55</td>\n",
       "      <td>78</td>\n",
       "      <td>8</td>\n",
       "    </tr>\n",
       "    <tr>\n",
       "      <th>8</th>\n",
       "      <td>vqvkpkn</td>\n",
       "      <td>M</td>\n",
       "      <td>52</td>\n",
       "      <td>37</td>\n",
       "      <td>58</td>\n",
       "    </tr>\n",
       "    <tr>\n",
       "      <th>9</th>\n",
       "      <td>fkbxglu</td>\n",
       "      <td>M</td>\n",
       "      <td>44</td>\n",
       "      <td>41</td>\n",
       "      <td>80</td>\n",
       "    </tr>\n",
       "    <tr>\n",
       "      <th>10</th>\n",
       "      <td>owlesbn</td>\n",
       "      <td>F</td>\n",
       "      <td>41</td>\n",
       "      <td>24</td>\n",
       "      <td>51</td>\n",
       "    </tr>\n",
       "  </tbody>\n",
       "</table>\n",
       "</div>"
      ],
      "text/plain": [
       "             Name Gender  Marks1  Marks2  Marks3\n",
       "Roll No.                                        \n",
       "1         yahvevx      F      68      35      28\n",
       "2         ylyknkg      F       4      48      43\n",
       "3         xrxrows      F      19       7      47\n",
       "4         cnxrtbo      F      28      84      87\n",
       "5         uegpwls      F      13       1      84\n",
       "6         fskwfya      F      33       6      44\n",
       "7         yejzyqn      F      55      78       8\n",
       "8         vqvkpkn      M      52      37      58\n",
       "9         fkbxglu      M      44      41      80\n",
       "10        owlesbn      F      41      24      51"
      ]
     },
     "execution_count": 32,
     "metadata": {},
     "output_type": "execute_result"
    }
   ],
   "source": [
    "import random\n",
    "import string\n",
    "\n",
    "def generate_random_name():\n",
    "    return ''.join(random.choices(string.ascii_lowercase, k=7))\n",
    "\n",
    "students = {\n",
    "    'Roll No.': list(range(1, 11)),\n",
    "    'Name': [generate_random_name() for _ in range(10)],\n",
    "    'Gender': np.random.choice(['M', 'F'], size=10),\n",
    "    'Marks1': np.random.randint(0, 100, size=10),\n",
    "    'Marks2': np.random.randint(0, 100, size=10),\n",
    "    'Marks3': np.random.randint(0, 100, size=10)\n",
    "}\n",
    "\n",
    "df = pd.DataFrame(data=students)\n",
    "df.set_index('Roll No.', inplace=True)\n",
    "df"
   ]
  },
  {
   "cell_type": "markdown",
   "id": "dea0e456",
   "metadata": {},
   "source": [
    "Create a new column with total marks."
   ]
  },
  {
   "cell_type": "code",
   "execution_count": 33,
   "id": "4cad2389",
   "metadata": {},
   "outputs": [
    {
     "data": {
      "text/html": [
       "<div>\n",
       "<style scoped>\n",
       "    .dataframe tbody tr th:only-of-type {\n",
       "        vertical-align: middle;\n",
       "    }\n",
       "\n",
       "    .dataframe tbody tr th {\n",
       "        vertical-align: top;\n",
       "    }\n",
       "\n",
       "    .dataframe thead th {\n",
       "        text-align: right;\n",
       "    }\n",
       "</style>\n",
       "<table border=\"1\" class=\"dataframe\">\n",
       "  <thead>\n",
       "    <tr style=\"text-align: right;\">\n",
       "      <th></th>\n",
       "      <th>Name</th>\n",
       "      <th>Gender</th>\n",
       "      <th>Marks1</th>\n",
       "      <th>Marks2</th>\n",
       "      <th>Marks3</th>\n",
       "      <th>TotalMarks</th>\n",
       "    </tr>\n",
       "    <tr>\n",
       "      <th>Roll No.</th>\n",
       "      <th></th>\n",
       "      <th></th>\n",
       "      <th></th>\n",
       "      <th></th>\n",
       "      <th></th>\n",
       "      <th></th>\n",
       "    </tr>\n",
       "  </thead>\n",
       "  <tbody>\n",
       "    <tr>\n",
       "      <th>1</th>\n",
       "      <td>yahvevx</td>\n",
       "      <td>F</td>\n",
       "      <td>68</td>\n",
       "      <td>35</td>\n",
       "      <td>28</td>\n",
       "      <td>131</td>\n",
       "    </tr>\n",
       "    <tr>\n",
       "      <th>2</th>\n",
       "      <td>ylyknkg</td>\n",
       "      <td>F</td>\n",
       "      <td>4</td>\n",
       "      <td>48</td>\n",
       "      <td>43</td>\n",
       "      <td>95</td>\n",
       "    </tr>\n",
       "    <tr>\n",
       "      <th>3</th>\n",
       "      <td>xrxrows</td>\n",
       "      <td>F</td>\n",
       "      <td>19</td>\n",
       "      <td>7</td>\n",
       "      <td>47</td>\n",
       "      <td>73</td>\n",
       "    </tr>\n",
       "    <tr>\n",
       "      <th>4</th>\n",
       "      <td>cnxrtbo</td>\n",
       "      <td>F</td>\n",
       "      <td>28</td>\n",
       "      <td>84</td>\n",
       "      <td>87</td>\n",
       "      <td>199</td>\n",
       "    </tr>\n",
       "    <tr>\n",
       "      <th>5</th>\n",
       "      <td>uegpwls</td>\n",
       "      <td>F</td>\n",
       "      <td>13</td>\n",
       "      <td>1</td>\n",
       "      <td>84</td>\n",
       "      <td>98</td>\n",
       "    </tr>\n",
       "    <tr>\n",
       "      <th>6</th>\n",
       "      <td>fskwfya</td>\n",
       "      <td>F</td>\n",
       "      <td>33</td>\n",
       "      <td>6</td>\n",
       "      <td>44</td>\n",
       "      <td>83</td>\n",
       "    </tr>\n",
       "    <tr>\n",
       "      <th>7</th>\n",
       "      <td>yejzyqn</td>\n",
       "      <td>F</td>\n",
       "      <td>55</td>\n",
       "      <td>78</td>\n",
       "      <td>8</td>\n",
       "      <td>141</td>\n",
       "    </tr>\n",
       "    <tr>\n",
       "      <th>8</th>\n",
       "      <td>vqvkpkn</td>\n",
       "      <td>M</td>\n",
       "      <td>52</td>\n",
       "      <td>37</td>\n",
       "      <td>58</td>\n",
       "      <td>147</td>\n",
       "    </tr>\n",
       "    <tr>\n",
       "      <th>9</th>\n",
       "      <td>fkbxglu</td>\n",
       "      <td>M</td>\n",
       "      <td>44</td>\n",
       "      <td>41</td>\n",
       "      <td>80</td>\n",
       "      <td>165</td>\n",
       "    </tr>\n",
       "    <tr>\n",
       "      <th>10</th>\n",
       "      <td>owlesbn</td>\n",
       "      <td>F</td>\n",
       "      <td>41</td>\n",
       "      <td>24</td>\n",
       "      <td>51</td>\n",
       "      <td>116</td>\n",
       "    </tr>\n",
       "  </tbody>\n",
       "</table>\n",
       "</div>"
      ],
      "text/plain": [
       "             Name Gender  Marks1  Marks2  Marks3  TotalMarks\n",
       "Roll No.                                                    \n",
       "1         yahvevx      F      68      35      28         131\n",
       "2         ylyknkg      F       4      48      43          95\n",
       "3         xrxrows      F      19       7      47          73\n",
       "4         cnxrtbo      F      28      84      87         199\n",
       "5         uegpwls      F      13       1      84          98\n",
       "6         fskwfya      F      33       6      44          83\n",
       "7         yejzyqn      F      55      78       8         141\n",
       "8         vqvkpkn      M      52      37      58         147\n",
       "9         fkbxglu      M      44      41      80         165\n",
       "10        owlesbn      F      41      24      51         116"
      ]
     },
     "execution_count": 33,
     "metadata": {},
     "output_type": "execute_result"
    }
   ],
   "source": [
    "df['TotalMarks'] = df['Marks1'] + df['Marks2'] + df['Marks3']\n",
    "df"
   ]
  },
  {
   "cell_type": "markdown",
   "id": "449ca74b",
   "metadata": {},
   "source": [
    "Find the lowest marks in ```Marks1```."
   ]
  },
  {
   "cell_type": "code",
   "execution_count": 34,
   "id": "ab1395be",
   "metadata": {},
   "outputs": [
    {
     "name": "stdout",
     "output_type": "stream",
     "text": [
      "Lowest marks in Marks1: 4\n"
     ]
    }
   ],
   "source": [
    "print(f\"Lowest marks in Marks1: {np.min(df['Marks1'])}\")"
   ]
  },
  {
   "cell_type": "markdown",
   "id": "69ace828",
   "metadata": {},
   "source": [
    "Find the Highest marks in ```Marks2```."
   ]
  },
  {
   "cell_type": "code",
   "execution_count": 35,
   "id": "cfd0798f",
   "metadata": {},
   "outputs": [
    {
     "name": "stdout",
     "output_type": "stream",
     "text": [
      "Highest marks in Marks2: 84\n"
     ]
    }
   ],
   "source": [
    "print(f\"Highest marks in Marks2: {np.max(df['Marks2'])}\")"
   ]
  },
  {
   "cell_type": "markdown",
   "id": "e0c38639",
   "metadata": {},
   "source": [
    " Find the average marks in ```Marks3```."
   ]
  },
  {
   "cell_type": "code",
   "execution_count": 36,
   "id": "8c7bb15b",
   "metadata": {},
   "outputs": [
    {
     "name": "stdout",
     "output_type": "stream",
     "text": [
      "Average marks in Marks3: 53.0\n"
     ]
    }
   ],
   "source": [
    "print(f\"Average marks in Marks3: {np.mean(df['Marks3'])}\")"
   ]
  },
  {
   "cell_type": "markdown",
   "id": "9c024849",
   "metadata": {},
   "source": [
    "Find student name with highest average."
   ]
  },
  {
   "cell_type": "code",
   "execution_count": 37,
   "id": "4ee50bcd",
   "metadata": {},
   "outputs": [
    {
     "data": {
      "text/html": [
       "<div>\n",
       "<style scoped>\n",
       "    .dataframe tbody tr th:only-of-type {\n",
       "        vertical-align: middle;\n",
       "    }\n",
       "\n",
       "    .dataframe tbody tr th {\n",
       "        vertical-align: top;\n",
       "    }\n",
       "\n",
       "    .dataframe thead th {\n",
       "        text-align: right;\n",
       "    }\n",
       "</style>\n",
       "<table border=\"1\" class=\"dataframe\">\n",
       "  <thead>\n",
       "    <tr style=\"text-align: right;\">\n",
       "      <th></th>\n",
       "      <th>Name</th>\n",
       "      <th>Gender</th>\n",
       "      <th>Marks1</th>\n",
       "      <th>Marks2</th>\n",
       "      <th>Marks3</th>\n",
       "      <th>TotalMarks</th>\n",
       "      <th>Average</th>\n",
       "    </tr>\n",
       "    <tr>\n",
       "      <th>Roll No.</th>\n",
       "      <th></th>\n",
       "      <th></th>\n",
       "      <th></th>\n",
       "      <th></th>\n",
       "      <th></th>\n",
       "      <th></th>\n",
       "      <th></th>\n",
       "    </tr>\n",
       "  </thead>\n",
       "  <tbody>\n",
       "    <tr>\n",
       "      <th>1</th>\n",
       "      <td>yahvevx</td>\n",
       "      <td>F</td>\n",
       "      <td>68</td>\n",
       "      <td>35</td>\n",
       "      <td>28</td>\n",
       "      <td>131</td>\n",
       "      <td>43.666667</td>\n",
       "    </tr>\n",
       "    <tr>\n",
       "      <th>2</th>\n",
       "      <td>ylyknkg</td>\n",
       "      <td>F</td>\n",
       "      <td>4</td>\n",
       "      <td>48</td>\n",
       "      <td>43</td>\n",
       "      <td>95</td>\n",
       "      <td>31.666667</td>\n",
       "    </tr>\n",
       "    <tr>\n",
       "      <th>3</th>\n",
       "      <td>xrxrows</td>\n",
       "      <td>F</td>\n",
       "      <td>19</td>\n",
       "      <td>7</td>\n",
       "      <td>47</td>\n",
       "      <td>73</td>\n",
       "      <td>24.333333</td>\n",
       "    </tr>\n",
       "    <tr>\n",
       "      <th>4</th>\n",
       "      <td>cnxrtbo</td>\n",
       "      <td>F</td>\n",
       "      <td>28</td>\n",
       "      <td>84</td>\n",
       "      <td>87</td>\n",
       "      <td>199</td>\n",
       "      <td>66.333333</td>\n",
       "    </tr>\n",
       "    <tr>\n",
       "      <th>5</th>\n",
       "      <td>uegpwls</td>\n",
       "      <td>F</td>\n",
       "      <td>13</td>\n",
       "      <td>1</td>\n",
       "      <td>84</td>\n",
       "      <td>98</td>\n",
       "      <td>32.666667</td>\n",
       "    </tr>\n",
       "    <tr>\n",
       "      <th>6</th>\n",
       "      <td>fskwfya</td>\n",
       "      <td>F</td>\n",
       "      <td>33</td>\n",
       "      <td>6</td>\n",
       "      <td>44</td>\n",
       "      <td>83</td>\n",
       "      <td>27.666667</td>\n",
       "    </tr>\n",
       "    <tr>\n",
       "      <th>7</th>\n",
       "      <td>yejzyqn</td>\n",
       "      <td>F</td>\n",
       "      <td>55</td>\n",
       "      <td>78</td>\n",
       "      <td>8</td>\n",
       "      <td>141</td>\n",
       "      <td>47.000000</td>\n",
       "    </tr>\n",
       "    <tr>\n",
       "      <th>8</th>\n",
       "      <td>vqvkpkn</td>\n",
       "      <td>M</td>\n",
       "      <td>52</td>\n",
       "      <td>37</td>\n",
       "      <td>58</td>\n",
       "      <td>147</td>\n",
       "      <td>49.000000</td>\n",
       "    </tr>\n",
       "    <tr>\n",
       "      <th>9</th>\n",
       "      <td>fkbxglu</td>\n",
       "      <td>M</td>\n",
       "      <td>44</td>\n",
       "      <td>41</td>\n",
       "      <td>80</td>\n",
       "      <td>165</td>\n",
       "      <td>55.000000</td>\n",
       "    </tr>\n",
       "    <tr>\n",
       "      <th>10</th>\n",
       "      <td>owlesbn</td>\n",
       "      <td>F</td>\n",
       "      <td>41</td>\n",
       "      <td>24</td>\n",
       "      <td>51</td>\n",
       "      <td>116</td>\n",
       "      <td>38.666667</td>\n",
       "    </tr>\n",
       "  </tbody>\n",
       "</table>\n",
       "</div>"
      ],
      "text/plain": [
       "             Name Gender  Marks1  Marks2  Marks3  TotalMarks    Average\n",
       "Roll No.                                                               \n",
       "1         yahvevx      F      68      35      28         131  43.666667\n",
       "2         ylyknkg      F       4      48      43          95  31.666667\n",
       "3         xrxrows      F      19       7      47          73  24.333333\n",
       "4         cnxrtbo      F      28      84      87         199  66.333333\n",
       "5         uegpwls      F      13       1      84          98  32.666667\n",
       "6         fskwfya      F      33       6      44          83  27.666667\n",
       "7         yejzyqn      F      55      78       8         141  47.000000\n",
       "8         vqvkpkn      M      52      37      58         147  49.000000\n",
       "9         fkbxglu      M      44      41      80         165  55.000000\n",
       "10        owlesbn      F      41      24      51         116  38.666667"
      ]
     },
     "execution_count": 37,
     "metadata": {},
     "output_type": "execute_result"
    }
   ],
   "source": [
    "df['Average'] = df['TotalMarks'] / 3\n",
    "df"
   ]
  },
  {
   "cell_type": "code",
   "execution_count": 38,
   "id": "846d7883",
   "metadata": {},
   "outputs": [
    {
     "name": "stdout",
     "output_type": "stream",
     "text": [
      "cnxrtbo has the highest average of 66.33333333333333\n"
     ]
    }
   ],
   "source": [
    "print(f\"{df.loc[df['Average'].idxmax(), 'Name']} has the highest average of {df['Average'].max()}\")"
   ]
  },
  {
   "cell_type": "markdown",
   "id": "c767bdca",
   "metadata": {},
   "source": [
    "Find how many students failed in ```Marks2``` (<40)."
   ]
  },
  {
   "cell_type": "code",
   "execution_count": 39,
   "id": "0eb08be8",
   "metadata": {},
   "outputs": [
    {
     "name": "stdout",
     "output_type": "stream",
     "text": [
      "Number of students failed in Marks2: 6\n"
     ]
    }
   ],
   "source": [
    "print(f\"Number of students failed in Marks2: {df[df['Marks2'] < 40].shape[0]}\")"
   ]
  },
  {
   "cell_type": "markdown",
   "id": "5b3c41bf",
   "metadata": {},
   "source": [
    "# Additional Programs"
   ]
  },
  {
   "cell_type": "markdown",
   "id": "2e9d9b00",
   "metadata": {},
   "source": [
    "# Program 1\n",
    "You are given a CSV file named \"sales_data.csv\" containing sales records. Your task is to:"
   ]
  },
  {
   "cell_type": "code",
   "execution_count": 40,
   "id": "d46d3bf9",
   "metadata": {},
   "outputs": [
    {
     "data": {
      "text/html": [
       "<div>\n",
       "<style scoped>\n",
       "    .dataframe tbody tr th:only-of-type {\n",
       "        vertical-align: middle;\n",
       "    }\n",
       "\n",
       "    .dataframe tbody tr th {\n",
       "        vertical-align: top;\n",
       "    }\n",
       "\n",
       "    .dataframe thead th {\n",
       "        text-align: right;\n",
       "    }\n",
       "</style>\n",
       "<table border=\"1\" class=\"dataframe\">\n",
       "  <thead>\n",
       "    <tr style=\"text-align: right;\">\n",
       "      <th></th>\n",
       "      <th>Date</th>\n",
       "      <th>Product</th>\n",
       "      <th>Sales</th>\n",
       "    </tr>\n",
       "  </thead>\n",
       "  <tbody>\n",
       "    <tr>\n",
       "      <th>0</th>\n",
       "      <td>2024-01-01</td>\n",
       "      <td>Product A</td>\n",
       "      <td>450.0</td>\n",
       "    </tr>\n",
       "    <tr>\n",
       "      <th>1</th>\n",
       "      <td>2024-01-02</td>\n",
       "      <td>Product B</td>\n",
       "      <td>510.0</td>\n",
       "    </tr>\n",
       "    <tr>\n",
       "      <th>2</th>\n",
       "      <td>2024-01-03</td>\n",
       "      <td>Product C</td>\n",
       "      <td>NaN</td>\n",
       "    </tr>\n",
       "    <tr>\n",
       "      <th>3</th>\n",
       "      <td>2024-01-04</td>\n",
       "      <td>Product A</td>\n",
       "      <td>600.0</td>\n",
       "    </tr>\n",
       "    <tr>\n",
       "      <th>4</th>\n",
       "      <td>2024-01-05</td>\n",
       "      <td>Product B</td>\n",
       "      <td>NaN</td>\n",
       "    </tr>\n",
       "    <tr>\n",
       "      <th>5</th>\n",
       "      <td>2024-01-06</td>\n",
       "      <td>Product C</td>\n",
       "      <td>700.0</td>\n",
       "    </tr>\n",
       "  </tbody>\n",
       "</table>\n",
       "</div>"
      ],
      "text/plain": [
       "         Date    Product  Sales\n",
       "0  2024-01-01  Product A  450.0\n",
       "1  2024-01-02  Product B  510.0\n",
       "2  2024-01-03  Product C    NaN\n",
       "3  2024-01-04  Product A  600.0\n",
       "4  2024-01-05  Product B    NaN\n",
       "5  2024-01-06  Product C  700.0"
      ]
     },
     "execution_count": 40,
     "metadata": {},
     "output_type": "execute_result"
    }
   ],
   "source": [
    "csv = pd.read_csv(\"sales_data.csv\")\n",
    "csv"
   ]
  },
  {
   "cell_type": "markdown",
   "id": "a3375859",
   "metadata": {},
   "source": [
    "Load the CSV file into a DataFrame."
   ]
  },
  {
   "cell_type": "code",
   "execution_count": 41,
   "id": "8a251912",
   "metadata": {},
   "outputs": [
    {
     "data": {
      "text/html": [
       "<div>\n",
       "<style scoped>\n",
       "    .dataframe tbody tr th:only-of-type {\n",
       "        vertical-align: middle;\n",
       "    }\n",
       "\n",
       "    .dataframe tbody tr th {\n",
       "        vertical-align: top;\n",
       "    }\n",
       "\n",
       "    .dataframe thead th {\n",
       "        text-align: right;\n",
       "    }\n",
       "</style>\n",
       "<table border=\"1\" class=\"dataframe\">\n",
       "  <thead>\n",
       "    <tr style=\"text-align: right;\">\n",
       "      <th></th>\n",
       "      <th>Date</th>\n",
       "      <th>Product</th>\n",
       "      <th>Sales</th>\n",
       "    </tr>\n",
       "  </thead>\n",
       "  <tbody>\n",
       "    <tr>\n",
       "      <th>0</th>\n",
       "      <td>2024-01-01</td>\n",
       "      <td>Product A</td>\n",
       "      <td>450.0</td>\n",
       "    </tr>\n",
       "    <tr>\n",
       "      <th>1</th>\n",
       "      <td>2024-01-02</td>\n",
       "      <td>Product B</td>\n",
       "      <td>510.0</td>\n",
       "    </tr>\n",
       "    <tr>\n",
       "      <th>2</th>\n",
       "      <td>2024-01-03</td>\n",
       "      <td>Product C</td>\n",
       "      <td>NaN</td>\n",
       "    </tr>\n",
       "    <tr>\n",
       "      <th>3</th>\n",
       "      <td>2024-01-04</td>\n",
       "      <td>Product A</td>\n",
       "      <td>600.0</td>\n",
       "    </tr>\n",
       "    <tr>\n",
       "      <th>4</th>\n",
       "      <td>2024-01-05</td>\n",
       "      <td>Product B</td>\n",
       "      <td>NaN</td>\n",
       "    </tr>\n",
       "    <tr>\n",
       "      <th>5</th>\n",
       "      <td>2024-01-06</td>\n",
       "      <td>Product C</td>\n",
       "      <td>700.0</td>\n",
       "    </tr>\n",
       "  </tbody>\n",
       "</table>\n",
       "</div>"
      ],
      "text/plain": [
       "         Date    Product  Sales\n",
       "0  2024-01-01  Product A  450.0\n",
       "1  2024-01-02  Product B  510.0\n",
       "2  2024-01-03  Product C    NaN\n",
       "3  2024-01-04  Product A  600.0\n",
       "4  2024-01-05  Product B    NaN\n",
       "5  2024-01-06  Product C  700.0"
      ]
     },
     "execution_count": 41,
     "metadata": {},
     "output_type": "execute_result"
    }
   ],
   "source": [
    "df = pd.DataFrame(csv)\n",
    "df"
   ]
  },
  {
   "cell_type": "markdown",
   "id": "aa248456",
   "metadata": {},
   "source": [
    "Count and display the number of rows that have at least one missing (null) value."
   ]
  },
  {
   "cell_type": "code",
   "execution_count": 42,
   "id": "3cf058cc",
   "metadata": {},
   "outputs": [
    {
     "name": "stdout",
     "output_type": "stream",
     "text": [
      "Number of null values: 2\n"
     ]
    }
   ],
   "source": [
    "print(f\"Number of null values: {df.isnull().sum().sum()}\")"
   ]
  },
  {
   "cell_type": "markdown",
   "id": "16437469",
   "metadata": {},
   "source": [
    "Fill the missing values using forward fill (```ffill```)."
   ]
  },
  {
   "cell_type": "code",
   "execution_count": 43,
   "id": "a3c9cd3b",
   "metadata": {},
   "outputs": [
    {
     "data": {
      "text/html": [
       "<div>\n",
       "<style scoped>\n",
       "    .dataframe tbody tr th:only-of-type {\n",
       "        vertical-align: middle;\n",
       "    }\n",
       "\n",
       "    .dataframe tbody tr th {\n",
       "        vertical-align: top;\n",
       "    }\n",
       "\n",
       "    .dataframe thead th {\n",
       "        text-align: right;\n",
       "    }\n",
       "</style>\n",
       "<table border=\"1\" class=\"dataframe\">\n",
       "  <thead>\n",
       "    <tr style=\"text-align: right;\">\n",
       "      <th></th>\n",
       "      <th>Date</th>\n",
       "      <th>Product</th>\n",
       "      <th>Sales</th>\n",
       "    </tr>\n",
       "  </thead>\n",
       "  <tbody>\n",
       "    <tr>\n",
       "      <th>0</th>\n",
       "      <td>2024-01-01</td>\n",
       "      <td>Product A</td>\n",
       "      <td>450.0</td>\n",
       "    </tr>\n",
       "    <tr>\n",
       "      <th>1</th>\n",
       "      <td>2024-01-02</td>\n",
       "      <td>Product B</td>\n",
       "      <td>510.0</td>\n",
       "    </tr>\n",
       "    <tr>\n",
       "      <th>2</th>\n",
       "      <td>2024-01-03</td>\n",
       "      <td>Product C</td>\n",
       "      <td>510.0</td>\n",
       "    </tr>\n",
       "    <tr>\n",
       "      <th>3</th>\n",
       "      <td>2024-01-04</td>\n",
       "      <td>Product A</td>\n",
       "      <td>600.0</td>\n",
       "    </tr>\n",
       "    <tr>\n",
       "      <th>4</th>\n",
       "      <td>2024-01-05</td>\n",
       "      <td>Product B</td>\n",
       "      <td>600.0</td>\n",
       "    </tr>\n",
       "    <tr>\n",
       "      <th>5</th>\n",
       "      <td>2024-01-06</td>\n",
       "      <td>Product C</td>\n",
       "      <td>700.0</td>\n",
       "    </tr>\n",
       "  </tbody>\n",
       "</table>\n",
       "</div>"
      ],
      "text/plain": [
       "         Date    Product  Sales\n",
       "0  2024-01-01  Product A  450.0\n",
       "1  2024-01-02  Product B  510.0\n",
       "2  2024-01-03  Product C  510.0\n",
       "3  2024-01-04  Product A  600.0\n",
       "4  2024-01-05  Product B  600.0\n",
       "5  2024-01-06  Product C  700.0"
      ]
     },
     "execution_count": 43,
     "metadata": {},
     "output_type": "execute_result"
    }
   ],
   "source": [
    "df.ffill(axis=0, inplace=True)\n",
    "df"
   ]
  },
  {
   "cell_type": "markdown",
   "id": "a4314016",
   "metadata": {},
   "source": [
    "Count and display the number of rows where the \"Sales\" column value is greater than 500."
   ]
  },
  {
   "cell_type": "code",
   "execution_count": 44,
   "id": "7697ce7c",
   "metadata": {},
   "outputs": [
    {
     "name": "stdout",
     "output_type": "stream",
     "text": [
      "Number of rows where sales is greater than 500: 5\n"
     ]
    }
   ],
   "source": [
    "print(f\"Number of rows where sales is greater than 500: {df[df['Sales'] > 500].shape[0]}\")"
   ]
  },
  {
   "cell_type": "markdown",
   "id": "3e801cf2",
   "metadata": {},
   "source": [
    "# Program 2\n",
    "You are given a CSV file named \"sales_data.csv\" containing sales records. Your task is to:"
   ]
  },
  {
   "cell_type": "markdown",
   "id": "0322b7fd",
   "metadata": {},
   "source": [
    "Load the \"sales_data.csv\" file and display the first five records."
   ]
  },
  {
   "cell_type": "code",
   "execution_count": 45,
   "id": "78a9bdf7",
   "metadata": {},
   "outputs": [
    {
     "data": {
      "text/html": [
       "<div>\n",
       "<style scoped>\n",
       "    .dataframe tbody tr th:only-of-type {\n",
       "        vertical-align: middle;\n",
       "    }\n",
       "\n",
       "    .dataframe tbody tr th {\n",
       "        vertical-align: top;\n",
       "    }\n",
       "\n",
       "    .dataframe thead th {\n",
       "        text-align: right;\n",
       "    }\n",
       "</style>\n",
       "<table border=\"1\" class=\"dataframe\">\n",
       "  <thead>\n",
       "    <tr style=\"text-align: right;\">\n",
       "      <th></th>\n",
       "      <th>Date</th>\n",
       "      <th>Product</th>\n",
       "      <th>Sales</th>\n",
       "    </tr>\n",
       "  </thead>\n",
       "  <tbody>\n",
       "    <tr>\n",
       "      <th>0</th>\n",
       "      <td>2024-01-01</td>\n",
       "      <td>Product A</td>\n",
       "      <td>450.0</td>\n",
       "    </tr>\n",
       "    <tr>\n",
       "      <th>1</th>\n",
       "      <td>2024-01-02</td>\n",
       "      <td>Product B</td>\n",
       "      <td>510.0</td>\n",
       "    </tr>\n",
       "    <tr>\n",
       "      <th>2</th>\n",
       "      <td>2024-01-03</td>\n",
       "      <td>Product C</td>\n",
       "      <td>NaN</td>\n",
       "    </tr>\n",
       "    <tr>\n",
       "      <th>3</th>\n",
       "      <td>2024-01-04</td>\n",
       "      <td>Product A</td>\n",
       "      <td>600.0</td>\n",
       "    </tr>\n",
       "    <tr>\n",
       "      <th>4</th>\n",
       "      <td>2024-01-05</td>\n",
       "      <td>Product B</td>\n",
       "      <td>NaN</td>\n",
       "    </tr>\n",
       "    <tr>\n",
       "      <th>5</th>\n",
       "      <td>2024-01-06</td>\n",
       "      <td>Product C</td>\n",
       "      <td>700.0</td>\n",
       "    </tr>\n",
       "  </tbody>\n",
       "</table>\n",
       "</div>"
      ],
      "text/plain": [
       "         Date    Product  Sales\n",
       "0  2024-01-01  Product A  450.0\n",
       "1  2024-01-02  Product B  510.0\n",
       "2  2024-01-03  Product C    NaN\n",
       "3  2024-01-04  Product A  600.0\n",
       "4  2024-01-05  Product B    NaN\n",
       "5  2024-01-06  Product C  700.0"
      ]
     },
     "execution_count": 45,
     "metadata": {},
     "output_type": "execute_result"
    }
   ],
   "source": [
    "csv = pd.read_csv(\"sales_data.csv\")\n",
    "csv"
   ]
  },
  {
   "cell_type": "code",
   "execution_count": 46,
   "id": "a8104d1d",
   "metadata": {},
   "outputs": [
    {
     "data": {
      "text/html": [
       "<div>\n",
       "<style scoped>\n",
       "    .dataframe tbody tr th:only-of-type {\n",
       "        vertical-align: middle;\n",
       "    }\n",
       "\n",
       "    .dataframe tbody tr th {\n",
       "        vertical-align: top;\n",
       "    }\n",
       "\n",
       "    .dataframe thead th {\n",
       "        text-align: right;\n",
       "    }\n",
       "</style>\n",
       "<table border=\"1\" class=\"dataframe\">\n",
       "  <thead>\n",
       "    <tr style=\"text-align: right;\">\n",
       "      <th></th>\n",
       "      <th>Date</th>\n",
       "      <th>Product</th>\n",
       "      <th>Sales</th>\n",
       "    </tr>\n",
       "  </thead>\n",
       "  <tbody>\n",
       "    <tr>\n",
       "      <th>0</th>\n",
       "      <td>2024-01-01</td>\n",
       "      <td>Product A</td>\n",
       "      <td>450.0</td>\n",
       "    </tr>\n",
       "    <tr>\n",
       "      <th>1</th>\n",
       "      <td>2024-01-02</td>\n",
       "      <td>Product B</td>\n",
       "      <td>510.0</td>\n",
       "    </tr>\n",
       "    <tr>\n",
       "      <th>2</th>\n",
       "      <td>2024-01-03</td>\n",
       "      <td>Product C</td>\n",
       "      <td>NaN</td>\n",
       "    </tr>\n",
       "    <tr>\n",
       "      <th>3</th>\n",
       "      <td>2024-01-04</td>\n",
       "      <td>Product A</td>\n",
       "      <td>600.0</td>\n",
       "    </tr>\n",
       "    <tr>\n",
       "      <th>4</th>\n",
       "      <td>2024-01-05</td>\n",
       "      <td>Product B</td>\n",
       "      <td>NaN</td>\n",
       "    </tr>\n",
       "  </tbody>\n",
       "</table>\n",
       "</div>"
      ],
      "text/plain": [
       "         Date    Product  Sales\n",
       "0  2024-01-01  Product A  450.0\n",
       "1  2024-01-02  Product B  510.0\n",
       "2  2024-01-03  Product C    NaN\n",
       "3  2024-01-04  Product A  600.0\n",
       "4  2024-01-05  Product B    NaN"
      ]
     },
     "execution_count": 46,
     "metadata": {},
     "output_type": "execute_result"
    }
   ],
   "source": [
    "csv.iloc[:-1]"
   ]
  },
  {
   "cell_type": "markdown",
   "id": "7e6f0a11",
   "metadata": {},
   "source": [
    "Load the \"sales_data.csv\" file and display the last five records."
   ]
  },
  {
   "cell_type": "code",
   "execution_count": 47,
   "id": "9aab5e05",
   "metadata": {},
   "outputs": [
    {
     "data": {
      "text/html": [
       "<div>\n",
       "<style scoped>\n",
       "    .dataframe tbody tr th:only-of-type {\n",
       "        vertical-align: middle;\n",
       "    }\n",
       "\n",
       "    .dataframe tbody tr th {\n",
       "        vertical-align: top;\n",
       "    }\n",
       "\n",
       "    .dataframe thead th {\n",
       "        text-align: right;\n",
       "    }\n",
       "</style>\n",
       "<table border=\"1\" class=\"dataframe\">\n",
       "  <thead>\n",
       "    <tr style=\"text-align: right;\">\n",
       "      <th></th>\n",
       "      <th>Date</th>\n",
       "      <th>Product</th>\n",
       "      <th>Sales</th>\n",
       "    </tr>\n",
       "  </thead>\n",
       "  <tbody>\n",
       "    <tr>\n",
       "      <th>1</th>\n",
       "      <td>2024-01-02</td>\n",
       "      <td>Product B</td>\n",
       "      <td>510.0</td>\n",
       "    </tr>\n",
       "    <tr>\n",
       "      <th>2</th>\n",
       "      <td>2024-01-03</td>\n",
       "      <td>Product C</td>\n",
       "      <td>NaN</td>\n",
       "    </tr>\n",
       "    <tr>\n",
       "      <th>3</th>\n",
       "      <td>2024-01-04</td>\n",
       "      <td>Product A</td>\n",
       "      <td>600.0</td>\n",
       "    </tr>\n",
       "    <tr>\n",
       "      <th>4</th>\n",
       "      <td>2024-01-05</td>\n",
       "      <td>Product B</td>\n",
       "      <td>NaN</td>\n",
       "    </tr>\n",
       "    <tr>\n",
       "      <th>5</th>\n",
       "      <td>2024-01-06</td>\n",
       "      <td>Product C</td>\n",
       "      <td>700.0</td>\n",
       "    </tr>\n",
       "  </tbody>\n",
       "</table>\n",
       "</div>"
      ],
      "text/plain": [
       "         Date    Product  Sales\n",
       "1  2024-01-02  Product B  510.0\n",
       "2  2024-01-03  Product C    NaN\n",
       "3  2024-01-04  Product A  600.0\n",
       "4  2024-01-05  Product B    NaN\n",
       "5  2024-01-06  Product C  700.0"
      ]
     },
     "execution_count": 47,
     "metadata": {},
     "output_type": "execute_result"
    }
   ],
   "source": [
    "csv.iloc[1:]"
   ]
  },
  {
   "cell_type": "markdown",
   "id": "b59404f3",
   "metadata": {},
   "source": [
    "# Program 3\n",
    "You are given an Excel file named \"sales_data.xlsx\" containing sales records. Your tasks are:"
   ]
  },
  {
   "cell_type": "markdown",
   "id": "45335847",
   "metadata": {},
   "source": [
    "Load the Excel file into a DataFrame."
   ]
  },
  {
   "cell_type": "code",
   "execution_count": 48,
   "id": "203c4fde",
   "metadata": {},
   "outputs": [
    {
     "data": {
      "text/html": [
       "<div>\n",
       "<style scoped>\n",
       "    .dataframe tbody tr th:only-of-type {\n",
       "        vertical-align: middle;\n",
       "    }\n",
       "\n",
       "    .dataframe tbody tr th {\n",
       "        vertical-align: top;\n",
       "    }\n",
       "\n",
       "    .dataframe thead th {\n",
       "        text-align: right;\n",
       "    }\n",
       "</style>\n",
       "<table border=\"1\" class=\"dataframe\">\n",
       "  <thead>\n",
       "    <tr style=\"text-align: right;\">\n",
       "      <th></th>\n",
       "      <th>Date</th>\n",
       "      <th>Product</th>\n",
       "      <th>Sales</th>\n",
       "    </tr>\n",
       "  </thead>\n",
       "  <tbody>\n",
       "    <tr>\n",
       "      <th>0</th>\n",
       "      <td>2024-01-01</td>\n",
       "      <td>Product A</td>\n",
       "      <td>450.0</td>\n",
       "    </tr>\n",
       "    <tr>\n",
       "      <th>1</th>\n",
       "      <td>2024-01-02</td>\n",
       "      <td>Product B</td>\n",
       "      <td>510.0</td>\n",
       "    </tr>\n",
       "    <tr>\n",
       "      <th>2</th>\n",
       "      <td>2024-01-03</td>\n",
       "      <td>Product C</td>\n",
       "      <td>NaN</td>\n",
       "    </tr>\n",
       "    <tr>\n",
       "      <th>3</th>\n",
       "      <td>2024-01-04</td>\n",
       "      <td>Product A</td>\n",
       "      <td>600.0</td>\n",
       "    </tr>\n",
       "    <tr>\n",
       "      <th>4</th>\n",
       "      <td>2024-01-05</td>\n",
       "      <td>Product B</td>\n",
       "      <td>NaN</td>\n",
       "    </tr>\n",
       "    <tr>\n",
       "      <th>5</th>\n",
       "      <td>2024-01-06</td>\n",
       "      <td>Product C</td>\n",
       "      <td>700.0</td>\n",
       "    </tr>\n",
       "  </tbody>\n",
       "</table>\n",
       "</div>"
      ],
      "text/plain": [
       "         Date    Product  Sales\n",
       "0  2024-01-01  Product A  450.0\n",
       "1  2024-01-02  Product B  510.0\n",
       "2  2024-01-03  Product C    NaN\n",
       "3  2024-01-04  Product A  600.0\n",
       "4  2024-01-05  Product B    NaN\n",
       "5  2024-01-06  Product C  700.0"
      ]
     },
     "execution_count": 48,
     "metadata": {},
     "output_type": "execute_result"
    }
   ],
   "source": [
    "xlsx = pd.read_excel(\"sales_data.xlsx\")\n",
    "xlsx"
   ]
  },
  {
   "cell_type": "markdown",
   "id": "2ebd363a",
   "metadata": {},
   "source": [
    "Load the Excel file into a DataFrame."
   ]
  },
  {
   "cell_type": "code",
   "execution_count": 49,
   "id": "8d9f0efe",
   "metadata": {},
   "outputs": [
    {
     "data": {
      "text/html": [
       "<div>\n",
       "<style scoped>\n",
       "    .dataframe tbody tr th:only-of-type {\n",
       "        vertical-align: middle;\n",
       "    }\n",
       "\n",
       "    .dataframe tbody tr th {\n",
       "        vertical-align: top;\n",
       "    }\n",
       "\n",
       "    .dataframe thead th {\n",
       "        text-align: right;\n",
       "    }\n",
       "</style>\n",
       "<table border=\"1\" class=\"dataframe\">\n",
       "  <thead>\n",
       "    <tr style=\"text-align: right;\">\n",
       "      <th></th>\n",
       "      <th>Date</th>\n",
       "      <th>Product</th>\n",
       "      <th>Sales</th>\n",
       "    </tr>\n",
       "  </thead>\n",
       "  <tbody>\n",
       "    <tr>\n",
       "      <th>0</th>\n",
       "      <td>2024-01-01</td>\n",
       "      <td>Product A</td>\n",
       "      <td>450.0</td>\n",
       "    </tr>\n",
       "    <tr>\n",
       "      <th>1</th>\n",
       "      <td>2024-01-02</td>\n",
       "      <td>Product B</td>\n",
       "      <td>510.0</td>\n",
       "    </tr>\n",
       "    <tr>\n",
       "      <th>2</th>\n",
       "      <td>2024-01-03</td>\n",
       "      <td>Product C</td>\n",
       "      <td>NaN</td>\n",
       "    </tr>\n",
       "    <tr>\n",
       "      <th>3</th>\n",
       "      <td>2024-01-04</td>\n",
       "      <td>Product A</td>\n",
       "      <td>600.0</td>\n",
       "    </tr>\n",
       "    <tr>\n",
       "      <th>4</th>\n",
       "      <td>2024-01-05</td>\n",
       "      <td>Product B</td>\n",
       "      <td>NaN</td>\n",
       "    </tr>\n",
       "    <tr>\n",
       "      <th>5</th>\n",
       "      <td>2024-01-06</td>\n",
       "      <td>Product C</td>\n",
       "      <td>700.0</td>\n",
       "    </tr>\n",
       "  </tbody>\n",
       "</table>\n",
       "</div>"
      ],
      "text/plain": [
       "         Date    Product  Sales\n",
       "0  2024-01-01  Product A  450.0\n",
       "1  2024-01-02  Product B  510.0\n",
       "2  2024-01-03  Product C    NaN\n",
       "3  2024-01-04  Product A  600.0\n",
       "4  2024-01-05  Product B    NaN\n",
       "5  2024-01-06  Product C  700.0"
      ]
     },
     "execution_count": 49,
     "metadata": {},
     "output_type": "execute_result"
    }
   ],
   "source": [
    "df = pd.DataFrame(xlsx)\n",
    "df"
   ]
  },
  {
   "cell_type": "markdown",
   "id": "bdaa42ca",
   "metadata": {},
   "source": [
    "Identify and display the number of rows where the \"Sales\" column has missing (null) values."
   ]
  },
  {
   "cell_type": "code",
   "execution_count": 50,
   "id": "269d6c29",
   "metadata": {},
   "outputs": [
    {
     "name": "stdout",
     "output_type": "stream",
     "text": [
      "Number of null values: 2\n"
     ]
    }
   ],
   "source": [
    "print(f\"Number of null values: {df.isnull().sum().sum()}\")"
   ]
  },
  {
   "cell_type": "markdown",
   "id": "bbc19199",
   "metadata": {},
   "source": [
    "Fill the missing values using forward fill (```ffill```)."
   ]
  },
  {
   "cell_type": "code",
   "execution_count": 51,
   "id": "6a850a7a",
   "metadata": {},
   "outputs": [
    {
     "data": {
      "text/html": [
       "<div>\n",
       "<style scoped>\n",
       "    .dataframe tbody tr th:only-of-type {\n",
       "        vertical-align: middle;\n",
       "    }\n",
       "\n",
       "    .dataframe tbody tr th {\n",
       "        vertical-align: top;\n",
       "    }\n",
       "\n",
       "    .dataframe thead th {\n",
       "        text-align: right;\n",
       "    }\n",
       "</style>\n",
       "<table border=\"1\" class=\"dataframe\">\n",
       "  <thead>\n",
       "    <tr style=\"text-align: right;\">\n",
       "      <th></th>\n",
       "      <th>Date</th>\n",
       "      <th>Product</th>\n",
       "      <th>Sales</th>\n",
       "    </tr>\n",
       "  </thead>\n",
       "  <tbody>\n",
       "    <tr>\n",
       "      <th>0</th>\n",
       "      <td>2024-01-01</td>\n",
       "      <td>Product A</td>\n",
       "      <td>450.0</td>\n",
       "    </tr>\n",
       "    <tr>\n",
       "      <th>1</th>\n",
       "      <td>2024-01-02</td>\n",
       "      <td>Product B</td>\n",
       "      <td>510.0</td>\n",
       "    </tr>\n",
       "    <tr>\n",
       "      <th>2</th>\n",
       "      <td>2024-01-03</td>\n",
       "      <td>Product C</td>\n",
       "      <td>510.0</td>\n",
       "    </tr>\n",
       "    <tr>\n",
       "      <th>3</th>\n",
       "      <td>2024-01-04</td>\n",
       "      <td>Product A</td>\n",
       "      <td>600.0</td>\n",
       "    </tr>\n",
       "    <tr>\n",
       "      <th>4</th>\n",
       "      <td>2024-01-05</td>\n",
       "      <td>Product B</td>\n",
       "      <td>600.0</td>\n",
       "    </tr>\n",
       "    <tr>\n",
       "      <th>5</th>\n",
       "      <td>2024-01-06</td>\n",
       "      <td>Product C</td>\n",
       "      <td>700.0</td>\n",
       "    </tr>\n",
       "  </tbody>\n",
       "</table>\n",
       "</div>"
      ],
      "text/plain": [
       "         Date    Product  Sales\n",
       "0  2024-01-01  Product A  450.0\n",
       "1  2024-01-02  Product B  510.0\n",
       "2  2024-01-03  Product C  510.0\n",
       "3  2024-01-04  Product A  600.0\n",
       "4  2024-01-05  Product B  600.0\n",
       "5  2024-01-06  Product C  700.0"
      ]
     },
     "execution_count": 51,
     "metadata": {},
     "output_type": "execute_result"
    }
   ],
   "source": [
    "df.ffill(axis=0, inplace=True)\n",
    "df"
   ]
  },
  {
   "cell_type": "markdown",
   "id": "141b471b",
   "metadata": {},
   "source": [
    "Count and display the number of rows where the \"Sales\" column value is less than or equal to 500."
   ]
  },
  {
   "cell_type": "code",
   "execution_count": 52,
   "id": "1757e2aa",
   "metadata": {},
   "outputs": [
    {
     "name": "stdout",
     "output_type": "stream",
     "text": [
      "Number of rows where sales is greater than 500: 1\n"
     ]
    }
   ],
   "source": [
    "print(f\"Number of rows where sales is greater than 500: {df[df['Sales'] <= 500].shape[0]}\")"
   ]
  },
  {
   "cell_type": "markdown",
   "id": "1ccbe113",
   "metadata": {},
   "source": [
    "Retrieve and display the first four records from the dataset."
   ]
  },
  {
   "cell_type": "code",
   "execution_count": 53,
   "id": "d303ee4a",
   "metadata": {},
   "outputs": [
    {
     "data": {
      "text/html": [
       "<div>\n",
       "<style scoped>\n",
       "    .dataframe tbody tr th:only-of-type {\n",
       "        vertical-align: middle;\n",
       "    }\n",
       "\n",
       "    .dataframe tbody tr th {\n",
       "        vertical-align: top;\n",
       "    }\n",
       "\n",
       "    .dataframe thead th {\n",
       "        text-align: right;\n",
       "    }\n",
       "</style>\n",
       "<table border=\"1\" class=\"dataframe\">\n",
       "  <thead>\n",
       "    <tr style=\"text-align: right;\">\n",
       "      <th></th>\n",
       "      <th>Date</th>\n",
       "      <th>Product</th>\n",
       "      <th>Sales</th>\n",
       "    </tr>\n",
       "  </thead>\n",
       "  <tbody>\n",
       "    <tr>\n",
       "      <th>0</th>\n",
       "      <td>2024-01-01</td>\n",
       "      <td>Product A</td>\n",
       "      <td>450.0</td>\n",
       "    </tr>\n",
       "    <tr>\n",
       "      <th>1</th>\n",
       "      <td>2024-01-02</td>\n",
       "      <td>Product B</td>\n",
       "      <td>510.0</td>\n",
       "    </tr>\n",
       "    <tr>\n",
       "      <th>2</th>\n",
       "      <td>2024-01-03</td>\n",
       "      <td>Product C</td>\n",
       "      <td>510.0</td>\n",
       "    </tr>\n",
       "    <tr>\n",
       "      <th>3</th>\n",
       "      <td>2024-01-04</td>\n",
       "      <td>Product A</td>\n",
       "      <td>600.0</td>\n",
       "    </tr>\n",
       "  </tbody>\n",
       "</table>\n",
       "</div>"
      ],
      "text/plain": [
       "         Date    Product  Sales\n",
       "0  2024-01-01  Product A  450.0\n",
       "1  2024-01-02  Product B  510.0\n",
       "2  2024-01-03  Product C  510.0\n",
       "3  2024-01-04  Product A  600.0"
      ]
     },
     "execution_count": 53,
     "metadata": {},
     "output_type": "execute_result"
    }
   ],
   "source": [
    "xlsx.iloc[:4]"
   ]
  },
  {
   "cell_type": "markdown",
   "id": "62a16857",
   "metadata": {},
   "source": [
    "Retrieve and display the last two records from the dataset."
   ]
  },
  {
   "cell_type": "code",
   "execution_count": 54,
   "id": "04c2a721",
   "metadata": {},
   "outputs": [
    {
     "data": {
      "text/html": [
       "<div>\n",
       "<style scoped>\n",
       "    .dataframe tbody tr th:only-of-type {\n",
       "        vertical-align: middle;\n",
       "    }\n",
       "\n",
       "    .dataframe tbody tr th {\n",
       "        vertical-align: top;\n",
       "    }\n",
       "\n",
       "    .dataframe thead th {\n",
       "        text-align: right;\n",
       "    }\n",
       "</style>\n",
       "<table border=\"1\" class=\"dataframe\">\n",
       "  <thead>\n",
       "    <tr style=\"text-align: right;\">\n",
       "      <th></th>\n",
       "      <th>Date</th>\n",
       "      <th>Product</th>\n",
       "      <th>Sales</th>\n",
       "    </tr>\n",
       "  </thead>\n",
       "  <tbody>\n",
       "    <tr>\n",
       "      <th>4</th>\n",
       "      <td>2024-01-05</td>\n",
       "      <td>Product B</td>\n",
       "      <td>600.0</td>\n",
       "    </tr>\n",
       "    <tr>\n",
       "      <th>5</th>\n",
       "      <td>2024-01-06</td>\n",
       "      <td>Product C</td>\n",
       "      <td>700.0</td>\n",
       "    </tr>\n",
       "  </tbody>\n",
       "</table>\n",
       "</div>"
      ],
      "text/plain": [
       "         Date    Product  Sales\n",
       "4  2024-01-05  Product B  600.0\n",
       "5  2024-01-06  Product C  700.0"
      ]
     },
     "execution_count": 54,
     "metadata": {},
     "output_type": "execute_result"
    }
   ],
   "source": [
    "xlsx.iloc[-2:]"
   ]
  },
  {
   "cell_type": "markdown",
   "id": "5f68ce55",
   "metadata": {},
   "source": [
    "# Program 4\n",
    "You are given an Excel file named \"sales_data.xlsx\" containing sales records. Your tasks are:"
   ]
  },
  {
   "cell_type": "code",
   "execution_count": 55,
   "id": "314c5075",
   "metadata": {},
   "outputs": [
    {
     "data": {
      "text/html": [
       "<div>\n",
       "<style scoped>\n",
       "    .dataframe tbody tr th:only-of-type {\n",
       "        vertical-align: middle;\n",
       "    }\n",
       "\n",
       "    .dataframe tbody tr th {\n",
       "        vertical-align: top;\n",
       "    }\n",
       "\n",
       "    .dataframe thead th {\n",
       "        text-align: right;\n",
       "    }\n",
       "</style>\n",
       "<table border=\"1\" class=\"dataframe\">\n",
       "  <thead>\n",
       "    <tr style=\"text-align: right;\">\n",
       "      <th></th>\n",
       "      <th>Date</th>\n",
       "      <th>Product</th>\n",
       "      <th>Sales</th>\n",
       "    </tr>\n",
       "  </thead>\n",
       "  <tbody>\n",
       "    <tr>\n",
       "      <th>0</th>\n",
       "      <td>2024-01-01</td>\n",
       "      <td>Product A</td>\n",
       "      <td>450.0</td>\n",
       "    </tr>\n",
       "    <tr>\n",
       "      <th>1</th>\n",
       "      <td>2024-01-02</td>\n",
       "      <td>Product B</td>\n",
       "      <td>510.0</td>\n",
       "    </tr>\n",
       "    <tr>\n",
       "      <th>2</th>\n",
       "      <td>2024-01-03</td>\n",
       "      <td>Product C</td>\n",
       "      <td>NaN</td>\n",
       "    </tr>\n",
       "    <tr>\n",
       "      <th>3</th>\n",
       "      <td>2024-01-04</td>\n",
       "      <td>Product A</td>\n",
       "      <td>600.0</td>\n",
       "    </tr>\n",
       "    <tr>\n",
       "      <th>4</th>\n",
       "      <td>2024-01-05</td>\n",
       "      <td>Product B</td>\n",
       "      <td>NaN</td>\n",
       "    </tr>\n",
       "    <tr>\n",
       "      <th>5</th>\n",
       "      <td>2024-01-06</td>\n",
       "      <td>Product C</td>\n",
       "      <td>700.0</td>\n",
       "    </tr>\n",
       "  </tbody>\n",
       "</table>\n",
       "</div>"
      ],
      "text/plain": [
       "         Date    Product  Sales\n",
       "0  2024-01-01  Product A  450.0\n",
       "1  2024-01-02  Product B  510.0\n",
       "2  2024-01-03  Product C    NaN\n",
       "3  2024-01-04  Product A  600.0\n",
       "4  2024-01-05  Product B    NaN\n",
       "5  2024-01-06  Product C  700.0"
      ]
     },
     "execution_count": 55,
     "metadata": {},
     "output_type": "execute_result"
    }
   ],
   "source": [
    "xlsx = pd.read_excel(\"sales_data.xlsx\")\n",
    "xlsx"
   ]
  },
  {
   "cell_type": "markdown",
   "id": "4d78939e",
   "metadata": {},
   "source": [
    "Load the Excel file into a DataFrame."
   ]
  },
  {
   "cell_type": "code",
   "execution_count": 56,
   "id": "f5967c24",
   "metadata": {},
   "outputs": [
    {
     "data": {
      "text/html": [
       "<div>\n",
       "<style scoped>\n",
       "    .dataframe tbody tr th:only-of-type {\n",
       "        vertical-align: middle;\n",
       "    }\n",
       "\n",
       "    .dataframe tbody tr th {\n",
       "        vertical-align: top;\n",
       "    }\n",
       "\n",
       "    .dataframe thead th {\n",
       "        text-align: right;\n",
       "    }\n",
       "</style>\n",
       "<table border=\"1\" class=\"dataframe\">\n",
       "  <thead>\n",
       "    <tr style=\"text-align: right;\">\n",
       "      <th></th>\n",
       "      <th>Date</th>\n",
       "      <th>Product</th>\n",
       "      <th>Sales</th>\n",
       "    </tr>\n",
       "  </thead>\n",
       "  <tbody>\n",
       "    <tr>\n",
       "      <th>0</th>\n",
       "      <td>2024-01-01</td>\n",
       "      <td>Product A</td>\n",
       "      <td>450.0</td>\n",
       "    </tr>\n",
       "    <tr>\n",
       "      <th>1</th>\n",
       "      <td>2024-01-02</td>\n",
       "      <td>Product B</td>\n",
       "      <td>510.0</td>\n",
       "    </tr>\n",
       "    <tr>\n",
       "      <th>2</th>\n",
       "      <td>2024-01-03</td>\n",
       "      <td>Product C</td>\n",
       "      <td>NaN</td>\n",
       "    </tr>\n",
       "    <tr>\n",
       "      <th>3</th>\n",
       "      <td>2024-01-04</td>\n",
       "      <td>Product A</td>\n",
       "      <td>600.0</td>\n",
       "    </tr>\n",
       "    <tr>\n",
       "      <th>4</th>\n",
       "      <td>2024-01-05</td>\n",
       "      <td>Product B</td>\n",
       "      <td>NaN</td>\n",
       "    </tr>\n",
       "    <tr>\n",
       "      <th>5</th>\n",
       "      <td>2024-01-06</td>\n",
       "      <td>Product C</td>\n",
       "      <td>700.0</td>\n",
       "    </tr>\n",
       "  </tbody>\n",
       "</table>\n",
       "</div>"
      ],
      "text/plain": [
       "         Date    Product  Sales\n",
       "0  2024-01-01  Product A  450.0\n",
       "1  2024-01-02  Product B  510.0\n",
       "2  2024-01-03  Product C    NaN\n",
       "3  2024-01-04  Product A  600.0\n",
       "4  2024-01-05  Product B    NaN\n",
       "5  2024-01-06  Product C  700.0"
      ]
     },
     "execution_count": 56,
     "metadata": {},
     "output_type": "execute_result"
    }
   ],
   "source": [
    "df = pd.DataFrame(xlsx)\n",
    "df"
   ]
  },
  {
   "cell_type": "markdown",
   "id": "198b823b",
   "metadata": {},
   "source": [
    "Use label-based indexing (```.loc```) to retrieve and display the record for \"2024-01-03\"."
   ]
  },
  {
   "cell_type": "code",
   "execution_count": 57,
   "id": "754715b7",
   "metadata": {},
   "outputs": [
    {
     "data": {
      "text/html": [
       "<div>\n",
       "<style scoped>\n",
       "    .dataframe tbody tr th:only-of-type {\n",
       "        vertical-align: middle;\n",
       "    }\n",
       "\n",
       "    .dataframe tbody tr th {\n",
       "        vertical-align: top;\n",
       "    }\n",
       "\n",
       "    .dataframe thead th {\n",
       "        text-align: right;\n",
       "    }\n",
       "</style>\n",
       "<table border=\"1\" class=\"dataframe\">\n",
       "  <thead>\n",
       "    <tr style=\"text-align: right;\">\n",
       "      <th></th>\n",
       "      <th>Date</th>\n",
       "      <th>Product</th>\n",
       "      <th>Sales</th>\n",
       "    </tr>\n",
       "  </thead>\n",
       "  <tbody>\n",
       "    <tr>\n",
       "      <th>2</th>\n",
       "      <td>2024-01-03</td>\n",
       "      <td>Product C</td>\n",
       "      <td>NaN</td>\n",
       "    </tr>\n",
       "  </tbody>\n",
       "</table>\n",
       "</div>"
      ],
      "text/plain": [
       "         Date    Product  Sales\n",
       "2  2024-01-03  Product C    NaN"
      ]
     },
     "execution_count": 57,
     "metadata": {},
     "output_type": "execute_result"
    }
   ],
   "source": [
    "df.loc[df['Date'] == '2024-01-03']"
   ]
  },
  {
   "cell_type": "markdown",
   "id": "6d286239",
   "metadata": {},
   "source": [
    "Use label-based indexing (```.loc```) to display the \"Product\" and \"Sales\" columns for the record on \"2024-01-05\"."
   ]
  },
  {
   "cell_type": "code",
   "execution_count": 58,
   "id": "fec8451e",
   "metadata": {},
   "outputs": [
    {
     "data": {
      "text/html": [
       "<div>\n",
       "<style scoped>\n",
       "    .dataframe tbody tr th:only-of-type {\n",
       "        vertical-align: middle;\n",
       "    }\n",
       "\n",
       "    .dataframe tbody tr th {\n",
       "        vertical-align: top;\n",
       "    }\n",
       "\n",
       "    .dataframe thead th {\n",
       "        text-align: right;\n",
       "    }\n",
       "</style>\n",
       "<table border=\"1\" class=\"dataframe\">\n",
       "  <thead>\n",
       "    <tr style=\"text-align: right;\">\n",
       "      <th></th>\n",
       "      <th>Product</th>\n",
       "      <th>Sales</th>\n",
       "    </tr>\n",
       "  </thead>\n",
       "  <tbody>\n",
       "    <tr>\n",
       "      <th>4</th>\n",
       "      <td>Product B</td>\n",
       "      <td>NaN</td>\n",
       "    </tr>\n",
       "  </tbody>\n",
       "</table>\n",
       "</div>"
      ],
      "text/plain": [
       "     Product  Sales\n",
       "4  Product B    NaN"
      ]
     },
     "execution_count": 58,
     "metadata": {},
     "output_type": "execute_result"
    }
   ],
   "source": [
    "df.loc[df['Date'] == '2024-01-05', ['Product', 'Sales']]"
   ]
  },
  {
   "cell_type": "markdown",
   "id": "f0fb04dd",
   "metadata": {},
   "source": [
    "Use label-based indexing (```.loc```) to display records from \"2024-01-02\" to \"2024-01-05\"."
   ]
  },
  {
   "cell_type": "code",
   "execution_count": 59,
   "id": "955ab719",
   "metadata": {},
   "outputs": [
    {
     "data": {
      "text/html": [
       "<div>\n",
       "<style scoped>\n",
       "    .dataframe tbody tr th:only-of-type {\n",
       "        vertical-align: middle;\n",
       "    }\n",
       "\n",
       "    .dataframe tbody tr th {\n",
       "        vertical-align: top;\n",
       "    }\n",
       "\n",
       "    .dataframe thead th {\n",
       "        text-align: right;\n",
       "    }\n",
       "</style>\n",
       "<table border=\"1\" class=\"dataframe\">\n",
       "  <thead>\n",
       "    <tr style=\"text-align: right;\">\n",
       "      <th></th>\n",
       "      <th>Date</th>\n",
       "      <th>Product</th>\n",
       "      <th>Sales</th>\n",
       "    </tr>\n",
       "  </thead>\n",
       "  <tbody>\n",
       "    <tr>\n",
       "      <th>1</th>\n",
       "      <td>2024-01-02</td>\n",
       "      <td>Product B</td>\n",
       "      <td>510.0</td>\n",
       "    </tr>\n",
       "    <tr>\n",
       "      <th>2</th>\n",
       "      <td>2024-01-03</td>\n",
       "      <td>Product C</td>\n",
       "      <td>NaN</td>\n",
       "    </tr>\n",
       "    <tr>\n",
       "      <th>3</th>\n",
       "      <td>2024-01-04</td>\n",
       "      <td>Product A</td>\n",
       "      <td>600.0</td>\n",
       "    </tr>\n",
       "    <tr>\n",
       "      <th>4</th>\n",
       "      <td>2024-01-05</td>\n",
       "      <td>Product B</td>\n",
       "      <td>NaN</td>\n",
       "    </tr>\n",
       "  </tbody>\n",
       "</table>\n",
       "</div>"
      ],
      "text/plain": [
       "         Date    Product  Sales\n",
       "1  2024-01-02  Product B  510.0\n",
       "2  2024-01-03  Product C    NaN\n",
       "3  2024-01-04  Product A  600.0\n",
       "4  2024-01-05  Product B    NaN"
      ]
     },
     "execution_count": 59,
     "metadata": {},
     "output_type": "execute_result"
    }
   ],
   "source": [
    "df.loc[(df['Date'] >= '2024-01-02') & (df['Date'] <= '2024-01-05')]"
   ]
  },
  {
   "cell_type": "markdown",
   "id": "1096046a",
   "metadata": {},
   "source": [
    "Use label-based indexing (```.loc```) to select all rows where the \"Product\" is \"Product A\", displaying only the \"Date\" and \"Sales\" columns."
   ]
  },
  {
   "cell_type": "code",
   "execution_count": 60,
   "id": "4885b40f",
   "metadata": {},
   "outputs": [
    {
     "data": {
      "text/html": [
       "<div>\n",
       "<style scoped>\n",
       "    .dataframe tbody tr th:only-of-type {\n",
       "        vertical-align: middle;\n",
       "    }\n",
       "\n",
       "    .dataframe tbody tr th {\n",
       "        vertical-align: top;\n",
       "    }\n",
       "\n",
       "    .dataframe thead th {\n",
       "        text-align: right;\n",
       "    }\n",
       "</style>\n",
       "<table border=\"1\" class=\"dataframe\">\n",
       "  <thead>\n",
       "    <tr style=\"text-align: right;\">\n",
       "      <th></th>\n",
       "      <th>Date</th>\n",
       "      <th>Sales</th>\n",
       "    </tr>\n",
       "  </thead>\n",
       "  <tbody>\n",
       "    <tr>\n",
       "      <th>0</th>\n",
       "      <td>2024-01-01</td>\n",
       "      <td>450.0</td>\n",
       "    </tr>\n",
       "    <tr>\n",
       "      <th>3</th>\n",
       "      <td>2024-01-04</td>\n",
       "      <td>600.0</td>\n",
       "    </tr>\n",
       "  </tbody>\n",
       "</table>\n",
       "</div>"
      ],
      "text/plain": [
       "         Date  Sales\n",
       "0  2024-01-01  450.0\n",
       "3  2024-01-04  600.0"
      ]
     },
     "execution_count": 60,
     "metadata": {},
     "output_type": "execute_result"
    }
   ],
   "source": [
    "df.loc[df['Product'] == 'Product A', ['Date', 'Sales']]"
   ]
  },
  {
   "cell_type": "markdown",
   "id": "5c4b7469",
   "metadata": {},
   "source": [
    "Modify the \"Sales\" value for \"2024-01-03\" to 550 using ```.loc```, then display the updated row."
   ]
  },
  {
   "cell_type": "code",
   "execution_count": 61,
   "id": "7f5feb5b",
   "metadata": {},
   "outputs": [
    {
     "data": {
      "text/html": [
       "<div>\n",
       "<style scoped>\n",
       "    .dataframe tbody tr th:only-of-type {\n",
       "        vertical-align: middle;\n",
       "    }\n",
       "\n",
       "    .dataframe tbody tr th {\n",
       "        vertical-align: top;\n",
       "    }\n",
       "\n",
       "    .dataframe thead th {\n",
       "        text-align: right;\n",
       "    }\n",
       "</style>\n",
       "<table border=\"1\" class=\"dataframe\">\n",
       "  <thead>\n",
       "    <tr style=\"text-align: right;\">\n",
       "      <th></th>\n",
       "      <th>Date</th>\n",
       "      <th>Product</th>\n",
       "      <th>Sales</th>\n",
       "    </tr>\n",
       "  </thead>\n",
       "  <tbody>\n",
       "    <tr>\n",
       "      <th>2</th>\n",
       "      <td>2024-01-03</td>\n",
       "      <td>Product C</td>\n",
       "      <td>550.0</td>\n",
       "    </tr>\n",
       "  </tbody>\n",
       "</table>\n",
       "</div>"
      ],
      "text/plain": [
       "         Date    Product  Sales\n",
       "2  2024-01-03  Product C  550.0"
      ]
     },
     "execution_count": 61,
     "metadata": {},
     "output_type": "execute_result"
    }
   ],
   "source": [
    "df.loc[df['Date'] == '2024-01-03', 'Sales'] = 550\n",
    "df.loc[df['Date'] == '2024-01-03']"
   ]
  }
 ],
 "metadata": {
  "kernelspec": {
   "display_name": "dav",
   "language": "python",
   "name": "python3"
  },
  "language_info": {
   "codemirror_mode": {
    "name": "ipython",
    "version": 3
   },
   "file_extension": ".py",
   "mimetype": "text/x-python",
   "name": "python",
   "nbconvert_exporter": "python",
   "pygments_lexer": "ipython3",
   "version": "3.13.2"
  }
 },
 "nbformat": 4,
 "nbformat_minor": 5
}
