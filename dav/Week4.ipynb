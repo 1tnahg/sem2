{
 "cells": [
  {
   "cell_type": "markdown",
   "id": "c3c5da13",
   "metadata": {
    "id": "TeznF4kNGinj"
   },
   "source": [
    "# Week 4"
   ]
  },
  {
   "cell_type": "markdown",
   "id": "492b5879",
   "metadata": {},
   "source": [
    "**Name:** I Adarsh *(PG-12)*<br>\n",
    "**Registration Number:** 240905294<br>\n",
    "**Date:** 11/02/2025"
   ]
  },
  {
   "cell_type": "code",
   "execution_count": 2,
   "id": "2c1d9c7a",
   "metadata": {},
   "outputs": [],
   "source": [
    "import numpy as np\n",
    "import pandas as pd"
   ]
  },
  {
   "cell_type": "markdown",
   "id": "523050ca",
   "metadata": {},
   "source": [
    "# Program 1\n",
    "Create a ```Series``` from a list of integers representing daily temperatures (in Celsius) over a week. Assign index labels as day of the week."
   ]
  },
  {
   "cell_type": "code",
   "execution_count": 3,
   "id": "1872efdf",
   "metadata": {},
   "outputs": [
    {
     "data": {
      "text/plain": [
       "Monday        0\n",
       "Tuesday       1\n",
       "Wednesday    13\n",
       "Thursday     42\n",
       "Friday       21\n",
       "Saturday    -10\n",
       "Sunday       47\n",
       "dtype: int64"
      ]
     },
     "execution_count": 3,
     "metadata": {},
     "output_type": "execute_result"
    }
   ],
   "source": [
    "temps = np.random.randint(-10, 50, size=7)\n",
    "days = ['Monday', 'Tuesday', 'Wednesday', 'Thursday', 'Friday', 'Saturday', 'Sunday']\n",
    "temp_series = pd.Series(temps, index=days)\n",
    "temp_series"
   ]
  },
  {
   "cell_type": "markdown",
   "id": "a086b0b5",
   "metadata": {},
   "source": [
    "Find and print the average (mean) temperature for the week."
   ]
  },
  {
   "cell_type": "code",
   "execution_count": 4,
   "id": "917b2000",
   "metadata": {},
   "outputs": [
    {
     "name": "stdout",
     "output_type": "stream",
     "text": [
      "Mean temperature: 16.285714285714285\n"
     ]
    }
   ],
   "source": [
    "print(f\"Mean temperature: {np.mean(temp_series)}\")"
   ]
  },
  {
   "cell_type": "markdown",
   "id": "df5f3ed0",
   "metadata": {},
   "source": [
    "Identify and print the maximum and minimum temperatures and their respective days."
   ]
  },
  {
   "cell_type": "code",
   "execution_count": 5,
   "id": "ac94d04e",
   "metadata": {},
   "outputs": [
    {
     "name": "stdout",
     "output_type": "stream",
     "text": [
      "Maximum temperature: 47 on Sunday\n",
      "Minimum temperature: -10 on Saturday\n"
     ]
    }
   ],
   "source": [
    "print(f\"Maximum temperature: {np.max(temp_series)} on {temp_series.idxmax()}\")\n",
    "print(f\"Minimum temperature: {np.min(temp_series)} on {temp_series.idxmin()}\")"
   ]
  },
  {
   "cell_type": "markdown",
   "id": "7086dcaf",
   "metadata": {},
   "source": [
    "Display the temperatures greater than a specific value."
   ]
  },
  {
   "cell_type": "code",
   "execution_count": 6,
   "id": "d9fb0eb8",
   "metadata": {},
   "outputs": [
    {
     "name": "stdout",
     "output_type": "stream",
     "text": [
      "Temperatures greater than 25:\n"
     ]
    },
    {
     "data": {
      "text/plain": [
       "Thursday    42\n",
       "Sunday      47\n",
       "dtype: int64"
      ]
     },
     "execution_count": 6,
     "metadata": {},
     "output_type": "execute_result"
    }
   ],
   "source": [
    "val = int(input(\"Enter a value: \"))\n",
    "greater = temp_series[temp_series > val]\n",
    "print(f\"Temperatures greater than {val}:\")\n",
    "greater"
   ]
  },
  {
   "cell_type": "markdown",
   "id": "9d1d5f3e",
   "metadata": {},
   "source": [
    "Convert all temperatures to Fahrenheit."
   ]
  },
  {
   "cell_type": "code",
   "execution_count": 7,
   "id": "3d27385c",
   "metadata": {},
   "outputs": [
    {
     "name": "stdout",
     "output_type": "stream",
     "text": [
      "Temperatures in Fahrenheit:\n"
     ]
    },
    {
     "data": {
      "text/plain": [
       "Monday        32.0\n",
       "Tuesday       33.8\n",
       "Wednesday     55.4\n",
       "Thursday     107.6\n",
       "Friday        69.8\n",
       "Saturday      14.0\n",
       "Sunday       116.6\n",
       "dtype: float64"
      ]
     },
     "execution_count": 7,
     "metadata": {},
     "output_type": "execute_result"
    }
   ],
   "source": [
    "temp_series_f = (temp_series * 9/5) + 32\n",
    "print(\"Temperatures in Fahrenheit:\")\n",
    "temp_series_f"
   ]
  },
  {
   "cell_type": "markdown",
   "id": "90c7375d",
   "metadata": {},
   "source": [
    "Print the days had temperatures above the average."
   ]
  },
  {
   "cell_type": "code",
   "execution_count": 8,
   "id": "58516754",
   "metadata": {},
   "outputs": [
    {
     "name": "stdout",
     "output_type": "stream",
     "text": [
      "Temperatures above average:\n"
     ]
    },
    {
     "data": {
      "text/plain": [
       "Thursday    42\n",
       "Friday      21\n",
       "Sunday      47\n",
       "dtype: int64"
      ]
     },
     "execution_count": 8,
     "metadata": {},
     "output_type": "execute_result"
    }
   ],
   "source": [
    "above_avg = temp_series[temp_series > np.mean(temp_series)]\n",
    "print(\"Temperatures above average:\")\n",
    "above_avg"
   ]
  },
  {
   "cell_type": "markdown",
   "id": "e50cac4e",
   "metadata": {},
   "source": [
    "# Program 2\n",
    "Create a data frame with details of 10 students and columns as Roll Number, Name, Gender, Marks1, Marks2, Marks3."
   ]
  },
  {
   "cell_type": "code",
   "execution_count": 9,
   "id": "028d556e",
   "metadata": {},
   "outputs": [
    {
     "data": {
      "text/html": [
       "<div>\n",
       "<style scoped>\n",
       "    .dataframe tbody tr th:only-of-type {\n",
       "        vertical-align: middle;\n",
       "    }\n",
       "\n",
       "    .dataframe tbody tr th {\n",
       "        vertical-align: top;\n",
       "    }\n",
       "\n",
       "    .dataframe thead th {\n",
       "        text-align: right;\n",
       "    }\n",
       "</style>\n",
       "<table border=\"1\" class=\"dataframe\">\n",
       "  <thead>\n",
       "    <tr style=\"text-align: right;\">\n",
       "      <th></th>\n",
       "      <th>Name</th>\n",
       "      <th>Gender</th>\n",
       "      <th>Marks1</th>\n",
       "      <th>Marks2</th>\n",
       "      <th>Marks3</th>\n",
       "    </tr>\n",
       "    <tr>\n",
       "      <th>Roll No.</th>\n",
       "      <th></th>\n",
       "      <th></th>\n",
       "      <th></th>\n",
       "      <th></th>\n",
       "      <th></th>\n",
       "    </tr>\n",
       "  </thead>\n",
       "  <tbody>\n",
       "    <tr>\n",
       "      <th>1</th>\n",
       "      <td>kaerrqj</td>\n",
       "      <td>M</td>\n",
       "      <td>31</td>\n",
       "      <td>63</td>\n",
       "      <td>57</td>\n",
       "    </tr>\n",
       "    <tr>\n",
       "      <th>2</th>\n",
       "      <td>btrjpqq</td>\n",
       "      <td>M</td>\n",
       "      <td>62</td>\n",
       "      <td>76</td>\n",
       "      <td>24</td>\n",
       "    </tr>\n",
       "    <tr>\n",
       "      <th>3</th>\n",
       "      <td>dsnjsio</td>\n",
       "      <td>M</td>\n",
       "      <td>83</td>\n",
       "      <td>63</td>\n",
       "      <td>94</td>\n",
       "    </tr>\n",
       "    <tr>\n",
       "      <th>4</th>\n",
       "      <td>rngamva</td>\n",
       "      <td>M</td>\n",
       "      <td>99</td>\n",
       "      <td>92</td>\n",
       "      <td>25</td>\n",
       "    </tr>\n",
       "    <tr>\n",
       "      <th>5</th>\n",
       "      <td>jmftxic</td>\n",
       "      <td>F</td>\n",
       "      <td>68</td>\n",
       "      <td>8</td>\n",
       "      <td>79</td>\n",
       "    </tr>\n",
       "    <tr>\n",
       "      <th>6</th>\n",
       "      <td>spgrttp</td>\n",
       "      <td>M</td>\n",
       "      <td>89</td>\n",
       "      <td>89</td>\n",
       "      <td>48</td>\n",
       "    </tr>\n",
       "    <tr>\n",
       "      <th>7</th>\n",
       "      <td>mztyiut</td>\n",
       "      <td>M</td>\n",
       "      <td>30</td>\n",
       "      <td>37</td>\n",
       "      <td>23</td>\n",
       "    </tr>\n",
       "    <tr>\n",
       "      <th>8</th>\n",
       "      <td>bfzvxyu</td>\n",
       "      <td>M</td>\n",
       "      <td>34</td>\n",
       "      <td>93</td>\n",
       "      <td>83</td>\n",
       "    </tr>\n",
       "    <tr>\n",
       "      <th>9</th>\n",
       "      <td>xhgqzgc</td>\n",
       "      <td>M</td>\n",
       "      <td>67</td>\n",
       "      <td>90</td>\n",
       "      <td>34</td>\n",
       "    </tr>\n",
       "    <tr>\n",
       "      <th>10</th>\n",
       "      <td>gwrlufe</td>\n",
       "      <td>M</td>\n",
       "      <td>91</td>\n",
       "      <td>17</td>\n",
       "      <td>66</td>\n",
       "    </tr>\n",
       "  </tbody>\n",
       "</table>\n",
       "</div>"
      ],
      "text/plain": [
       "             Name Gender  Marks1  Marks2  Marks3\n",
       "Roll No.                                        \n",
       "1         kaerrqj      M      31      63      57\n",
       "2         btrjpqq      M      62      76      24\n",
       "3         dsnjsio      M      83      63      94\n",
       "4         rngamva      M      99      92      25\n",
       "5         jmftxic      F      68       8      79\n",
       "6         spgrttp      M      89      89      48\n",
       "7         mztyiut      M      30      37      23\n",
       "8         bfzvxyu      M      34      93      83\n",
       "9         xhgqzgc      M      67      90      34\n",
       "10        gwrlufe      M      91      17      66"
      ]
     },
     "execution_count": 9,
     "metadata": {},
     "output_type": "execute_result"
    }
   ],
   "source": [
    "import random\n",
    "import string\n",
    "\n",
    "def generate_random_name():\n",
    "    return ''.join(random.choices(string.ascii_lowercase, k=7))\n",
    "\n",
    "students = {\n",
    "    'Roll No.': list(range(1, 11)),\n",
    "    'Name': [generate_random_name() for _ in range(10)],\n",
    "    'Gender': np.random.choice(['M', 'F'], size=10),\n",
    "    'Marks1': np.random.randint(0, 100, size=10),\n",
    "    'Marks2': np.random.randint(0, 100, size=10),\n",
    "    'Marks3': np.random.randint(0, 100, size=10)\n",
    "}\n",
    "\n",
    "df = pd.DataFrame(data=students)\n",
    "df.set_index('Roll No.', inplace=True)\n",
    "df"
   ]
  },
  {
   "cell_type": "markdown",
   "id": "dea0e456",
   "metadata": {},
   "source": [
    "Create a new column with total marks."
   ]
  },
  {
   "cell_type": "code",
   "execution_count": 10,
   "id": "4cad2389",
   "metadata": {},
   "outputs": [
    {
     "data": {
      "text/html": [
       "<div>\n",
       "<style scoped>\n",
       "    .dataframe tbody tr th:only-of-type {\n",
       "        vertical-align: middle;\n",
       "    }\n",
       "\n",
       "    .dataframe tbody tr th {\n",
       "        vertical-align: top;\n",
       "    }\n",
       "\n",
       "    .dataframe thead th {\n",
       "        text-align: right;\n",
       "    }\n",
       "</style>\n",
       "<table border=\"1\" class=\"dataframe\">\n",
       "  <thead>\n",
       "    <tr style=\"text-align: right;\">\n",
       "      <th></th>\n",
       "      <th>Name</th>\n",
       "      <th>Gender</th>\n",
       "      <th>Marks1</th>\n",
       "      <th>Marks2</th>\n",
       "      <th>Marks3</th>\n",
       "      <th>TotalMarks</th>\n",
       "    </tr>\n",
       "    <tr>\n",
       "      <th>Roll No.</th>\n",
       "      <th></th>\n",
       "      <th></th>\n",
       "      <th></th>\n",
       "      <th></th>\n",
       "      <th></th>\n",
       "      <th></th>\n",
       "    </tr>\n",
       "  </thead>\n",
       "  <tbody>\n",
       "    <tr>\n",
       "      <th>1</th>\n",
       "      <td>kaerrqj</td>\n",
       "      <td>M</td>\n",
       "      <td>31</td>\n",
       "      <td>63</td>\n",
       "      <td>57</td>\n",
       "      <td>151</td>\n",
       "    </tr>\n",
       "    <tr>\n",
       "      <th>2</th>\n",
       "      <td>btrjpqq</td>\n",
       "      <td>M</td>\n",
       "      <td>62</td>\n",
       "      <td>76</td>\n",
       "      <td>24</td>\n",
       "      <td>162</td>\n",
       "    </tr>\n",
       "    <tr>\n",
       "      <th>3</th>\n",
       "      <td>dsnjsio</td>\n",
       "      <td>M</td>\n",
       "      <td>83</td>\n",
       "      <td>63</td>\n",
       "      <td>94</td>\n",
       "      <td>240</td>\n",
       "    </tr>\n",
       "    <tr>\n",
       "      <th>4</th>\n",
       "      <td>rngamva</td>\n",
       "      <td>M</td>\n",
       "      <td>99</td>\n",
       "      <td>92</td>\n",
       "      <td>25</td>\n",
       "      <td>216</td>\n",
       "    </tr>\n",
       "    <tr>\n",
       "      <th>5</th>\n",
       "      <td>jmftxic</td>\n",
       "      <td>F</td>\n",
       "      <td>68</td>\n",
       "      <td>8</td>\n",
       "      <td>79</td>\n",
       "      <td>155</td>\n",
       "    </tr>\n",
       "    <tr>\n",
       "      <th>6</th>\n",
       "      <td>spgrttp</td>\n",
       "      <td>M</td>\n",
       "      <td>89</td>\n",
       "      <td>89</td>\n",
       "      <td>48</td>\n",
       "      <td>226</td>\n",
       "    </tr>\n",
       "    <tr>\n",
       "      <th>7</th>\n",
       "      <td>mztyiut</td>\n",
       "      <td>M</td>\n",
       "      <td>30</td>\n",
       "      <td>37</td>\n",
       "      <td>23</td>\n",
       "      <td>90</td>\n",
       "    </tr>\n",
       "    <tr>\n",
       "      <th>8</th>\n",
       "      <td>bfzvxyu</td>\n",
       "      <td>M</td>\n",
       "      <td>34</td>\n",
       "      <td>93</td>\n",
       "      <td>83</td>\n",
       "      <td>210</td>\n",
       "    </tr>\n",
       "    <tr>\n",
       "      <th>9</th>\n",
       "      <td>xhgqzgc</td>\n",
       "      <td>M</td>\n",
       "      <td>67</td>\n",
       "      <td>90</td>\n",
       "      <td>34</td>\n",
       "      <td>191</td>\n",
       "    </tr>\n",
       "    <tr>\n",
       "      <th>10</th>\n",
       "      <td>gwrlufe</td>\n",
       "      <td>M</td>\n",
       "      <td>91</td>\n",
       "      <td>17</td>\n",
       "      <td>66</td>\n",
       "      <td>174</td>\n",
       "    </tr>\n",
       "  </tbody>\n",
       "</table>\n",
       "</div>"
      ],
      "text/plain": [
       "             Name Gender  Marks1  Marks2  Marks3  TotalMarks\n",
       "Roll No.                                                    \n",
       "1         kaerrqj      M      31      63      57         151\n",
       "2         btrjpqq      M      62      76      24         162\n",
       "3         dsnjsio      M      83      63      94         240\n",
       "4         rngamva      M      99      92      25         216\n",
       "5         jmftxic      F      68       8      79         155\n",
       "6         spgrttp      M      89      89      48         226\n",
       "7         mztyiut      M      30      37      23          90\n",
       "8         bfzvxyu      M      34      93      83         210\n",
       "9         xhgqzgc      M      67      90      34         191\n",
       "10        gwrlufe      M      91      17      66         174"
      ]
     },
     "execution_count": 10,
     "metadata": {},
     "output_type": "execute_result"
    }
   ],
   "source": [
    "df['TotalMarks'] = df['Marks1'] + df['Marks2'] + df['Marks3']\n",
    "df"
   ]
  },
  {
   "cell_type": "markdown",
   "id": "449ca74b",
   "metadata": {},
   "source": [
    "Find the lowest marks in ```Marks1```."
   ]
  },
  {
   "cell_type": "code",
   "execution_count": 11,
   "id": "ab1395be",
   "metadata": {},
   "outputs": [
    {
     "name": "stdout",
     "output_type": "stream",
     "text": [
      "Lowest marks in Marks1: 30\n"
     ]
    }
   ],
   "source": [
    "print(f\"Lowest marks in Marks1: {np.min(df['Marks1'])}\")"
   ]
  },
  {
   "cell_type": "markdown",
   "id": "69ace828",
   "metadata": {},
   "source": [
    "Find the Highest marks in ```Marks2```."
   ]
  },
  {
   "cell_type": "code",
   "execution_count": 12,
   "id": "cfd0798f",
   "metadata": {},
   "outputs": [
    {
     "name": "stdout",
     "output_type": "stream",
     "text": [
      "Highest marks in Marks2: 93\n"
     ]
    }
   ],
   "source": [
    "print(f\"Highest marks in Marks2: {np.max(df['Marks2'])}\")"
   ]
  },
  {
   "cell_type": "markdown",
   "id": "e0c38639",
   "metadata": {},
   "source": [
    " Find the average marks in ```Marks3```."
   ]
  },
  {
   "cell_type": "code",
   "execution_count": 13,
   "id": "8c7bb15b",
   "metadata": {},
   "outputs": [
    {
     "name": "stdout",
     "output_type": "stream",
     "text": [
      "Average marks in Marks3: 53.3\n"
     ]
    }
   ],
   "source": [
    "print(f\"Average marks in Marks3: {np.mean(df['Marks3'])}\")"
   ]
  },
  {
   "cell_type": "markdown",
   "id": "9c024849",
   "metadata": {},
   "source": [
    "Find student name with highest average."
   ]
  },
  {
   "cell_type": "code",
   "execution_count": 14,
   "id": "4ee50bcd",
   "metadata": {},
   "outputs": [
    {
     "data": {
      "text/html": [
       "<div>\n",
       "<style scoped>\n",
       "    .dataframe tbody tr th:only-of-type {\n",
       "        vertical-align: middle;\n",
       "    }\n",
       "\n",
       "    .dataframe tbody tr th {\n",
       "        vertical-align: top;\n",
       "    }\n",
       "\n",
       "    .dataframe thead th {\n",
       "        text-align: right;\n",
       "    }\n",
       "</style>\n",
       "<table border=\"1\" class=\"dataframe\">\n",
       "  <thead>\n",
       "    <tr style=\"text-align: right;\">\n",
       "      <th></th>\n",
       "      <th>Name</th>\n",
       "      <th>Gender</th>\n",
       "      <th>Marks1</th>\n",
       "      <th>Marks2</th>\n",
       "      <th>Marks3</th>\n",
       "      <th>TotalMarks</th>\n",
       "      <th>Average</th>\n",
       "    </tr>\n",
       "    <tr>\n",
       "      <th>Roll No.</th>\n",
       "      <th></th>\n",
       "      <th></th>\n",
       "      <th></th>\n",
       "      <th></th>\n",
       "      <th></th>\n",
       "      <th></th>\n",
       "      <th></th>\n",
       "    </tr>\n",
       "  </thead>\n",
       "  <tbody>\n",
       "    <tr>\n",
       "      <th>1</th>\n",
       "      <td>kaerrqj</td>\n",
       "      <td>M</td>\n",
       "      <td>31</td>\n",
       "      <td>63</td>\n",
       "      <td>57</td>\n",
       "      <td>151</td>\n",
       "      <td>50.333333</td>\n",
       "    </tr>\n",
       "    <tr>\n",
       "      <th>2</th>\n",
       "      <td>btrjpqq</td>\n",
       "      <td>M</td>\n",
       "      <td>62</td>\n",
       "      <td>76</td>\n",
       "      <td>24</td>\n",
       "      <td>162</td>\n",
       "      <td>54.000000</td>\n",
       "    </tr>\n",
       "    <tr>\n",
       "      <th>3</th>\n",
       "      <td>dsnjsio</td>\n",
       "      <td>M</td>\n",
       "      <td>83</td>\n",
       "      <td>63</td>\n",
       "      <td>94</td>\n",
       "      <td>240</td>\n",
       "      <td>80.000000</td>\n",
       "    </tr>\n",
       "    <tr>\n",
       "      <th>4</th>\n",
       "      <td>rngamva</td>\n",
       "      <td>M</td>\n",
       "      <td>99</td>\n",
       "      <td>92</td>\n",
       "      <td>25</td>\n",
       "      <td>216</td>\n",
       "      <td>72.000000</td>\n",
       "    </tr>\n",
       "    <tr>\n",
       "      <th>5</th>\n",
       "      <td>jmftxic</td>\n",
       "      <td>F</td>\n",
       "      <td>68</td>\n",
       "      <td>8</td>\n",
       "      <td>79</td>\n",
       "      <td>155</td>\n",
       "      <td>51.666667</td>\n",
       "    </tr>\n",
       "    <tr>\n",
       "      <th>6</th>\n",
       "      <td>spgrttp</td>\n",
       "      <td>M</td>\n",
       "      <td>89</td>\n",
       "      <td>89</td>\n",
       "      <td>48</td>\n",
       "      <td>226</td>\n",
       "      <td>75.333333</td>\n",
       "    </tr>\n",
       "    <tr>\n",
       "      <th>7</th>\n",
       "      <td>mztyiut</td>\n",
       "      <td>M</td>\n",
       "      <td>30</td>\n",
       "      <td>37</td>\n",
       "      <td>23</td>\n",
       "      <td>90</td>\n",
       "      <td>30.000000</td>\n",
       "    </tr>\n",
       "    <tr>\n",
       "      <th>8</th>\n",
       "      <td>bfzvxyu</td>\n",
       "      <td>M</td>\n",
       "      <td>34</td>\n",
       "      <td>93</td>\n",
       "      <td>83</td>\n",
       "      <td>210</td>\n",
       "      <td>70.000000</td>\n",
       "    </tr>\n",
       "    <tr>\n",
       "      <th>9</th>\n",
       "      <td>xhgqzgc</td>\n",
       "      <td>M</td>\n",
       "      <td>67</td>\n",
       "      <td>90</td>\n",
       "      <td>34</td>\n",
       "      <td>191</td>\n",
       "      <td>63.666667</td>\n",
       "    </tr>\n",
       "    <tr>\n",
       "      <th>10</th>\n",
       "      <td>gwrlufe</td>\n",
       "      <td>M</td>\n",
       "      <td>91</td>\n",
       "      <td>17</td>\n",
       "      <td>66</td>\n",
       "      <td>174</td>\n",
       "      <td>58.000000</td>\n",
       "    </tr>\n",
       "  </tbody>\n",
       "</table>\n",
       "</div>"
      ],
      "text/plain": [
       "             Name Gender  Marks1  Marks2  Marks3  TotalMarks    Average\n",
       "Roll No.                                                               \n",
       "1         kaerrqj      M      31      63      57         151  50.333333\n",
       "2         btrjpqq      M      62      76      24         162  54.000000\n",
       "3         dsnjsio      M      83      63      94         240  80.000000\n",
       "4         rngamva      M      99      92      25         216  72.000000\n",
       "5         jmftxic      F      68       8      79         155  51.666667\n",
       "6         spgrttp      M      89      89      48         226  75.333333\n",
       "7         mztyiut      M      30      37      23          90  30.000000\n",
       "8         bfzvxyu      M      34      93      83         210  70.000000\n",
       "9         xhgqzgc      M      67      90      34         191  63.666667\n",
       "10        gwrlufe      M      91      17      66         174  58.000000"
      ]
     },
     "execution_count": 14,
     "metadata": {},
     "output_type": "execute_result"
    }
   ],
   "source": [
    "df['Average'] = df['TotalMarks'] / 3\n",
    "df"
   ]
  },
  {
   "cell_type": "code",
   "execution_count": 15,
   "id": "846d7883",
   "metadata": {},
   "outputs": [
    {
     "name": "stdout",
     "output_type": "stream",
     "text": [
      "dsnjsio has the highest average of 80.0\n"
     ]
    }
   ],
   "source": [
    "print(f\"{df.loc[df['Average'].idxmax(), 'Name']} has the highest average of {df['Average'].max()}\")"
   ]
  },
  {
   "cell_type": "markdown",
   "id": "c767bdca",
   "metadata": {},
   "source": [
    "Find how many students failed in ```Marks2``` (<40)."
   ]
  },
  {
   "cell_type": "code",
   "execution_count": 16,
   "id": "0eb08be8",
   "metadata": {},
   "outputs": [
    {
     "name": "stdout",
     "output_type": "stream",
     "text": [
      "Number of students failed in Marks2: 3\n"
     ]
    }
   ],
   "source": [
    "print(f\"Number of students failed in Marks2: {df[df['Marks2'] < 40].shape[0]}\")"
   ]
  },
  {
   "cell_type": "markdown",
   "id": "0ce05721",
   "metadata": {},
   "source": [
    "# Additional Programs"
   ]
  },
  {
   "cell_type": "markdown",
   "id": "18387606",
   "metadata": {},
   "source": [
    "# Program 1\n",
    "You are given a CSV file named \"sales_data.csv\" containing sales records. Your task is to:"
   ]
  },
  {
   "cell_type": "code",
   "execution_count": 17,
   "id": "b9dd3f5f",
   "metadata": {},
   "outputs": [
    {
     "data": {
      "text/html": [
       "<div>\n",
       "<style scoped>\n",
       "    .dataframe tbody tr th:only-of-type {\n",
       "        vertical-align: middle;\n",
       "    }\n",
       "\n",
       "    .dataframe tbody tr th {\n",
       "        vertical-align: top;\n",
       "    }\n",
       "\n",
       "    .dataframe thead th {\n",
       "        text-align: right;\n",
       "    }\n",
       "</style>\n",
       "<table border=\"1\" class=\"dataframe\">\n",
       "  <thead>\n",
       "    <tr style=\"text-align: right;\">\n",
       "      <th></th>\n",
       "      <th>Date</th>\n",
       "      <th>Product</th>\n",
       "      <th>Sales</th>\n",
       "    </tr>\n",
       "  </thead>\n",
       "  <tbody>\n",
       "    <tr>\n",
       "      <th>0</th>\n",
       "      <td>2024-01-01</td>\n",
       "      <td>Product A</td>\n",
       "      <td>450.0</td>\n",
       "    </tr>\n",
       "    <tr>\n",
       "      <th>1</th>\n",
       "      <td>2024-01-02</td>\n",
       "      <td>Product B</td>\n",
       "      <td>510.0</td>\n",
       "    </tr>\n",
       "    <tr>\n",
       "      <th>2</th>\n",
       "      <td>2024-01-03</td>\n",
       "      <td>Product C</td>\n",
       "      <td>NaN</td>\n",
       "    </tr>\n",
       "    <tr>\n",
       "      <th>3</th>\n",
       "      <td>2024-01-04</td>\n",
       "      <td>Product A</td>\n",
       "      <td>600.0</td>\n",
       "    </tr>\n",
       "    <tr>\n",
       "      <th>4</th>\n",
       "      <td>2024-01-05</td>\n",
       "      <td>Product B</td>\n",
       "      <td>NaN</td>\n",
       "    </tr>\n",
       "    <tr>\n",
       "      <th>5</th>\n",
       "      <td>2024-01-06</td>\n",
       "      <td>Product C</td>\n",
       "      <td>700.0</td>\n",
       "    </tr>\n",
       "  </tbody>\n",
       "</table>\n",
       "</div>"
      ],
      "text/plain": [
       "         Date    Product  Sales\n",
       "0  2024-01-01  Product A  450.0\n",
       "1  2024-01-02  Product B  510.0\n",
       "2  2024-01-03  Product C    NaN\n",
       "3  2024-01-04  Product A  600.0\n",
       "4  2024-01-05  Product B    NaN\n",
       "5  2024-01-06  Product C  700.0"
      ]
     },
     "execution_count": 17,
     "metadata": {},
     "output_type": "execute_result"
    }
   ],
   "source": [
    "csv = pd.read_csv(\"sales_data.csv\")\n",
    "csv"
   ]
  },
  {
   "cell_type": "markdown",
   "id": "fbf38b75",
   "metadata": {},
   "source": [
    "Load the CSV file into a DataFrame."
   ]
  },
  {
   "cell_type": "code",
   "execution_count": 18,
   "id": "613e9f14",
   "metadata": {},
   "outputs": [
    {
     "data": {
      "text/html": [
       "<div>\n",
       "<style scoped>\n",
       "    .dataframe tbody tr th:only-of-type {\n",
       "        vertical-align: middle;\n",
       "    }\n",
       "\n",
       "    .dataframe tbody tr th {\n",
       "        vertical-align: top;\n",
       "    }\n",
       "\n",
       "    .dataframe thead th {\n",
       "        text-align: right;\n",
       "    }\n",
       "</style>\n",
       "<table border=\"1\" class=\"dataframe\">\n",
       "  <thead>\n",
       "    <tr style=\"text-align: right;\">\n",
       "      <th></th>\n",
       "      <th>Date</th>\n",
       "      <th>Product</th>\n",
       "      <th>Sales</th>\n",
       "    </tr>\n",
       "  </thead>\n",
       "  <tbody>\n",
       "    <tr>\n",
       "      <th>0</th>\n",
       "      <td>2024-01-01</td>\n",
       "      <td>Product A</td>\n",
       "      <td>450.0</td>\n",
       "    </tr>\n",
       "    <tr>\n",
       "      <th>1</th>\n",
       "      <td>2024-01-02</td>\n",
       "      <td>Product B</td>\n",
       "      <td>510.0</td>\n",
       "    </tr>\n",
       "    <tr>\n",
       "      <th>2</th>\n",
       "      <td>2024-01-03</td>\n",
       "      <td>Product C</td>\n",
       "      <td>NaN</td>\n",
       "    </tr>\n",
       "    <tr>\n",
       "      <th>3</th>\n",
       "      <td>2024-01-04</td>\n",
       "      <td>Product A</td>\n",
       "      <td>600.0</td>\n",
       "    </tr>\n",
       "    <tr>\n",
       "      <th>4</th>\n",
       "      <td>2024-01-05</td>\n",
       "      <td>Product B</td>\n",
       "      <td>NaN</td>\n",
       "    </tr>\n",
       "    <tr>\n",
       "      <th>5</th>\n",
       "      <td>2024-01-06</td>\n",
       "      <td>Product C</td>\n",
       "      <td>700.0</td>\n",
       "    </tr>\n",
       "  </tbody>\n",
       "</table>\n",
       "</div>"
      ],
      "text/plain": [
       "         Date    Product  Sales\n",
       "0  2024-01-01  Product A  450.0\n",
       "1  2024-01-02  Product B  510.0\n",
       "2  2024-01-03  Product C    NaN\n",
       "3  2024-01-04  Product A  600.0\n",
       "4  2024-01-05  Product B    NaN\n",
       "5  2024-01-06  Product C  700.0"
      ]
     },
     "execution_count": 18,
     "metadata": {},
     "output_type": "execute_result"
    }
   ],
   "source": [
    "df = pd.DataFrame(csv)\n",
    "df"
   ]
  },
  {
   "cell_type": "markdown",
   "id": "06eb984d",
   "metadata": {},
   "source": [
    "Count and display the number of rows that have at least one missing (null) value."
   ]
  },
  {
   "cell_type": "code",
   "execution_count": 19,
   "id": "d8600c85",
   "metadata": {},
   "outputs": [
    {
     "name": "stdout",
     "output_type": "stream",
     "text": [
      "Number of null values: 2\n"
     ]
    }
   ],
   "source": [
    "print(f\"Number of null values: {df.isnull().sum().sum()}\")"
   ]
  },
  {
   "cell_type": "markdown",
   "id": "0cf397db",
   "metadata": {},
   "source": [
    "Fill the missing values using forward fill (```ffill```)."
   ]
  },
  {
   "cell_type": "code",
   "execution_count": 20,
   "id": "2f43253f",
   "metadata": {},
   "outputs": [
    {
     "data": {
      "text/html": [
       "<div>\n",
       "<style scoped>\n",
       "    .dataframe tbody tr th:only-of-type {\n",
       "        vertical-align: middle;\n",
       "    }\n",
       "\n",
       "    .dataframe tbody tr th {\n",
       "        vertical-align: top;\n",
       "    }\n",
       "\n",
       "    .dataframe thead th {\n",
       "        text-align: right;\n",
       "    }\n",
       "</style>\n",
       "<table border=\"1\" class=\"dataframe\">\n",
       "  <thead>\n",
       "    <tr style=\"text-align: right;\">\n",
       "      <th></th>\n",
       "      <th>Date</th>\n",
       "      <th>Product</th>\n",
       "      <th>Sales</th>\n",
       "    </tr>\n",
       "  </thead>\n",
       "  <tbody>\n",
       "    <tr>\n",
       "      <th>0</th>\n",
       "      <td>2024-01-01</td>\n",
       "      <td>Product A</td>\n",
       "      <td>450.0</td>\n",
       "    </tr>\n",
       "    <tr>\n",
       "      <th>1</th>\n",
       "      <td>2024-01-02</td>\n",
       "      <td>Product B</td>\n",
       "      <td>510.0</td>\n",
       "    </tr>\n",
       "    <tr>\n",
       "      <th>2</th>\n",
       "      <td>2024-01-03</td>\n",
       "      <td>Product C</td>\n",
       "      <td>510.0</td>\n",
       "    </tr>\n",
       "    <tr>\n",
       "      <th>3</th>\n",
       "      <td>2024-01-04</td>\n",
       "      <td>Product A</td>\n",
       "      <td>600.0</td>\n",
       "    </tr>\n",
       "    <tr>\n",
       "      <th>4</th>\n",
       "      <td>2024-01-05</td>\n",
       "      <td>Product B</td>\n",
       "      <td>600.0</td>\n",
       "    </tr>\n",
       "    <tr>\n",
       "      <th>5</th>\n",
       "      <td>2024-01-06</td>\n",
       "      <td>Product C</td>\n",
       "      <td>700.0</td>\n",
       "    </tr>\n",
       "  </tbody>\n",
       "</table>\n",
       "</div>"
      ],
      "text/plain": [
       "         Date    Product  Sales\n",
       "0  2024-01-01  Product A  450.0\n",
       "1  2024-01-02  Product B  510.0\n",
       "2  2024-01-03  Product C  510.0\n",
       "3  2024-01-04  Product A  600.0\n",
       "4  2024-01-05  Product B  600.0\n",
       "5  2024-01-06  Product C  700.0"
      ]
     },
     "execution_count": 20,
     "metadata": {},
     "output_type": "execute_result"
    }
   ],
   "source": [
    "df.ffill(axis=0, inplace=True)\n",
    "df"
   ]
  },
  {
   "cell_type": "markdown",
   "id": "562482d8",
   "metadata": {},
   "source": [
    "Count and display the number of rows where the \"Sales\" column value is greater than 500."
   ]
  },
  {
   "cell_type": "code",
   "execution_count": 21,
   "id": "990d6e87",
   "metadata": {},
   "outputs": [
    {
     "name": "stdout",
     "output_type": "stream",
     "text": [
      "Number of rows where sales is greater than 500: 5\n"
     ]
    }
   ],
   "source": [
    "print(f\"Number of rows where sales is greater than 500: {df[df['Sales'] > 500].shape[0]}\")"
   ]
  },
  {
   "cell_type": "markdown",
   "id": "9f2af991",
   "metadata": {},
   "source": [
    "# Program 2\n",
    "You are given a CSV file named \"sales_data.csv\" containing sales records. Your task is to:"
   ]
  },
  {
   "cell_type": "markdown",
   "id": "e20f63e4",
   "metadata": {},
   "source": [
    "Load the \"sales_data.csv\" file and display the first five records."
   ]
  },
  {
   "cell_type": "code",
   "execution_count": 22,
   "id": "35c32512",
   "metadata": {},
   "outputs": [
    {
     "data": {
      "text/html": [
       "<div>\n",
       "<style scoped>\n",
       "    .dataframe tbody tr th:only-of-type {\n",
       "        vertical-align: middle;\n",
       "    }\n",
       "\n",
       "    .dataframe tbody tr th {\n",
       "        vertical-align: top;\n",
       "    }\n",
       "\n",
       "    .dataframe thead th {\n",
       "        text-align: right;\n",
       "    }\n",
       "</style>\n",
       "<table border=\"1\" class=\"dataframe\">\n",
       "  <thead>\n",
       "    <tr style=\"text-align: right;\">\n",
       "      <th></th>\n",
       "      <th>Date</th>\n",
       "      <th>Product</th>\n",
       "      <th>Sales</th>\n",
       "    </tr>\n",
       "  </thead>\n",
       "  <tbody>\n",
       "    <tr>\n",
       "      <th>0</th>\n",
       "      <td>2024-01-01</td>\n",
       "      <td>Product A</td>\n",
       "      <td>450.0</td>\n",
       "    </tr>\n",
       "    <tr>\n",
       "      <th>1</th>\n",
       "      <td>2024-01-02</td>\n",
       "      <td>Product B</td>\n",
       "      <td>510.0</td>\n",
       "    </tr>\n",
       "    <tr>\n",
       "      <th>2</th>\n",
       "      <td>2024-01-03</td>\n",
       "      <td>Product C</td>\n",
       "      <td>NaN</td>\n",
       "    </tr>\n",
       "    <tr>\n",
       "      <th>3</th>\n",
       "      <td>2024-01-04</td>\n",
       "      <td>Product A</td>\n",
       "      <td>600.0</td>\n",
       "    </tr>\n",
       "    <tr>\n",
       "      <th>4</th>\n",
       "      <td>2024-01-05</td>\n",
       "      <td>Product B</td>\n",
       "      <td>NaN</td>\n",
       "    </tr>\n",
       "    <tr>\n",
       "      <th>5</th>\n",
       "      <td>2024-01-06</td>\n",
       "      <td>Product C</td>\n",
       "      <td>700.0</td>\n",
       "    </tr>\n",
       "  </tbody>\n",
       "</table>\n",
       "</div>"
      ],
      "text/plain": [
       "         Date    Product  Sales\n",
       "0  2024-01-01  Product A  450.0\n",
       "1  2024-01-02  Product B  510.0\n",
       "2  2024-01-03  Product C    NaN\n",
       "3  2024-01-04  Product A  600.0\n",
       "4  2024-01-05  Product B    NaN\n",
       "5  2024-01-06  Product C  700.0"
      ]
     },
     "execution_count": 22,
     "metadata": {},
     "output_type": "execute_result"
    }
   ],
   "source": [
    "csv = pd.read_csv(\"sales_data.csv\")\n",
    "csv"
   ]
  },
  {
   "cell_type": "code",
   "execution_count": 23,
   "id": "c37e07d5",
   "metadata": {},
   "outputs": [
    {
     "data": {
      "text/html": [
       "<div>\n",
       "<style scoped>\n",
       "    .dataframe tbody tr th:only-of-type {\n",
       "        vertical-align: middle;\n",
       "    }\n",
       "\n",
       "    .dataframe tbody tr th {\n",
       "        vertical-align: top;\n",
       "    }\n",
       "\n",
       "    .dataframe thead th {\n",
       "        text-align: right;\n",
       "    }\n",
       "</style>\n",
       "<table border=\"1\" class=\"dataframe\">\n",
       "  <thead>\n",
       "    <tr style=\"text-align: right;\">\n",
       "      <th></th>\n",
       "      <th>Date</th>\n",
       "      <th>Product</th>\n",
       "      <th>Sales</th>\n",
       "    </tr>\n",
       "  </thead>\n",
       "  <tbody>\n",
       "    <tr>\n",
       "      <th>0</th>\n",
       "      <td>2024-01-01</td>\n",
       "      <td>Product A</td>\n",
       "      <td>450.0</td>\n",
       "    </tr>\n",
       "    <tr>\n",
       "      <th>1</th>\n",
       "      <td>2024-01-02</td>\n",
       "      <td>Product B</td>\n",
       "      <td>510.0</td>\n",
       "    </tr>\n",
       "    <tr>\n",
       "      <th>2</th>\n",
       "      <td>2024-01-03</td>\n",
       "      <td>Product C</td>\n",
       "      <td>NaN</td>\n",
       "    </tr>\n",
       "    <tr>\n",
       "      <th>3</th>\n",
       "      <td>2024-01-04</td>\n",
       "      <td>Product A</td>\n",
       "      <td>600.0</td>\n",
       "    </tr>\n",
       "    <tr>\n",
       "      <th>4</th>\n",
       "      <td>2024-01-05</td>\n",
       "      <td>Product B</td>\n",
       "      <td>NaN</td>\n",
       "    </tr>\n",
       "  </tbody>\n",
       "</table>\n",
       "</div>"
      ],
      "text/plain": [
       "         Date    Product  Sales\n",
       "0  2024-01-01  Product A  450.0\n",
       "1  2024-01-02  Product B  510.0\n",
       "2  2024-01-03  Product C    NaN\n",
       "3  2024-01-04  Product A  600.0\n",
       "4  2024-01-05  Product B    NaN"
      ]
     },
     "execution_count": 23,
     "metadata": {},
     "output_type": "execute_result"
    }
   ],
   "source": [
    "csv.iloc[:-1]"
   ]
  },
  {
   "cell_type": "markdown",
   "id": "146d3040",
   "metadata": {},
   "source": [
    "Load the \"sales_data.csv\" file and display the last five records."
   ]
  },
  {
   "cell_type": "code",
   "execution_count": 24,
   "id": "05cb15eb",
   "metadata": {},
   "outputs": [
    {
     "data": {
      "text/html": [
       "<div>\n",
       "<style scoped>\n",
       "    .dataframe tbody tr th:only-of-type {\n",
       "        vertical-align: middle;\n",
       "    }\n",
       "\n",
       "    .dataframe tbody tr th {\n",
       "        vertical-align: top;\n",
       "    }\n",
       "\n",
       "    .dataframe thead th {\n",
       "        text-align: right;\n",
       "    }\n",
       "</style>\n",
       "<table border=\"1\" class=\"dataframe\">\n",
       "  <thead>\n",
       "    <tr style=\"text-align: right;\">\n",
       "      <th></th>\n",
       "      <th>Date</th>\n",
       "      <th>Product</th>\n",
       "      <th>Sales</th>\n",
       "    </tr>\n",
       "  </thead>\n",
       "  <tbody>\n",
       "    <tr>\n",
       "      <th>1</th>\n",
       "      <td>2024-01-02</td>\n",
       "      <td>Product B</td>\n",
       "      <td>510.0</td>\n",
       "    </tr>\n",
       "    <tr>\n",
       "      <th>2</th>\n",
       "      <td>2024-01-03</td>\n",
       "      <td>Product C</td>\n",
       "      <td>NaN</td>\n",
       "    </tr>\n",
       "    <tr>\n",
       "      <th>3</th>\n",
       "      <td>2024-01-04</td>\n",
       "      <td>Product A</td>\n",
       "      <td>600.0</td>\n",
       "    </tr>\n",
       "    <tr>\n",
       "      <th>4</th>\n",
       "      <td>2024-01-05</td>\n",
       "      <td>Product B</td>\n",
       "      <td>NaN</td>\n",
       "    </tr>\n",
       "    <tr>\n",
       "      <th>5</th>\n",
       "      <td>2024-01-06</td>\n",
       "      <td>Product C</td>\n",
       "      <td>700.0</td>\n",
       "    </tr>\n",
       "  </tbody>\n",
       "</table>\n",
       "</div>"
      ],
      "text/plain": [
       "         Date    Product  Sales\n",
       "1  2024-01-02  Product B  510.0\n",
       "2  2024-01-03  Product C    NaN\n",
       "3  2024-01-04  Product A  600.0\n",
       "4  2024-01-05  Product B    NaN\n",
       "5  2024-01-06  Product C  700.0"
      ]
     },
     "execution_count": 24,
     "metadata": {},
     "output_type": "execute_result"
    }
   ],
   "source": [
    "csv.iloc[1:]"
   ]
  },
  {
   "cell_type": "markdown",
   "id": "1ddd45da",
   "metadata": {},
   "source": [
    "# Program 3\n",
    "You are given an Excel file named \"sales_data.xlsx\" containing sales records. Your tasks are:"
   ]
  },
  {
   "cell_type": "markdown",
   "id": "2c1584dc",
   "metadata": {},
   "source": [
    "Load the Excel file into a DataFrame."
   ]
  },
  {
   "cell_type": "code",
   "execution_count": 25,
   "id": "464e36f9",
   "metadata": {},
   "outputs": [
    {
     "data": {
      "text/html": [
       "<div>\n",
       "<style scoped>\n",
       "    .dataframe tbody tr th:only-of-type {\n",
       "        vertical-align: middle;\n",
       "    }\n",
       "\n",
       "    .dataframe tbody tr th {\n",
       "        vertical-align: top;\n",
       "    }\n",
       "\n",
       "    .dataframe thead th {\n",
       "        text-align: right;\n",
       "    }\n",
       "</style>\n",
       "<table border=\"1\" class=\"dataframe\">\n",
       "  <thead>\n",
       "    <tr style=\"text-align: right;\">\n",
       "      <th></th>\n",
       "      <th>Date</th>\n",
       "      <th>Product</th>\n",
       "      <th>Sales</th>\n",
       "    </tr>\n",
       "  </thead>\n",
       "  <tbody>\n",
       "    <tr>\n",
       "      <th>0</th>\n",
       "      <td>2024-01-01</td>\n",
       "      <td>Product A</td>\n",
       "      <td>450.0</td>\n",
       "    </tr>\n",
       "    <tr>\n",
       "      <th>1</th>\n",
       "      <td>2024-01-02</td>\n",
       "      <td>Product B</td>\n",
       "      <td>510.0</td>\n",
       "    </tr>\n",
       "    <tr>\n",
       "      <th>2</th>\n",
       "      <td>2024-01-03</td>\n",
       "      <td>Product C</td>\n",
       "      <td>NaN</td>\n",
       "    </tr>\n",
       "    <tr>\n",
       "      <th>3</th>\n",
       "      <td>2024-01-04</td>\n",
       "      <td>Product A</td>\n",
       "      <td>600.0</td>\n",
       "    </tr>\n",
       "    <tr>\n",
       "      <th>4</th>\n",
       "      <td>2024-01-05</td>\n",
       "      <td>Product B</td>\n",
       "      <td>NaN</td>\n",
       "    </tr>\n",
       "    <tr>\n",
       "      <th>5</th>\n",
       "      <td>2024-01-06</td>\n",
       "      <td>Product C</td>\n",
       "      <td>700.0</td>\n",
       "    </tr>\n",
       "  </tbody>\n",
       "</table>\n",
       "</div>"
      ],
      "text/plain": [
       "         Date    Product  Sales\n",
       "0  2024-01-01  Product A  450.0\n",
       "1  2024-01-02  Product B  510.0\n",
       "2  2024-01-03  Product C    NaN\n",
       "3  2024-01-04  Product A  600.0\n",
       "4  2024-01-05  Product B    NaN\n",
       "5  2024-01-06  Product C  700.0"
      ]
     },
     "execution_count": 25,
     "metadata": {},
     "output_type": "execute_result"
    }
   ],
   "source": [
    "xlsx = pd.read_excel(\"sales_data.xlsx\")\n",
    "xlsx"
   ]
  },
  {
   "cell_type": "markdown",
   "id": "b149cbd5",
   "metadata": {},
   "source": [
    "Load the Excel file into a DataFrame."
   ]
  },
  {
   "cell_type": "code",
   "execution_count": 26,
   "id": "82e18f3c",
   "metadata": {},
   "outputs": [
    {
     "data": {
      "text/html": [
       "<div>\n",
       "<style scoped>\n",
       "    .dataframe tbody tr th:only-of-type {\n",
       "        vertical-align: middle;\n",
       "    }\n",
       "\n",
       "    .dataframe tbody tr th {\n",
       "        vertical-align: top;\n",
       "    }\n",
       "\n",
       "    .dataframe thead th {\n",
       "        text-align: right;\n",
       "    }\n",
       "</style>\n",
       "<table border=\"1\" class=\"dataframe\">\n",
       "  <thead>\n",
       "    <tr style=\"text-align: right;\">\n",
       "      <th></th>\n",
       "      <th>Date</th>\n",
       "      <th>Product</th>\n",
       "      <th>Sales</th>\n",
       "    </tr>\n",
       "  </thead>\n",
       "  <tbody>\n",
       "    <tr>\n",
       "      <th>0</th>\n",
       "      <td>2024-01-01</td>\n",
       "      <td>Product A</td>\n",
       "      <td>450.0</td>\n",
       "    </tr>\n",
       "    <tr>\n",
       "      <th>1</th>\n",
       "      <td>2024-01-02</td>\n",
       "      <td>Product B</td>\n",
       "      <td>510.0</td>\n",
       "    </tr>\n",
       "    <tr>\n",
       "      <th>2</th>\n",
       "      <td>2024-01-03</td>\n",
       "      <td>Product C</td>\n",
       "      <td>NaN</td>\n",
       "    </tr>\n",
       "    <tr>\n",
       "      <th>3</th>\n",
       "      <td>2024-01-04</td>\n",
       "      <td>Product A</td>\n",
       "      <td>600.0</td>\n",
       "    </tr>\n",
       "    <tr>\n",
       "      <th>4</th>\n",
       "      <td>2024-01-05</td>\n",
       "      <td>Product B</td>\n",
       "      <td>NaN</td>\n",
       "    </tr>\n",
       "    <tr>\n",
       "      <th>5</th>\n",
       "      <td>2024-01-06</td>\n",
       "      <td>Product C</td>\n",
       "      <td>700.0</td>\n",
       "    </tr>\n",
       "  </tbody>\n",
       "</table>\n",
       "</div>"
      ],
      "text/plain": [
       "         Date    Product  Sales\n",
       "0  2024-01-01  Product A  450.0\n",
       "1  2024-01-02  Product B  510.0\n",
       "2  2024-01-03  Product C    NaN\n",
       "3  2024-01-04  Product A  600.0\n",
       "4  2024-01-05  Product B    NaN\n",
       "5  2024-01-06  Product C  700.0"
      ]
     },
     "execution_count": 26,
     "metadata": {},
     "output_type": "execute_result"
    }
   ],
   "source": [
    "df = pd.DataFrame(xlsx)\n",
    "df"
   ]
  },
  {
   "cell_type": "markdown",
   "id": "779b5504",
   "metadata": {},
   "source": [
    "Identify and display the number of rows where the \"Sales\" column has missing (null) values."
   ]
  },
  {
   "cell_type": "code",
   "execution_count": 27,
   "id": "68d685d0",
   "metadata": {},
   "outputs": [
    {
     "name": "stdout",
     "output_type": "stream",
     "text": [
      "Number of null values: 2\n"
     ]
    }
   ],
   "source": [
    "print(f\"Number of null values: {df.isnull().sum().sum()}\")"
   ]
  },
  {
   "cell_type": "markdown",
   "id": "0cda84a7",
   "metadata": {},
   "source": [
    "Fill the missing values using forward fill (```ffill```)."
   ]
  },
  {
   "cell_type": "code",
   "execution_count": 28,
   "id": "477fddf9",
   "metadata": {},
   "outputs": [
    {
     "data": {
      "text/html": [
       "<div>\n",
       "<style scoped>\n",
       "    .dataframe tbody tr th:only-of-type {\n",
       "        vertical-align: middle;\n",
       "    }\n",
       "\n",
       "    .dataframe tbody tr th {\n",
       "        vertical-align: top;\n",
       "    }\n",
       "\n",
       "    .dataframe thead th {\n",
       "        text-align: right;\n",
       "    }\n",
       "</style>\n",
       "<table border=\"1\" class=\"dataframe\">\n",
       "  <thead>\n",
       "    <tr style=\"text-align: right;\">\n",
       "      <th></th>\n",
       "      <th>Date</th>\n",
       "      <th>Product</th>\n",
       "      <th>Sales</th>\n",
       "    </tr>\n",
       "  </thead>\n",
       "  <tbody>\n",
       "    <tr>\n",
       "      <th>0</th>\n",
       "      <td>2024-01-01</td>\n",
       "      <td>Product A</td>\n",
       "      <td>450.0</td>\n",
       "    </tr>\n",
       "    <tr>\n",
       "      <th>1</th>\n",
       "      <td>2024-01-02</td>\n",
       "      <td>Product B</td>\n",
       "      <td>510.0</td>\n",
       "    </tr>\n",
       "    <tr>\n",
       "      <th>2</th>\n",
       "      <td>2024-01-03</td>\n",
       "      <td>Product C</td>\n",
       "      <td>510.0</td>\n",
       "    </tr>\n",
       "    <tr>\n",
       "      <th>3</th>\n",
       "      <td>2024-01-04</td>\n",
       "      <td>Product A</td>\n",
       "      <td>600.0</td>\n",
       "    </tr>\n",
       "    <tr>\n",
       "      <th>4</th>\n",
       "      <td>2024-01-05</td>\n",
       "      <td>Product B</td>\n",
       "      <td>600.0</td>\n",
       "    </tr>\n",
       "    <tr>\n",
       "      <th>5</th>\n",
       "      <td>2024-01-06</td>\n",
       "      <td>Product C</td>\n",
       "      <td>700.0</td>\n",
       "    </tr>\n",
       "  </tbody>\n",
       "</table>\n",
       "</div>"
      ],
      "text/plain": [
       "         Date    Product  Sales\n",
       "0  2024-01-01  Product A  450.0\n",
       "1  2024-01-02  Product B  510.0\n",
       "2  2024-01-03  Product C  510.0\n",
       "3  2024-01-04  Product A  600.0\n",
       "4  2024-01-05  Product B  600.0\n",
       "5  2024-01-06  Product C  700.0"
      ]
     },
     "execution_count": 28,
     "metadata": {},
     "output_type": "execute_result"
    }
   ],
   "source": [
    "df.ffill(axis=0, inplace=True)\n",
    "df"
   ]
  },
  {
   "cell_type": "markdown",
   "id": "f1549d7b",
   "metadata": {},
   "source": [
    "Count and display the number of rows where the \"Sales\" column value is less than or equal to 500."
   ]
  },
  {
   "cell_type": "code",
   "execution_count": 29,
   "id": "c1ea5cb5",
   "metadata": {},
   "outputs": [
    {
     "name": "stdout",
     "output_type": "stream",
     "text": [
      "Number of rows where sales is greater than 500: 1\n"
     ]
    }
   ],
   "source": [
    "print(f\"Number of rows where sales is greater than 500: {df[df['Sales'] <= 500].shape[0]}\")"
   ]
  },
  {
   "cell_type": "markdown",
   "id": "a6f79253",
   "metadata": {},
   "source": [
    "Retrieve and display the first four records from the dataset."
   ]
  },
  {
   "cell_type": "code",
   "execution_count": 30,
   "id": "feabbc08",
   "metadata": {},
   "outputs": [
    {
     "data": {
      "text/html": [
       "<div>\n",
       "<style scoped>\n",
       "    .dataframe tbody tr th:only-of-type {\n",
       "        vertical-align: middle;\n",
       "    }\n",
       "\n",
       "    .dataframe tbody tr th {\n",
       "        vertical-align: top;\n",
       "    }\n",
       "\n",
       "    .dataframe thead th {\n",
       "        text-align: right;\n",
       "    }\n",
       "</style>\n",
       "<table border=\"1\" class=\"dataframe\">\n",
       "  <thead>\n",
       "    <tr style=\"text-align: right;\">\n",
       "      <th></th>\n",
       "      <th>Date</th>\n",
       "      <th>Product</th>\n",
       "      <th>Sales</th>\n",
       "    </tr>\n",
       "  </thead>\n",
       "  <tbody>\n",
       "    <tr>\n",
       "      <th>0</th>\n",
       "      <td>2024-01-01</td>\n",
       "      <td>Product A</td>\n",
       "      <td>450.0</td>\n",
       "    </tr>\n",
       "    <tr>\n",
       "      <th>1</th>\n",
       "      <td>2024-01-02</td>\n",
       "      <td>Product B</td>\n",
       "      <td>510.0</td>\n",
       "    </tr>\n",
       "    <tr>\n",
       "      <th>2</th>\n",
       "      <td>2024-01-03</td>\n",
       "      <td>Product C</td>\n",
       "      <td>510.0</td>\n",
       "    </tr>\n",
       "    <tr>\n",
       "      <th>3</th>\n",
       "      <td>2024-01-04</td>\n",
       "      <td>Product A</td>\n",
       "      <td>600.0</td>\n",
       "    </tr>\n",
       "  </tbody>\n",
       "</table>\n",
       "</div>"
      ],
      "text/plain": [
       "         Date    Product  Sales\n",
       "0  2024-01-01  Product A  450.0\n",
       "1  2024-01-02  Product B  510.0\n",
       "2  2024-01-03  Product C  510.0\n",
       "3  2024-01-04  Product A  600.0"
      ]
     },
     "execution_count": 30,
     "metadata": {},
     "output_type": "execute_result"
    }
   ],
   "source": [
    "xlsx.iloc[:4]"
   ]
  },
  {
   "cell_type": "markdown",
   "id": "b85be8d4",
   "metadata": {},
   "source": [
    "Retrieve and display the last two records from the dataset."
   ]
  },
  {
   "cell_type": "code",
   "execution_count": 31,
   "id": "36c8cb14",
   "metadata": {},
   "outputs": [
    {
     "data": {
      "text/html": [
       "<div>\n",
       "<style scoped>\n",
       "    .dataframe tbody tr th:only-of-type {\n",
       "        vertical-align: middle;\n",
       "    }\n",
       "\n",
       "    .dataframe tbody tr th {\n",
       "        vertical-align: top;\n",
       "    }\n",
       "\n",
       "    .dataframe thead th {\n",
       "        text-align: right;\n",
       "    }\n",
       "</style>\n",
       "<table border=\"1\" class=\"dataframe\">\n",
       "  <thead>\n",
       "    <tr style=\"text-align: right;\">\n",
       "      <th></th>\n",
       "      <th>Date</th>\n",
       "      <th>Product</th>\n",
       "      <th>Sales</th>\n",
       "    </tr>\n",
       "  </thead>\n",
       "  <tbody>\n",
       "    <tr>\n",
       "      <th>4</th>\n",
       "      <td>2024-01-05</td>\n",
       "      <td>Product B</td>\n",
       "      <td>600.0</td>\n",
       "    </tr>\n",
       "    <tr>\n",
       "      <th>5</th>\n",
       "      <td>2024-01-06</td>\n",
       "      <td>Product C</td>\n",
       "      <td>700.0</td>\n",
       "    </tr>\n",
       "  </tbody>\n",
       "</table>\n",
       "</div>"
      ],
      "text/plain": [
       "         Date    Product  Sales\n",
       "4  2024-01-05  Product B  600.0\n",
       "5  2024-01-06  Product C  700.0"
      ]
     },
     "execution_count": 31,
     "metadata": {},
     "output_type": "execute_result"
    }
   ],
   "source": [
    "xlsx.iloc[-2:]"
   ]
  },
  {
   "cell_type": "markdown",
   "id": "1e6d7cd9",
   "metadata": {},
   "source": [
    "# Program 4\n",
    "You are given an Excel file named \"sales_data.xlsx\" containing sales records. Your tasks are:"
   ]
  },
  {
   "cell_type": "code",
   "execution_count": 32,
   "id": "bf69f9af",
   "metadata": {},
   "outputs": [
    {
     "data": {
      "text/html": [
       "<div>\n",
       "<style scoped>\n",
       "    .dataframe tbody tr th:only-of-type {\n",
       "        vertical-align: middle;\n",
       "    }\n",
       "\n",
       "    .dataframe tbody tr th {\n",
       "        vertical-align: top;\n",
       "    }\n",
       "\n",
       "    .dataframe thead th {\n",
       "        text-align: right;\n",
       "    }\n",
       "</style>\n",
       "<table border=\"1\" class=\"dataframe\">\n",
       "  <thead>\n",
       "    <tr style=\"text-align: right;\">\n",
       "      <th></th>\n",
       "      <th>Date</th>\n",
       "      <th>Product</th>\n",
       "      <th>Sales</th>\n",
       "    </tr>\n",
       "  </thead>\n",
       "  <tbody>\n",
       "    <tr>\n",
       "      <th>0</th>\n",
       "      <td>2024-01-01</td>\n",
       "      <td>Product A</td>\n",
       "      <td>450.0</td>\n",
       "    </tr>\n",
       "    <tr>\n",
       "      <th>1</th>\n",
       "      <td>2024-01-02</td>\n",
       "      <td>Product B</td>\n",
       "      <td>510.0</td>\n",
       "    </tr>\n",
       "    <tr>\n",
       "      <th>2</th>\n",
       "      <td>2024-01-03</td>\n",
       "      <td>Product C</td>\n",
       "      <td>NaN</td>\n",
       "    </tr>\n",
       "    <tr>\n",
       "      <th>3</th>\n",
       "      <td>2024-01-04</td>\n",
       "      <td>Product A</td>\n",
       "      <td>600.0</td>\n",
       "    </tr>\n",
       "    <tr>\n",
       "      <th>4</th>\n",
       "      <td>2024-01-05</td>\n",
       "      <td>Product B</td>\n",
       "      <td>NaN</td>\n",
       "    </tr>\n",
       "    <tr>\n",
       "      <th>5</th>\n",
       "      <td>2024-01-06</td>\n",
       "      <td>Product C</td>\n",
       "      <td>700.0</td>\n",
       "    </tr>\n",
       "  </tbody>\n",
       "</table>\n",
       "</div>"
      ],
      "text/plain": [
       "         Date    Product  Sales\n",
       "0  2024-01-01  Product A  450.0\n",
       "1  2024-01-02  Product B  510.0\n",
       "2  2024-01-03  Product C    NaN\n",
       "3  2024-01-04  Product A  600.0\n",
       "4  2024-01-05  Product B    NaN\n",
       "5  2024-01-06  Product C  700.0"
      ]
     },
     "execution_count": 32,
     "metadata": {},
     "output_type": "execute_result"
    }
   ],
   "source": [
    "xlsx = pd.read_excel(\"sales_data.xlsx\")\n",
    "xlsx"
   ]
  },
  {
   "cell_type": "markdown",
   "id": "e431fa91",
   "metadata": {},
   "source": [
    "Load the Excel file into a DataFrame."
   ]
  },
  {
   "cell_type": "code",
   "execution_count": 33,
   "id": "7a2b348a",
   "metadata": {},
   "outputs": [
    {
     "data": {
      "text/html": [
       "<div>\n",
       "<style scoped>\n",
       "    .dataframe tbody tr th:only-of-type {\n",
       "        vertical-align: middle;\n",
       "    }\n",
       "\n",
       "    .dataframe tbody tr th {\n",
       "        vertical-align: top;\n",
       "    }\n",
       "\n",
       "    .dataframe thead th {\n",
       "        text-align: right;\n",
       "    }\n",
       "</style>\n",
       "<table border=\"1\" class=\"dataframe\">\n",
       "  <thead>\n",
       "    <tr style=\"text-align: right;\">\n",
       "      <th></th>\n",
       "      <th>Date</th>\n",
       "      <th>Product</th>\n",
       "      <th>Sales</th>\n",
       "    </tr>\n",
       "  </thead>\n",
       "  <tbody>\n",
       "    <tr>\n",
       "      <th>0</th>\n",
       "      <td>2024-01-01</td>\n",
       "      <td>Product A</td>\n",
       "      <td>450.0</td>\n",
       "    </tr>\n",
       "    <tr>\n",
       "      <th>1</th>\n",
       "      <td>2024-01-02</td>\n",
       "      <td>Product B</td>\n",
       "      <td>510.0</td>\n",
       "    </tr>\n",
       "    <tr>\n",
       "      <th>2</th>\n",
       "      <td>2024-01-03</td>\n",
       "      <td>Product C</td>\n",
       "      <td>NaN</td>\n",
       "    </tr>\n",
       "    <tr>\n",
       "      <th>3</th>\n",
       "      <td>2024-01-04</td>\n",
       "      <td>Product A</td>\n",
       "      <td>600.0</td>\n",
       "    </tr>\n",
       "    <tr>\n",
       "      <th>4</th>\n",
       "      <td>2024-01-05</td>\n",
       "      <td>Product B</td>\n",
       "      <td>NaN</td>\n",
       "    </tr>\n",
       "    <tr>\n",
       "      <th>5</th>\n",
       "      <td>2024-01-06</td>\n",
       "      <td>Product C</td>\n",
       "      <td>700.0</td>\n",
       "    </tr>\n",
       "  </tbody>\n",
       "</table>\n",
       "</div>"
      ],
      "text/plain": [
       "         Date    Product  Sales\n",
       "0  2024-01-01  Product A  450.0\n",
       "1  2024-01-02  Product B  510.0\n",
       "2  2024-01-03  Product C    NaN\n",
       "3  2024-01-04  Product A  600.0\n",
       "4  2024-01-05  Product B    NaN\n",
       "5  2024-01-06  Product C  700.0"
      ]
     },
     "execution_count": 33,
     "metadata": {},
     "output_type": "execute_result"
    }
   ],
   "source": [
    "df = pd.DataFrame(xlsx)\n",
    "df"
   ]
  },
  {
   "cell_type": "markdown",
   "id": "12e559c3",
   "metadata": {},
   "source": [
    "Use label-based indexing (```.loc```) to retrieve and display the record for \"2024-01-03\"."
   ]
  },
  {
   "cell_type": "code",
   "execution_count": 34,
   "id": "33c41adc",
   "metadata": {},
   "outputs": [
    {
     "data": {
      "text/html": [
       "<div>\n",
       "<style scoped>\n",
       "    .dataframe tbody tr th:only-of-type {\n",
       "        vertical-align: middle;\n",
       "    }\n",
       "\n",
       "    .dataframe tbody tr th {\n",
       "        vertical-align: top;\n",
       "    }\n",
       "\n",
       "    .dataframe thead th {\n",
       "        text-align: right;\n",
       "    }\n",
       "</style>\n",
       "<table border=\"1\" class=\"dataframe\">\n",
       "  <thead>\n",
       "    <tr style=\"text-align: right;\">\n",
       "      <th></th>\n",
       "      <th>Date</th>\n",
       "      <th>Product</th>\n",
       "      <th>Sales</th>\n",
       "    </tr>\n",
       "  </thead>\n",
       "  <tbody>\n",
       "    <tr>\n",
       "      <th>2</th>\n",
       "      <td>2024-01-03</td>\n",
       "      <td>Product C</td>\n",
       "      <td>NaN</td>\n",
       "    </tr>\n",
       "  </tbody>\n",
       "</table>\n",
       "</div>"
      ],
      "text/plain": [
       "         Date    Product  Sales\n",
       "2  2024-01-03  Product C    NaN"
      ]
     },
     "execution_count": 34,
     "metadata": {},
     "output_type": "execute_result"
    }
   ],
   "source": [
    "df.loc[df['Date'] == '2024-01-03']"
   ]
  },
  {
   "cell_type": "markdown",
   "id": "ca0f3dc4",
   "metadata": {},
   "source": [
    "Use label-based indexing (```.loc```) to display the \"Product\" and \"Sales\" columns for the record on \"2024-01-05\"."
   ]
  },
  {
   "cell_type": "code",
   "execution_count": 35,
   "id": "8da72676",
   "metadata": {},
   "outputs": [
    {
     "data": {
      "text/html": [
       "<div>\n",
       "<style scoped>\n",
       "    .dataframe tbody tr th:only-of-type {\n",
       "        vertical-align: middle;\n",
       "    }\n",
       "\n",
       "    .dataframe tbody tr th {\n",
       "        vertical-align: top;\n",
       "    }\n",
       "\n",
       "    .dataframe thead th {\n",
       "        text-align: right;\n",
       "    }\n",
       "</style>\n",
       "<table border=\"1\" class=\"dataframe\">\n",
       "  <thead>\n",
       "    <tr style=\"text-align: right;\">\n",
       "      <th></th>\n",
       "      <th>Product</th>\n",
       "      <th>Sales</th>\n",
       "    </tr>\n",
       "  </thead>\n",
       "  <tbody>\n",
       "    <tr>\n",
       "      <th>4</th>\n",
       "      <td>Product B</td>\n",
       "      <td>NaN</td>\n",
       "    </tr>\n",
       "  </tbody>\n",
       "</table>\n",
       "</div>"
      ],
      "text/plain": [
       "     Product  Sales\n",
       "4  Product B    NaN"
      ]
     },
     "execution_count": 35,
     "metadata": {},
     "output_type": "execute_result"
    }
   ],
   "source": [
    "df.loc[df['Date'] == '2024-01-05', ['Product', 'Sales']]"
   ]
  },
  {
   "cell_type": "markdown",
   "id": "796805ee",
   "metadata": {},
   "source": [
    "Use label-based indexing (```.loc```) to display records from \"2024-01-02\" to \"2024-01-05\"."
   ]
  },
  {
   "cell_type": "code",
   "execution_count": 36,
   "id": "44dd5f34",
   "metadata": {},
   "outputs": [
    {
     "data": {
      "text/html": [
       "<div>\n",
       "<style scoped>\n",
       "    .dataframe tbody tr th:only-of-type {\n",
       "        vertical-align: middle;\n",
       "    }\n",
       "\n",
       "    .dataframe tbody tr th {\n",
       "        vertical-align: top;\n",
       "    }\n",
       "\n",
       "    .dataframe thead th {\n",
       "        text-align: right;\n",
       "    }\n",
       "</style>\n",
       "<table border=\"1\" class=\"dataframe\">\n",
       "  <thead>\n",
       "    <tr style=\"text-align: right;\">\n",
       "      <th></th>\n",
       "      <th>Date</th>\n",
       "      <th>Product</th>\n",
       "      <th>Sales</th>\n",
       "    </tr>\n",
       "  </thead>\n",
       "  <tbody>\n",
       "    <tr>\n",
       "      <th>1</th>\n",
       "      <td>2024-01-02</td>\n",
       "      <td>Product B</td>\n",
       "      <td>510.0</td>\n",
       "    </tr>\n",
       "    <tr>\n",
       "      <th>2</th>\n",
       "      <td>2024-01-03</td>\n",
       "      <td>Product C</td>\n",
       "      <td>NaN</td>\n",
       "    </tr>\n",
       "    <tr>\n",
       "      <th>3</th>\n",
       "      <td>2024-01-04</td>\n",
       "      <td>Product A</td>\n",
       "      <td>600.0</td>\n",
       "    </tr>\n",
       "    <tr>\n",
       "      <th>4</th>\n",
       "      <td>2024-01-05</td>\n",
       "      <td>Product B</td>\n",
       "      <td>NaN</td>\n",
       "    </tr>\n",
       "  </tbody>\n",
       "</table>\n",
       "</div>"
      ],
      "text/plain": [
       "         Date    Product  Sales\n",
       "1  2024-01-02  Product B  510.0\n",
       "2  2024-01-03  Product C    NaN\n",
       "3  2024-01-04  Product A  600.0\n",
       "4  2024-01-05  Product B    NaN"
      ]
     },
     "execution_count": 36,
     "metadata": {},
     "output_type": "execute_result"
    }
   ],
   "source": [
    "df.loc[(df['Date'] >= '2024-01-02') & (df['Date'] <= '2024-01-05')]"
   ]
  },
  {
   "cell_type": "markdown",
   "id": "ec7c86a9",
   "metadata": {},
   "source": [
    "Use label-based indexing (```.loc```) to select all rows where the \"Product\" is \"Product A\", displaying only the \"Date\" and \"Sales\" columns."
   ]
  },
  {
   "cell_type": "code",
   "execution_count": 37,
   "id": "1bfd8d4a",
   "metadata": {},
   "outputs": [
    {
     "data": {
      "text/html": [
       "<div>\n",
       "<style scoped>\n",
       "    .dataframe tbody tr th:only-of-type {\n",
       "        vertical-align: middle;\n",
       "    }\n",
       "\n",
       "    .dataframe tbody tr th {\n",
       "        vertical-align: top;\n",
       "    }\n",
       "\n",
       "    .dataframe thead th {\n",
       "        text-align: right;\n",
       "    }\n",
       "</style>\n",
       "<table border=\"1\" class=\"dataframe\">\n",
       "  <thead>\n",
       "    <tr style=\"text-align: right;\">\n",
       "      <th></th>\n",
       "      <th>Date</th>\n",
       "      <th>Sales</th>\n",
       "    </tr>\n",
       "  </thead>\n",
       "  <tbody>\n",
       "    <tr>\n",
       "      <th>0</th>\n",
       "      <td>2024-01-01</td>\n",
       "      <td>450.0</td>\n",
       "    </tr>\n",
       "    <tr>\n",
       "      <th>3</th>\n",
       "      <td>2024-01-04</td>\n",
       "      <td>600.0</td>\n",
       "    </tr>\n",
       "  </tbody>\n",
       "</table>\n",
       "</div>"
      ],
      "text/plain": [
       "         Date  Sales\n",
       "0  2024-01-01  450.0\n",
       "3  2024-01-04  600.0"
      ]
     },
     "execution_count": 37,
     "metadata": {},
     "output_type": "execute_result"
    }
   ],
   "source": [
    "df.loc[df['Product'] == 'Product A', ['Date', 'Sales']]"
   ]
  },
  {
   "cell_type": "markdown",
   "id": "d96a6c52",
   "metadata": {},
   "source": [
    "Modify the \"Sales\" value for \"2024-01-03\" to 550 using ```.loc```, then display the updated row."
   ]
  },
  {
   "cell_type": "code",
   "execution_count": 38,
   "id": "f5e8e7ce",
   "metadata": {},
   "outputs": [
    {
     "data": {
      "text/html": [
       "<div>\n",
       "<style scoped>\n",
       "    .dataframe tbody tr th:only-of-type {\n",
       "        vertical-align: middle;\n",
       "    }\n",
       "\n",
       "    .dataframe tbody tr th {\n",
       "        vertical-align: top;\n",
       "    }\n",
       "\n",
       "    .dataframe thead th {\n",
       "        text-align: right;\n",
       "    }\n",
       "</style>\n",
       "<table border=\"1\" class=\"dataframe\">\n",
       "  <thead>\n",
       "    <tr style=\"text-align: right;\">\n",
       "      <th></th>\n",
       "      <th>Date</th>\n",
       "      <th>Product</th>\n",
       "      <th>Sales</th>\n",
       "    </tr>\n",
       "  </thead>\n",
       "  <tbody>\n",
       "    <tr>\n",
       "      <th>2</th>\n",
       "      <td>2024-01-03</td>\n",
       "      <td>Product C</td>\n",
       "      <td>550.0</td>\n",
       "    </tr>\n",
       "  </tbody>\n",
       "</table>\n",
       "</div>"
      ],
      "text/plain": [
       "         Date    Product  Sales\n",
       "2  2024-01-03  Product C  550.0"
      ]
     },
     "execution_count": 38,
     "metadata": {},
     "output_type": "execute_result"
    }
   ],
   "source": [
    "df.loc[df['Date'] == '2024-01-03', 'Sales'] = 550\n",
    "df.loc[df['Date'] == '2024-01-03']"
   ]
  }
 ],
 "metadata": {
  "kernelspec": {
   "display_name": "dav",
   "language": "python",
   "name": "python3"
  },
  "language_info": {
   "codemirror_mode": {
    "name": "ipython",
    "version": 3
   },
   "file_extension": ".py",
   "mimetype": "text/x-python",
   "name": "python",
   "nbconvert_exporter": "python",
   "pygments_lexer": "ipython3",
   "version": "3.13.2"
  }
 },
 "nbformat": 4,
 "nbformat_minor": 5
}
